{
  "nbformat": 4,
  "nbformat_minor": 0,
  "metadata": {
    "colab": {
      "provenance": [],
      "authorship_tag": "ABX9TyPeEYZuEE2JY1yWUZs1xf+x",
      "include_colab_link": true
    },
    "kernelspec": {
      "name": "python3",
      "display_name": "Python 3"
    },
    "language_info": {
      "name": "python"
    }
  },
  "cells": [
    {
      "cell_type": "markdown",
      "metadata": {
        "id": "view-in-github",
        "colab_type": "text"
      },
      "source": [
        "<a href=\"https://colab.research.google.com/github/shahzaibahmad80/Python_Basics/blob/main/Python_Basics.ipynb\" target=\"_parent\"><img src=\"https://colab.research.google.com/assets/colab-badge.svg\" alt=\"Open In Colab\"/></a>"
      ]
    },
    {
      "cell_type": "code",
      "execution_count": null,
      "metadata": {
        "id": "lyHIC3truikC"
      },
      "outputs": [],
      "source": [
        "my_list = [2,3,5,6,7,45,66,78,4,6,3,7,8]"
      ]
    },
    {
      "cell_type": "code",
      "source": [
        "my_list"
      ],
      "metadata": {
        "colab": {
          "base_uri": "https://localhost:8080/"
        },
        "id": "yMPuT1OwutU1",
        "outputId": "4a51cb08-b230-42d1-b244-c45498c641b3"
      },
      "execution_count": null,
      "outputs": [
        {
          "output_type": "execute_result",
          "data": {
            "text/plain": [
              "[2, 3, 5, 6, 7, 45, 66, 78, 4, 6, 3, 7, 8]"
            ]
          },
          "metadata": {},
          "execution_count": 2
        }
      ]
    },
    {
      "cell_type": "code",
      "source": [
        "my_list"
      ],
      "metadata": {
        "colab": {
          "base_uri": "https://localhost:8080/"
        },
        "id": "ZUUpRNzIuzUc",
        "outputId": "4221988e-7a4d-4932-9b7e-70ac246d8e58"
      },
      "execution_count": null,
      "outputs": [
        {
          "output_type": "execute_result",
          "data": {
            "text/plain": [
              "[2, 3, 5, 6, 7, 45, 66, 78, 4, 6, 3, 7, 8]"
            ]
          },
          "metadata": {},
          "execution_count": 3
        }
      ]
    },
    {
      "cell_type": "code",
      "source": [
        "my_list[-5:]"
      ],
      "metadata": {
        "colab": {
          "base_uri": "https://localhost:8080/"
        },
        "id": "DCeprKYIu1sU",
        "outputId": "0fd1e31a-3700-49a9-c61b-ce569eeb6833"
      },
      "execution_count": null,
      "outputs": [
        {
          "output_type": "execute_result",
          "data": {
            "text/plain": [
              "[4, 6, 3, 7, 8]"
            ]
          },
          "metadata": {},
          "execution_count": 4
        }
      ]
    },
    {
      "cell_type": "code",
      "source": [
        "my_new_list = [2,45,80]"
      ],
      "metadata": {
        "id": "oFcsezvpvW6v"
      },
      "execution_count": null,
      "outputs": []
    },
    {
      "cell_type": "code",
      "source": [
        "my_new_list"
      ],
      "metadata": {
        "colab": {
          "base_uri": "https://localhost:8080/"
        },
        "id": "V--O2VmVv9ES",
        "outputId": "5077d72c-df77-43ba-8fff-518b361bf453"
      },
      "execution_count": null,
      "outputs": [
        {
          "output_type": "execute_result",
          "data": {
            "text/plain": [
              "[2, 45, 80]"
            ]
          },
          "metadata": {},
          "execution_count": 6
        }
      ]
    },
    {
      "cell_type": "code",
      "source": [
        "my_list.extend(my_new_list)"
      ],
      "metadata": {
        "id": "M7D8b9iSv-es"
      },
      "execution_count": null,
      "outputs": []
    },
    {
      "cell_type": "code",
      "source": [
        "my_list"
      ],
      "metadata": {
        "colab": {
          "base_uri": "https://localhost:8080/"
        },
        "id": "emNOcmQbwHpT",
        "outputId": "687b04a4-e823-4a42-f499-45323443cac0"
      },
      "execution_count": null,
      "outputs": [
        {
          "output_type": "execute_result",
          "data": {
            "text/plain": [
              "[2, 3, 5, 6, 7, 45, 66, 78, 4, 6, 3, 7, 8, 2, 45, 80]"
            ]
          },
          "metadata": {},
          "execution_count": 8
        }
      ]
    },
    {
      "cell_type": "code",
      "source": [
        "my_list.append(33,44,55)"
      ],
      "metadata": {
        "colab": {
          "base_uri": "https://localhost:8080/",
          "height": 141
        },
        "id": "x-WM2vRYwTkk",
        "outputId": "fc1f5b0c-60f5-4df9-a5e3-2292885d578d"
      },
      "execution_count": null,
      "outputs": [
        {
          "output_type": "error",
          "ename": "TypeError",
          "evalue": "list.append() takes exactly one argument (3 given)",
          "traceback": [
            "\u001b[0;31m---------------------------------------------------------------------------\u001b[0m",
            "\u001b[0;31mTypeError\u001b[0m                                 Traceback (most recent call last)",
            "\u001b[0;32m/tmp/ipython-input-9-1554956408.py\u001b[0m in \u001b[0;36m<cell line: 0>\u001b[0;34m()\u001b[0m\n\u001b[0;32m----> 1\u001b[0;31m \u001b[0mmy_list\u001b[0m\u001b[0;34m.\u001b[0m\u001b[0mappend\u001b[0m\u001b[0;34m(\u001b[0m\u001b[0;36m33\u001b[0m\u001b[0;34m,\u001b[0m\u001b[0;36m44\u001b[0m\u001b[0;34m,\u001b[0m\u001b[0;36m55\u001b[0m\u001b[0;34m)\u001b[0m\u001b[0;34m\u001b[0m\u001b[0;34m\u001b[0m\u001b[0m\n\u001b[0m",
            "\u001b[0;31mTypeError\u001b[0m: list.append() takes exactly one argument (3 given)"
          ]
        }
      ]
    },
    {
      "cell_type": "code",
      "source": [
        "my_list"
      ],
      "metadata": {
        "id": "FIx74-vWwblg"
      },
      "execution_count": null,
      "outputs": []
    },
    {
      "cell_type": "code",
      "source": [
        "my_list.insert(5,8)"
      ],
      "metadata": {
        "id": "zY7umqSTwctM"
      },
      "execution_count": null,
      "outputs": []
    },
    {
      "cell_type": "code",
      "source": [
        "my_list"
      ],
      "metadata": {
        "id": "1m8iN65yxWAh"
      },
      "execution_count": null,
      "outputs": []
    },
    {
      "cell_type": "code",
      "source": [
        "my_list.pop(-1)"
      ],
      "metadata": {
        "id": "LAQc-DXbxW58"
      },
      "execution_count": null,
      "outputs": []
    },
    {
      "cell_type": "code",
      "source": [
        "my_list"
      ],
      "metadata": {
        "id": "EcogFbzPxjYz"
      },
      "execution_count": null,
      "outputs": []
    },
    {
      "cell_type": "code",
      "source": [
        "my_list.pop()"
      ],
      "metadata": {
        "id": "tBRj4HLsxoKH"
      },
      "execution_count": null,
      "outputs": []
    },
    {
      "cell_type": "code",
      "source": [
        "my_list"
      ],
      "metadata": {
        "id": "gZJ9AaEoxuKf"
      },
      "execution_count": null,
      "outputs": []
    },
    {
      "cell_type": "code",
      "source": [
        "len(my_list)"
      ],
      "metadata": {
        "id": "x0yT57hnxvgq"
      },
      "execution_count": null,
      "outputs": []
    },
    {
      "cell_type": "code",
      "source": [
        "my_list.remove(45)"
      ],
      "metadata": {
        "id": "12h3v2ZGx7QK"
      },
      "execution_count": null,
      "outputs": []
    },
    {
      "cell_type": "code",
      "source": [
        "my_list.sort()"
      ],
      "metadata": {
        "id": "av7p4e-RyLIA"
      },
      "execution_count": null,
      "outputs": []
    },
    {
      "cell_type": "code",
      "source": [
        "my_list"
      ],
      "metadata": {
        "id": "Mk0K4oofyRik"
      },
      "execution_count": null,
      "outputs": []
    },
    {
      "cell_type": "code",
      "source": [
        "my_list.sorted()"
      ],
      "metadata": {
        "id": "OLaG6O5UySwW"
      },
      "execution_count": null,
      "outputs": []
    },
    {
      "cell_type": "code",
      "source": [
        "sorted(my_list)"
      ],
      "metadata": {
        "id": "-wJBZDbGyXpr"
      },
      "execution_count": null,
      "outputs": []
    },
    {
      "cell_type": "code",
      "source": [
        "reversed(my_list)"
      ],
      "metadata": {
        "id": "65_qMsO5yd7g"
      },
      "execution_count": null,
      "outputs": []
    },
    {
      "cell_type": "code",
      "source": [
        "reverse = reversed(my_list)"
      ],
      "metadata": {
        "id": "Ls9gYElzyhHb"
      },
      "execution_count": null,
      "outputs": []
    },
    {
      "cell_type": "code",
      "source": [
        "reverse"
      ],
      "metadata": {
        "id": "nUYVeH6pynbt"
      },
      "execution_count": null,
      "outputs": []
    },
    {
      "cell_type": "code",
      "source": [
        "print(reverse)"
      ],
      "metadata": {
        "id": "rJBaYfXuyo6B",
        "colab": {
          "base_uri": "https://localhost:8080/",
          "height": 141
        },
        "outputId": "b5f8546a-410f-4348-c50c-b6cd9f551cc4"
      },
      "execution_count": null,
      "outputs": [
        {
          "output_type": "error",
          "ename": "NameError",
          "evalue": "name 'reverse' is not defined",
          "traceback": [
            "\u001b[0;31m---------------------------------------------------------------------------\u001b[0m",
            "\u001b[0;31mNameError\u001b[0m                                 Traceback (most recent call last)",
            "\u001b[0;32m/tmp/ipython-input-10-1624333309.py\u001b[0m in \u001b[0;36m<cell line: 0>\u001b[0;34m()\u001b[0m\n\u001b[0;32m----> 1\u001b[0;31m \u001b[0mprint\u001b[0m\u001b[0;34m(\u001b[0m\u001b[0mreverse\u001b[0m\u001b[0;34m)\u001b[0m\u001b[0;34m\u001b[0m\u001b[0;34m\u001b[0m\u001b[0m\n\u001b[0m",
            "\u001b[0;31mNameError\u001b[0m: name 'reverse' is not defined"
          ]
        }
      ]
    },
    {
      "cell_type": "code",
      "source": [
        "my_list.reverse()"
      ],
      "metadata": {
        "id": "ZEc_SmlRysK7"
      },
      "execution_count": null,
      "outputs": []
    },
    {
      "cell_type": "code",
      "source": [
        "my_list"
      ],
      "metadata": {
        "id": "dZEA4oKmy10T",
        "colab": {
          "base_uri": "https://localhost:8080/"
        },
        "outputId": "5630b52c-caef-4f33-fee2-351b5163b8f4"
      },
      "execution_count": null,
      "outputs": [
        {
          "output_type": "execute_result",
          "data": {
            "text/plain": [
              "[2, 3, 5, 6, 7, 45, 66, 78, 4, 6, 3, 7, 8, 2, 45, 80]"
            ]
          },
          "metadata": {},
          "execution_count": 11
        }
      ]
    },
    {
      "cell_type": "code",
      "source": [
        "my_list.clear()"
      ],
      "metadata": {
        "id": "mSRFVuFxy3FZ"
      },
      "execution_count": null,
      "outputs": []
    },
    {
      "cell_type": "code",
      "source": [
        "my_list"
      ],
      "metadata": {
        "id": "ScNFHmKZzave",
        "colab": {
          "base_uri": "https://localhost:8080/"
        },
        "outputId": "37c34415-ab29-4444-fc5f-fdf0399bb80e"
      },
      "execution_count": null,
      "outputs": [
        {
          "output_type": "execute_result",
          "data": {
            "text/plain": [
              "[]"
            ]
          },
          "metadata": {},
          "execution_count": 13
        }
      ]
    },
    {
      "cell_type": "markdown",
      "source": [
        "**Tuple**"
      ],
      "metadata": {
        "id": "H1YJQ_unzoOi"
      }
    },
    {
      "cell_type": "code",
      "source": [
        "my_typle = (0, 78, 66, 45, 33, 8, 8, 7, 7, 6, 6, 5, 4, 3, 3, 2, 2)"
      ],
      "metadata": {
        "id": "HncD73D6zcrp"
      },
      "execution_count": null,
      "outputs": []
    },
    {
      "cell_type": "code",
      "source": [
        "my_typle"
      ],
      "metadata": {
        "id": "xcGvxHGa0JUm",
        "colab": {
          "base_uri": "https://localhost:8080/"
        },
        "outputId": "1b75c1a6-d057-4537-e915-67d36fa3880d"
      },
      "execution_count": null,
      "outputs": [
        {
          "output_type": "execute_result",
          "data": {
            "text/plain": [
              "(0, 78, 66, 45, 33, 8, 8, 7, 7, 6, 6, 5, 4, 3, 3, 2, 2)"
            ]
          },
          "metadata": {},
          "execution_count": 15
        }
      ]
    },
    {
      "cell_type": "code",
      "source": [
        "my_typle.count(7)"
      ],
      "metadata": {
        "id": "_gdRU4jc0Lr5",
        "colab": {
          "base_uri": "https://localhost:8080/"
        },
        "outputId": "42c4401f-a644-44c0-bf3a-611463aef52d"
      },
      "execution_count": null,
      "outputs": [
        {
          "output_type": "execute_result",
          "data": {
            "text/plain": [
              "2"
            ]
          },
          "metadata": {},
          "execution_count": 16
        }
      ]
    },
    {
      "cell_type": "code",
      "source": [
        "len(my_typle)"
      ],
      "metadata": {
        "id": "HHm8m5PK0aWn",
        "colab": {
          "base_uri": "https://localhost:8080/"
        },
        "outputId": "a75fc61c-e81c-43a9-821a-b2d9f451465b"
      },
      "execution_count": null,
      "outputs": [
        {
          "output_type": "execute_result",
          "data": {
            "text/plain": [
              "17"
            ]
          },
          "metadata": {},
          "execution_count": 17
        }
      ]
    },
    {
      "cell_type": "code",
      "source": [
        "my_typle.index(78)"
      ],
      "metadata": {
        "id": "PlneH-Wa0nDE",
        "colab": {
          "base_uri": "https://localhost:8080/"
        },
        "outputId": "3a5b4a09-219e-4e97-97c8-98d4f2669001"
      },
      "execution_count": null,
      "outputs": [
        {
          "output_type": "execute_result",
          "data": {
            "text/plain": [
              "1"
            ]
          },
          "metadata": {},
          "execution_count": 18
        }
      ]
    },
    {
      "cell_type": "code",
      "source": [
        "my_typle[5]"
      ],
      "metadata": {
        "id": "BO3vndZn1D4N",
        "colab": {
          "base_uri": "https://localhost:8080/"
        },
        "outputId": "fe3c3eb3-8536-4bf7-86ab-38ec3a6ddf0b"
      },
      "execution_count": null,
      "outputs": [
        {
          "output_type": "execute_result",
          "data": {
            "text/plain": [
              "8"
            ]
          },
          "metadata": {},
          "execution_count": 19
        }
      ]
    },
    {
      "cell_type": "code",
      "source": [
        "my_typle.sorted()"
      ],
      "metadata": {
        "id": "NSsvEPxX1k0x",
        "colab": {
          "base_uri": "https://localhost:8080/",
          "height": 141
        },
        "outputId": "e05eaca2-30a4-4de7-bc60-9f8b21911e90"
      },
      "execution_count": null,
      "outputs": [
        {
          "output_type": "error",
          "ename": "AttributeError",
          "evalue": "'tuple' object has no attribute 'sorted'",
          "traceback": [
            "\u001b[0;31m---------------------------------------------------------------------------\u001b[0m",
            "\u001b[0;31mAttributeError\u001b[0m                            Traceback (most recent call last)",
            "\u001b[0;32m/tmp/ipython-input-20-697180012.py\u001b[0m in \u001b[0;36m<cell line: 0>\u001b[0;34m()\u001b[0m\n\u001b[0;32m----> 1\u001b[0;31m \u001b[0mmy_typle\u001b[0m\u001b[0;34m.\u001b[0m\u001b[0msorted\u001b[0m\u001b[0;34m(\u001b[0m\u001b[0;34m)\u001b[0m\u001b[0;34m\u001b[0m\u001b[0;34m\u001b[0m\u001b[0m\n\u001b[0m",
            "\u001b[0;31mAttributeError\u001b[0m: 'tuple' object has no attribute 'sorted'"
          ]
        }
      ]
    },
    {
      "cell_type": "code",
      "source": [
        "sorted(my_typle)"
      ],
      "metadata": {
        "id": "33RQNmKc2dfH",
        "colab": {
          "base_uri": "https://localhost:8080/"
        },
        "outputId": "20010ad0-fa09-4463-93ad-43910e879e18"
      },
      "execution_count": null,
      "outputs": [
        {
          "output_type": "execute_result",
          "data": {
            "text/plain": [
              "[0, 2, 2, 3, 3, 4, 5, 6, 6, 7, 7, 8, 8, 33, 45, 66, 78]"
            ]
          },
          "metadata": {},
          "execution_count": 21
        }
      ]
    },
    {
      "cell_type": "code",
      "source": [],
      "metadata": {
        "id": "EZFOghXd2mV_"
      },
      "execution_count": null,
      "outputs": []
    },
    {
      "cell_type": "markdown",
      "source": [
        "**Set (built in python data structure)**"
      ],
      "metadata": {
        "id": "ipPbFX7X3RKY"
      }
    },
    {
      "cell_type": "code",
      "source": [
        "my_set = {2,3,5,6,7,45,66,78,4,6,3,7,8}"
      ],
      "metadata": {
        "id": "n-imBzNv3XE1"
      },
      "execution_count": null,
      "outputs": []
    },
    {
      "cell_type": "code",
      "source": [
        "my_set.add(291)"
      ],
      "metadata": {
        "id": "Nvglnvw93sYG"
      },
      "execution_count": null,
      "outputs": []
    },
    {
      "cell_type": "code",
      "source": [
        "my_set"
      ],
      "metadata": {
        "id": "la-Zn8T54FG1",
        "colab": {
          "base_uri": "https://localhost:8080/"
        },
        "outputId": "4cfdbe24-0552-4503-c453-2cf1c81c8d02"
      },
      "execution_count": null,
      "outputs": [
        {
          "output_type": "execute_result",
          "data": {
            "text/plain": [
              "{2, 3, 4, 5, 6, 7, 8, 45, 66, 78, 291}"
            ]
          },
          "metadata": {},
          "execution_count": 24
        }
      ]
    },
    {
      "cell_type": "code",
      "source": [
        "my_set.add(10)"
      ],
      "metadata": {
        "id": "2bvZx1bz4F_4"
      },
      "execution_count": null,
      "outputs": []
    },
    {
      "cell_type": "code",
      "source": [
        "my_set"
      ],
      "metadata": {
        "id": "JHN91upq4eHt",
        "colab": {
          "base_uri": "https://localhost:8080/"
        },
        "outputId": "d9feb792-f4de-43e4-dcf1-d6563c749300"
      },
      "execution_count": null,
      "outputs": [
        {
          "output_type": "execute_result",
          "data": {
            "text/plain": [
              "{2, 3, 4, 5, 6, 7, 8, 10, 45, 66, 78, 291}"
            ]
          },
          "metadata": {},
          "execution_count": 26
        }
      ]
    },
    {
      "cell_type": "code",
      "source": [
        "my_set.remove(4)"
      ],
      "metadata": {
        "id": "z3mK-dwv4o5n"
      },
      "execution_count": null,
      "outputs": []
    },
    {
      "cell_type": "code",
      "source": [
        "my_set"
      ],
      "metadata": {
        "id": "F5idaK0A5FYQ",
        "colab": {
          "base_uri": "https://localhost:8080/"
        },
        "outputId": "f4113d40-ba3e-4d65-cad7-6bd5008fdc87"
      },
      "execution_count": null,
      "outputs": [
        {
          "output_type": "execute_result",
          "data": {
            "text/plain": [
              "{2, 3, 5, 6, 7, 8, 10, 45, 66, 78, 291}"
            ]
          },
          "metadata": {},
          "execution_count": 28
        }
      ]
    },
    {
      "cell_type": "code",
      "source": [
        "my_set.pop()"
      ],
      "metadata": {
        "id": "QLrHtOKC5I3w",
        "colab": {
          "base_uri": "https://localhost:8080/"
        },
        "outputId": "c7982ae6-4d37-46de-8677-98458a5ba757"
      },
      "execution_count": null,
      "outputs": [
        {
          "output_type": "execute_result",
          "data": {
            "text/plain": [
              "2"
            ]
          },
          "metadata": {},
          "execution_count": 29
        }
      ]
    },
    {
      "cell_type": "code",
      "source": [
        "my_set"
      ],
      "metadata": {
        "id": "FbPxp9YW5W6m",
        "colab": {
          "base_uri": "https://localhost:8080/"
        },
        "outputId": "cb4c0763-9477-4af8-b454-7660b80b72c3"
      },
      "execution_count": null,
      "outputs": [
        {
          "output_type": "execute_result",
          "data": {
            "text/plain": [
              "{3, 5, 6, 7, 8, 10, 45, 66, 78, 291}"
            ]
          },
          "metadata": {},
          "execution_count": 30
        }
      ]
    },
    {
      "cell_type": "code",
      "source": [
        "my_set.remove(291)"
      ],
      "metadata": {
        "id": "YbG7s1DL5c7D"
      },
      "execution_count": null,
      "outputs": []
    },
    {
      "cell_type": "code",
      "source": [
        "my_set"
      ],
      "metadata": {
        "id": "YsHLwv-r5mU0",
        "colab": {
          "base_uri": "https://localhost:8080/"
        },
        "outputId": "a9eb8adf-d355-41a4-b5f3-9ff2a4b32e9d"
      },
      "execution_count": null,
      "outputs": [
        {
          "output_type": "execute_result",
          "data": {
            "text/plain": [
              "{3, 5, 6, 7, 8, 10, 45, 66, 78}"
            ]
          },
          "metadata": {},
          "execution_count": 32
        }
      ]
    },
    {
      "cell_type": "code",
      "source": [
        "sorted(my_set)"
      ],
      "metadata": {
        "id": "HVoPuqSD5rTb",
        "colab": {
          "base_uri": "https://localhost:8080/"
        },
        "outputId": "6e2a7094-27c8-4c82-b682-5ce66c16dabd"
      },
      "execution_count": null,
      "outputs": [
        {
          "output_type": "execute_result",
          "data": {
            "text/plain": [
              "[3, 5, 6, 7, 8, 10, 45, 66, 78]"
            ]
          },
          "metadata": {},
          "execution_count": 33
        }
      ]
    },
    {
      "cell_type": "code",
      "source": [
        "reversed(my_set)"
      ],
      "metadata": {
        "id": "VrL8akif5vDY",
        "colab": {
          "base_uri": "https://localhost:8080/",
          "height": 141
        },
        "outputId": "a49fe38c-30e4-4554-e620-c7e659dfae8f"
      },
      "execution_count": null,
      "outputs": [
        {
          "output_type": "error",
          "ename": "TypeError",
          "evalue": "'set' object is not reversible",
          "traceback": [
            "\u001b[0;31m---------------------------------------------------------------------------\u001b[0m",
            "\u001b[0;31mTypeError\u001b[0m                                 Traceback (most recent call last)",
            "\u001b[0;32m/tmp/ipython-input-34-1812287406.py\u001b[0m in \u001b[0;36m<cell line: 0>\u001b[0;34m()\u001b[0m\n\u001b[0;32m----> 1\u001b[0;31m \u001b[0mreversed\u001b[0m\u001b[0;34m(\u001b[0m\u001b[0mmy_set\u001b[0m\u001b[0;34m)\u001b[0m\u001b[0;34m\u001b[0m\u001b[0;34m\u001b[0m\u001b[0m\n\u001b[0m",
            "\u001b[0;31mTypeError\u001b[0m: 'set' object is not reversible"
          ]
        }
      ]
    },
    {
      "cell_type": "code",
      "source": [
        "my_set.update({100,200,300})"
      ],
      "metadata": {
        "id": "ZF3qg6oK51sW"
      },
      "execution_count": null,
      "outputs": []
    },
    {
      "cell_type": "code",
      "source": [
        "my_set"
      ],
      "metadata": {
        "id": "gkAMw7Vd6gmx",
        "colab": {
          "base_uri": "https://localhost:8080/"
        },
        "outputId": "dcab0e8d-c87c-4b3c-c2f7-b6ce72b7520c"
      },
      "execution_count": null,
      "outputs": [
        {
          "output_type": "execute_result",
          "data": {
            "text/plain": [
              "{3, 5, 6, 7, 8, 10, 45, 66, 78, 100, 200, 300}"
            ]
          },
          "metadata": {},
          "execution_count": 36
        }
      ]
    },
    {
      "cell_type": "code",
      "source": [
        "my_set.add(100,900)"
      ],
      "metadata": {
        "id": "UutOX1sQ6i4p",
        "colab": {
          "base_uri": "https://localhost:8080/",
          "height": 141
        },
        "outputId": "76f10479-d386-4022-b85d-104fa0bd605e"
      },
      "execution_count": null,
      "outputs": [
        {
          "output_type": "error",
          "ename": "TypeError",
          "evalue": "set.add() takes exactly one argument (2 given)",
          "traceback": [
            "\u001b[0;31m---------------------------------------------------------------------------\u001b[0m",
            "\u001b[0;31mTypeError\u001b[0m                                 Traceback (most recent call last)",
            "\u001b[0;32m/tmp/ipython-input-37-4018517872.py\u001b[0m in \u001b[0;36m<cell line: 0>\u001b[0;34m()\u001b[0m\n\u001b[0;32m----> 1\u001b[0;31m \u001b[0mmy_set\u001b[0m\u001b[0;34m.\u001b[0m\u001b[0madd\u001b[0m\u001b[0;34m(\u001b[0m\u001b[0;36m100\u001b[0m\u001b[0;34m,\u001b[0m\u001b[0;36m900\u001b[0m\u001b[0;34m)\u001b[0m\u001b[0;34m\u001b[0m\u001b[0;34m\u001b[0m\u001b[0m\n\u001b[0m",
            "\u001b[0;31mTypeError\u001b[0m: set.add() takes exactly one argument (2 given)"
          ]
        }
      ]
    },
    {
      "cell_type": "markdown",
      "source": [
        "**Dictionary Built in python DS**"
      ],
      "metadata": {
        "id": "6Kxgoxcw6--f"
      }
    },
    {
      "cell_type": "code",
      "source": [
        "my_dict = {'name': \"shahzaib\", 'age': 20, \"Address\": \"Islamabad\" }"
      ],
      "metadata": {
        "id": "0VRR76wZ6rmX"
      },
      "execution_count": null,
      "outputs": []
    },
    {
      "cell_type": "code",
      "source": [
        "my_dict"
      ],
      "metadata": {
        "id": "fisKg-_R7gmm",
        "colab": {
          "base_uri": "https://localhost:8080/"
        },
        "outputId": "3ae04d60-a26d-4dab-b5b8-2e7999d5fed8"
      },
      "execution_count": null,
      "outputs": [
        {
          "output_type": "execute_result",
          "data": {
            "text/plain": [
              "{'name': 'shahzaib', 'age': 20, 'Address': 'Islamabad'}"
            ]
          },
          "metadata": {},
          "execution_count": 39
        }
      ]
    },
    {
      "cell_type": "code",
      "source": [
        "my_dict.add('Country',\"USA\")"
      ],
      "metadata": {
        "id": "FIiMykOx7zCb",
        "colab": {
          "base_uri": "https://localhost:8080/",
          "height": 141
        },
        "outputId": "e6a86b58-06f1-4122-bb45-61eec4f7bf89"
      },
      "execution_count": null,
      "outputs": [
        {
          "output_type": "error",
          "ename": "AttributeError",
          "evalue": "'dict' object has no attribute 'add'",
          "traceback": [
            "\u001b[0;31m---------------------------------------------------------------------------\u001b[0m",
            "\u001b[0;31mAttributeError\u001b[0m                            Traceback (most recent call last)",
            "\u001b[0;32m/tmp/ipython-input-40-1670488387.py\u001b[0m in \u001b[0;36m<cell line: 0>\u001b[0;34m()\u001b[0m\n\u001b[0;32m----> 1\u001b[0;31m \u001b[0mmy_dict\u001b[0m\u001b[0;34m.\u001b[0m\u001b[0madd\u001b[0m\u001b[0;34m(\u001b[0m\u001b[0;34m'Country'\u001b[0m\u001b[0;34m,\u001b[0m\u001b[0;34m\"USA\"\u001b[0m\u001b[0;34m)\u001b[0m\u001b[0;34m\u001b[0m\u001b[0;34m\u001b[0m\u001b[0m\n\u001b[0m",
            "\u001b[0;31mAttributeError\u001b[0m: 'dict' object has no attribute 'add'"
          ]
        }
      ]
    },
    {
      "cell_type": "code",
      "source": [
        "my_dict['Country'] = \"USA\""
      ],
      "metadata": {
        "id": "XxjNj3KS8YGS"
      },
      "execution_count": null,
      "outputs": []
    },
    {
      "cell_type": "code",
      "source": [
        "my_dict"
      ],
      "metadata": {
        "id": "Ltnatg6h8hGZ",
        "colab": {
          "base_uri": "https://localhost:8080/"
        },
        "outputId": "0d396147-a1d8-43db-b53d-ab444fbc76c7"
      },
      "execution_count": null,
      "outputs": [
        {
          "output_type": "execute_result",
          "data": {
            "text/plain": [
              "{'name': 'shahzaib', 'age': 20, 'Address': 'Islamabad', 'Country': 'USA'}"
            ]
          },
          "metadata": {},
          "execution_count": 42
        }
      ]
    },
    {
      "cell_type": "code",
      "source": [
        "my_dict.remove('Country')"
      ],
      "metadata": {
        "id": "QsTucf8n8iDn",
        "colab": {
          "base_uri": "https://localhost:8080/",
          "height": 141
        },
        "outputId": "4ce3ad83-9183-4251-e7df-924688753f02"
      },
      "execution_count": null,
      "outputs": [
        {
          "output_type": "error",
          "ename": "AttributeError",
          "evalue": "'dict' object has no attribute 'remove'",
          "traceback": [
            "\u001b[0;31m---------------------------------------------------------------------------\u001b[0m",
            "\u001b[0;31mAttributeError\u001b[0m                            Traceback (most recent call last)",
            "\u001b[0;32m/tmp/ipython-input-43-4135393171.py\u001b[0m in \u001b[0;36m<cell line: 0>\u001b[0;34m()\u001b[0m\n\u001b[0;32m----> 1\u001b[0;31m \u001b[0mmy_dict\u001b[0m\u001b[0;34m.\u001b[0m\u001b[0mremove\u001b[0m\u001b[0;34m(\u001b[0m\u001b[0;34m'Country'\u001b[0m\u001b[0;34m)\u001b[0m\u001b[0;34m\u001b[0m\u001b[0;34m\u001b[0m\u001b[0m\n\u001b[0m",
            "\u001b[0;31mAttributeError\u001b[0m: 'dict' object has no attribute 'remove'"
          ]
        }
      ]
    },
    {
      "cell_type": "code",
      "source": [
        "my_dict.pop('Country')"
      ],
      "metadata": {
        "id": "FyXk4Z7k9PJN",
        "colab": {
          "base_uri": "https://localhost:8080/",
          "height": 35
        },
        "outputId": "d92c94b2-601c-4ce1-a92d-876f69464448"
      },
      "execution_count": null,
      "outputs": [
        {
          "output_type": "execute_result",
          "data": {
            "text/plain": [
              "'USA'"
            ],
            "application/vnd.google.colaboratory.intrinsic+json": {
              "type": "string"
            }
          },
          "metadata": {},
          "execution_count": 44
        }
      ]
    },
    {
      "cell_type": "code",
      "source": [
        "my_dict"
      ],
      "metadata": {
        "id": "eZT33Ty-9S6I",
        "colab": {
          "base_uri": "https://localhost:8080/"
        },
        "outputId": "17862c70-6b4b-4bb1-c3a8-72c3e4be1efe"
      },
      "execution_count": null,
      "outputs": [
        {
          "output_type": "execute_result",
          "data": {
            "text/plain": [
              "{'name': 'shahzaib', 'age': 20, 'Address': 'Islamabad'}"
            ]
          },
          "metadata": {},
          "execution_count": 45
        }
      ]
    },
    {
      "cell_type": "code",
      "source": [
        "sorted(my_dict)"
      ],
      "metadata": {
        "id": "oojc5xms9bV9",
        "colab": {
          "base_uri": "https://localhost:8080/"
        },
        "outputId": "e044939e-7879-4bbd-ca6d-d06c927a21c0"
      },
      "execution_count": null,
      "outputs": [
        {
          "output_type": "execute_result",
          "data": {
            "text/plain": [
              "['Address', 'age', 'name']"
            ]
          },
          "metadata": {},
          "execution_count": 46
        }
      ]
    },
    {
      "cell_type": "code",
      "source": [
        "my_dict"
      ],
      "metadata": {
        "id": "5vCgrVky-cu8",
        "colab": {
          "base_uri": "https://localhost:8080/"
        },
        "outputId": "5e72bbd4-a56e-4c6c-fede-a03188427262"
      },
      "execution_count": null,
      "outputs": [
        {
          "output_type": "execute_result",
          "data": {
            "text/plain": [
              "{'name': 'shahzaib', 'age': 20, 'Address': 'Islamabad'}"
            ]
          },
          "metadata": {},
          "execution_count": 47
        }
      ]
    },
    {
      "cell_type": "code",
      "source": [
        "my_new_sorted = sorted(my_dict)"
      ],
      "metadata": {
        "id": "Pm4jBb2y-g4i"
      },
      "execution_count": null,
      "outputs": []
    },
    {
      "cell_type": "code",
      "source": [
        "my_new_sorted"
      ],
      "metadata": {
        "id": "1eO51aFy-r3o",
        "colab": {
          "base_uri": "https://localhost:8080/"
        },
        "outputId": "3da8e168-cbac-4888-8d09-f16ff8333c32"
      },
      "execution_count": null,
      "outputs": [
        {
          "output_type": "execute_result",
          "data": {
            "text/plain": [
              "['Address', 'age', 'name']"
            ]
          },
          "metadata": {},
          "execution_count": 49
        }
      ]
    },
    {
      "cell_type": "code",
      "source": [
        "my_dict['city','country'] = \"isb\" , \"pakstan\""
      ],
      "metadata": {
        "id": "8pC-Anqo_LDy"
      },
      "execution_count": null,
      "outputs": []
    },
    {
      "cell_type": "code",
      "source": [
        "my_dict"
      ],
      "metadata": {
        "id": "WLYB3_M__zK1",
        "colab": {
          "base_uri": "https://localhost:8080/"
        },
        "outputId": "f1747ba8-9246-4ad0-a1f5-9aa7c0fa4933"
      },
      "execution_count": null,
      "outputs": [
        {
          "output_type": "execute_result",
          "data": {
            "text/plain": [
              "{'name': 'shahzaib',\n",
              " 'age': 20,\n",
              " 'Address': 'Islamabad',\n",
              " ('city', 'country'): ('isb', 'pakstan')}"
            ]
          },
          "metadata": {},
          "execution_count": 51
        }
      ]
    },
    {
      "cell_type": "code",
      "source": [
        "print(my_dict)"
      ],
      "metadata": {
        "id": "OgkcRG_S_0S9",
        "colab": {
          "base_uri": "https://localhost:8080/"
        },
        "outputId": "60439531-4edf-4992-ff1a-f63a2ee55f9b"
      },
      "execution_count": null,
      "outputs": [
        {
          "output_type": "stream",
          "name": "stdout",
          "text": [
            "{'name': 'shahzaib', 'age': 20, 'Address': 'Islamabad', ('city', 'country'): ('isb', 'pakstan')}\n"
          ]
        }
      ]
    },
    {
      "cell_type": "code",
      "source": [
        "my_dict.update({'city': 'isb', 'country': 'pakistan'})"
      ],
      "metadata": {
        "id": "GKeDbIaT_4Zt"
      },
      "execution_count": null,
      "outputs": []
    },
    {
      "cell_type": "code",
      "source": [
        "my_dict"
      ],
      "metadata": {
        "id": "ueepe-BBARuy",
        "colab": {
          "base_uri": "https://localhost:8080/"
        },
        "outputId": "1ac11ed9-b56d-4691-a71a-6c01fc7c49d1"
      },
      "execution_count": null,
      "outputs": [
        {
          "output_type": "execute_result",
          "data": {
            "text/plain": [
              "{'name': 'shahzaib',\n",
              " 'age': 20,\n",
              " 'Address': 'Islamabad',\n",
              " ('city', 'country'): ('isb', 'pakstan'),\n",
              " 'city': 'isb',\n",
              " 'country': 'pakistan'}"
            ]
          },
          "metadata": {},
          "execution_count": 54
        }
      ]
    },
    {
      "cell_type": "code",
      "source": [
        "print(my_dict)"
      ],
      "metadata": {
        "id": "s5LQFrkhATKd",
        "colab": {
          "base_uri": "https://localhost:8080/"
        },
        "outputId": "866aaa27-03ff-48c4-a972-e43883713db7"
      },
      "execution_count": null,
      "outputs": [
        {
          "output_type": "stream",
          "name": "stdout",
          "text": [
            "{'name': 'shahzaib', 'age': 20, 'Address': 'Islamabad', ('city', 'country'): ('isb', 'pakstan'), 'city': 'isb', 'country': 'pakistan'}\n"
          ]
        }
      ]
    },
    {
      "cell_type": "code",
      "source": [
        "my_dict.pop('city')"
      ],
      "metadata": {
        "id": "R4x7FLooAV5G",
        "colab": {
          "base_uri": "https://localhost:8080/",
          "height": 35
        },
        "outputId": "3c5f6ed2-4393-44e5-a25f-8c5acc0a80e5"
      },
      "execution_count": null,
      "outputs": [
        {
          "output_type": "execute_result",
          "data": {
            "text/plain": [
              "'isb'"
            ],
            "application/vnd.google.colaboratory.intrinsic+json": {
              "type": "string"
            }
          },
          "metadata": {},
          "execution_count": 56
        }
      ]
    },
    {
      "cell_type": "code",
      "source": [
        "my_dict.pop( ('city', 'country'))"
      ],
      "metadata": {
        "id": "vYWWi-ZxAewL",
        "colab": {
          "base_uri": "https://localhost:8080/"
        },
        "outputId": "fc645d31-3f9e-4ffc-a707-d7d54a50f600"
      },
      "execution_count": null,
      "outputs": [
        {
          "output_type": "execute_result",
          "data": {
            "text/plain": [
              "('isb', 'pakstan')"
            ]
          },
          "metadata": {},
          "execution_count": 57
        }
      ]
    },
    {
      "cell_type": "code",
      "source": [
        "my_dict"
      ],
      "metadata": {
        "id": "UP_WWOSNCHj7",
        "colab": {
          "base_uri": "https://localhost:8080/"
        },
        "outputId": "56f7deea-8ae9-45af-a424-7b83583376b6"
      },
      "execution_count": null,
      "outputs": [
        {
          "output_type": "execute_result",
          "data": {
            "text/plain": [
              "{'name': 'shahzaib', 'age': 20, 'Address': 'Islamabad', 'country': 'pakistan'}"
            ]
          },
          "metadata": {},
          "execution_count": 58
        }
      ]
    },
    {
      "cell_type": "code",
      "source": [],
      "metadata": {
        "id": "rnxTAdBsCLjV"
      },
      "execution_count": null,
      "outputs": []
    },
    {
      "cell_type": "markdown",
      "source": [
        "***`Category of Operations`***\n",
        "1) **Arithmetic Operations**"
      ],
      "metadata": {
        "id": "TY9hNcXfgyVP"
      }
    },
    {
      "cell_type": "code",
      "source": [
        "a = 5\n",
        "b = 4"
      ],
      "metadata": {
        "id": "QQB9JUVtg2YY"
      },
      "execution_count": null,
      "outputs": []
    },
    {
      "cell_type": "code",
      "source": [
        "a+b"
      ],
      "metadata": {
        "id": "fQ8392Dzg81m",
        "colab": {
          "base_uri": "https://localhost:8080/"
        },
        "outputId": "e2fb9931-82ee-4f81-aa7d-156e6c4d02b3"
      },
      "execution_count": null,
      "outputs": [
        {
          "output_type": "execute_result",
          "data": {
            "text/plain": [
              "9"
            ]
          },
          "metadata": {},
          "execution_count": 60
        }
      ]
    },
    {
      "cell_type": "code",
      "source": [
        "a - b"
      ],
      "metadata": {
        "id": "QkyOAK7wg9sZ",
        "colab": {
          "base_uri": "https://localhost:8080/"
        },
        "outputId": "a5a14159-65be-4d6c-d3e6-3190cc73b9ae"
      },
      "execution_count": null,
      "outputs": [
        {
          "output_type": "execute_result",
          "data": {
            "text/plain": [
              "1"
            ]
          },
          "metadata": {},
          "execution_count": 61
        }
      ]
    },
    {
      "cell_type": "code",
      "source": [
        "a * b"
      ],
      "metadata": {
        "id": "-dv5-9K5hESQ",
        "colab": {
          "base_uri": "https://localhost:8080/"
        },
        "outputId": "5cb8125b-1c23-41e7-8f90-3a1829d9fd82"
      },
      "execution_count": null,
      "outputs": [
        {
          "output_type": "execute_result",
          "data": {
            "text/plain": [
              "20"
            ]
          },
          "metadata": {},
          "execution_count": 62
        }
      ]
    },
    {
      "cell_type": "code",
      "source": [
        "5/4"
      ],
      "metadata": {
        "id": "LQUlmOfUhHJP",
        "colab": {
          "base_uri": "https://localhost:8080/"
        },
        "outputId": "377e43e4-ec37-4f8e-de72-6b0d8a3260a6"
      },
      "execution_count": null,
      "outputs": [
        {
          "output_type": "execute_result",
          "data": {
            "text/plain": [
              "1.25"
            ]
          },
          "metadata": {},
          "execution_count": 63
        }
      ]
    },
    {
      "cell_type": "code",
      "source": [
        "5//4"
      ],
      "metadata": {
        "id": "56BbYYTWhN6U",
        "colab": {
          "base_uri": "https://localhost:8080/"
        },
        "outputId": "c175323b-07e4-4878-93e0-b4c30b9c54fa"
      },
      "execution_count": null,
      "outputs": [
        {
          "output_type": "execute_result",
          "data": {
            "text/plain": [
              "1"
            ]
          },
          "metadata": {},
          "execution_count": 64
        }
      ]
    },
    {
      "cell_type": "code",
      "source": [
        "a%b"
      ],
      "metadata": {
        "id": "k4AqeGFChPjE",
        "colab": {
          "base_uri": "https://localhost:8080/"
        },
        "outputId": "77565d18-4b28-4d6c-c385-daacf306097d"
      },
      "execution_count": null,
      "outputs": [
        {
          "output_type": "execute_result",
          "data": {
            "text/plain": [
              "1"
            ]
          },
          "metadata": {},
          "execution_count": 65
        }
      ]
    },
    {
      "cell_type": "code",
      "source": [
        "a**b"
      ],
      "metadata": {
        "id": "17CxzE8pheVy",
        "colab": {
          "base_uri": "https://localhost:8080/"
        },
        "outputId": "71e6c5e2-7337-47fb-d310-1e5d68dc4ffa"
      },
      "execution_count": null,
      "outputs": [
        {
          "output_type": "execute_result",
          "data": {
            "text/plain": [
              "625"
            ]
          },
          "metadata": {},
          "execution_count": 66
        }
      ]
    },
    {
      "cell_type": "markdown",
      "source": [
        "**2) Assignment Operations**"
      ],
      "metadata": {
        "id": "P6_XhoDsi4Wt"
      }
    },
    {
      "cell_type": "code",
      "source": [
        "# = 'this one is used to assign the value'\n",
        "x = 3 #assign 3 to x 'read from right to left'"
      ],
      "metadata": {
        "id": "wceyhosrhkXV"
      },
      "execution_count": null,
      "outputs": []
    },
    {
      "cell_type": "code",
      "source": [
        "x"
      ],
      "metadata": {
        "id": "AAYJT3JNjebX",
        "colab": {
          "base_uri": "https://localhost:8080/"
        },
        "outputId": "2d8555a5-0db8-41f1-dd9f-7cce3760e5d0"
      },
      "execution_count": null,
      "outputs": [
        {
          "output_type": "execute_result",
          "data": {
            "text/plain": [
              "3"
            ]
          },
          "metadata": {},
          "execution_count": 68
        }
      ]
    },
    {
      "cell_type": "code",
      "source": [
        "x += 9"
      ],
      "metadata": {
        "id": "F7XwwXGuje-H"
      },
      "execution_count": null,
      "outputs": []
    },
    {
      "cell_type": "code",
      "source": [
        "x"
      ],
      "metadata": {
        "id": "BS7MPev-jl2G",
        "colab": {
          "base_uri": "https://localhost:8080/"
        },
        "outputId": "90b4d249-bad9-4af3-e812-1272b073e15b"
      },
      "execution_count": null,
      "outputs": [
        {
          "output_type": "execute_result",
          "data": {
            "text/plain": [
              "12"
            ]
          },
          "metadata": {},
          "execution_count": 70
        }
      ]
    },
    {
      "cell_type": "code",
      "source": [
        "x -= 2"
      ],
      "metadata": {
        "id": "X-nDCsthjnEg"
      },
      "execution_count": null,
      "outputs": []
    },
    {
      "cell_type": "code",
      "source": [
        "x"
      ],
      "metadata": {
        "id": "aip7uM5Qjq8z",
        "colab": {
          "base_uri": "https://localhost:8080/"
        },
        "outputId": "ae698933-a4c1-400a-a7b4-f893bd6d4c46"
      },
      "execution_count": null,
      "outputs": [
        {
          "output_type": "execute_result",
          "data": {
            "text/plain": [
              "10"
            ]
          },
          "metadata": {},
          "execution_count": 72
        }
      ]
    },
    {
      "cell_type": "code",
      "source": [
        "x /= 3"
      ],
      "metadata": {
        "id": "EG-WwnLPjrTz"
      },
      "execution_count": null,
      "outputs": []
    },
    {
      "cell_type": "code",
      "source": [
        "x"
      ],
      "metadata": {
        "colab": {
          "base_uri": "https://localhost:8080/"
        },
        "id": "369kVPwyjv4h",
        "outputId": "4e041e78-8bb4-424d-a69f-f0e1a3e59861"
      },
      "execution_count": null,
      "outputs": [
        {
          "output_type": "execute_result",
          "data": {
            "text/plain": [
              "3.3333333333333335"
            ]
          },
          "metadata": {},
          "execution_count": 74
        }
      ]
    },
    {
      "cell_type": "markdown",
      "source": [
        "**3) Comparision Operations - used to compare the values True/False**"
      ],
      "metadata": {
        "id": "234T0lolj6oh"
      }
    },
    {
      "cell_type": "code",
      "source": [
        "a == b"
      ],
      "metadata": {
        "id": "uh_NcyfnjwRv",
        "colab": {
          "base_uri": "https://localhost:8080/"
        },
        "outputId": "95e3acd8-6584-44d5-ee3d-c2e0702c0aa3"
      },
      "execution_count": null,
      "outputs": [
        {
          "output_type": "execute_result",
          "data": {
            "text/plain": [
              "False"
            ]
          },
          "metadata": {},
          "execution_count": 75
        }
      ]
    },
    {
      "cell_type": "code",
      "source": [
        "a > b"
      ],
      "metadata": {
        "id": "X9QRVFT8kRoF",
        "colab": {
          "base_uri": "https://localhost:8080/"
        },
        "outputId": "c5299eb9-b8ca-4915-ad74-edb8f94070b0"
      },
      "execution_count": null,
      "outputs": [
        {
          "output_type": "execute_result",
          "data": {
            "text/plain": [
              "True"
            ]
          },
          "metadata": {},
          "execution_count": 76
        }
      ]
    },
    {
      "cell_type": "code",
      "source": [
        "a < b"
      ],
      "metadata": {
        "colab": {
          "base_uri": "https://localhost:8080/"
        },
        "id": "PzXunrwckS3E",
        "outputId": "bf42bdb2-6f8f-44d2-8d60-37916fe25b1e"
      },
      "execution_count": null,
      "outputs": [
        {
          "output_type": "execute_result",
          "data": {
            "text/plain": [
              "False"
            ]
          },
          "metadata": {},
          "execution_count": 77
        }
      ]
    },
    {
      "cell_type": "code",
      "source": [
        "a >= b"
      ],
      "metadata": {
        "id": "UJm8eVYjkUIZ",
        "colab": {
          "base_uri": "https://localhost:8080/"
        },
        "outputId": "b2ae8500-f7d7-4b4a-bf31-375d9fb8af0e"
      },
      "execution_count": null,
      "outputs": [
        {
          "output_type": "execute_result",
          "data": {
            "text/plain": [
              "True"
            ]
          },
          "metadata": {},
          "execution_count": 78
        }
      ]
    },
    {
      "cell_type": "code",
      "source": [
        "a <= b"
      ],
      "metadata": {
        "id": "T9lPGzDfkVZ5",
        "colab": {
          "base_uri": "https://localhost:8080/"
        },
        "outputId": "d0f6dec5-32de-4fe6-c3d6-39da89ffa1e2"
      },
      "execution_count": null,
      "outputs": [
        {
          "output_type": "execute_result",
          "data": {
            "text/plain": [
              "False"
            ]
          },
          "metadata": {},
          "execution_count": 79
        }
      ]
    },
    {
      "cell_type": "markdown",
      "source": [
        "**4) Logical Operations AND OR NOT (Combine Conditions)**"
      ],
      "metadata": {
        "id": "N8s0m0wUkZsf"
      }
    },
    {
      "cell_type": "code",
      "source": [
        "a"
      ],
      "metadata": {
        "id": "c3ZJ9QnIkWZe",
        "colab": {
          "base_uri": "https://localhost:8080/"
        },
        "outputId": "4782f6ad-1358-4188-8e35-51e84acfaa24"
      },
      "execution_count": null,
      "outputs": [
        {
          "output_type": "execute_result",
          "data": {
            "text/plain": [
              "5"
            ]
          },
          "metadata": {},
          "execution_count": 80
        }
      ]
    },
    {
      "cell_type": "code",
      "source": [
        "a < 10 and a > 2"
      ],
      "metadata": {
        "id": "fka19agjk1sx",
        "colab": {
          "base_uri": "https://localhost:8080/"
        },
        "outputId": "752739ed-5d75-48fc-ea62-9091bef0b48a"
      },
      "execution_count": null,
      "outputs": [
        {
          "output_type": "execute_result",
          "data": {
            "text/plain": [
              "True"
            ]
          },
          "metadata": {},
          "execution_count": 81
        }
      ]
    },
    {
      "cell_type": "code",
      "source": [
        "a < 10 and a > 4"
      ],
      "metadata": {
        "id": "7G64I9JNk30f",
        "colab": {
          "base_uri": "https://localhost:8080/"
        },
        "outputId": "00ccd083-8662-44e9-82d8-9f5bd23ae09f"
      },
      "execution_count": null,
      "outputs": [
        {
          "output_type": "execute_result",
          "data": {
            "text/plain": [
              "True"
            ]
          },
          "metadata": {},
          "execution_count": 82
        }
      ]
    },
    {
      "cell_type": "code",
      "source": [
        "a > 3 and a < 4"
      ],
      "metadata": {
        "id": "oooWI6urlH4G",
        "colab": {
          "base_uri": "https://localhost:8080/"
        },
        "outputId": "a8c67641-c4fe-463b-a45d-98ed60a0ddf7"
      },
      "execution_count": null,
      "outputs": [
        {
          "output_type": "execute_result",
          "data": {
            "text/plain": [
              "False"
            ]
          },
          "metadata": {},
          "execution_count": 83
        }
      ]
    },
    {
      "cell_type": "code",
      "source": [
        "a > 30 or a < 7"
      ],
      "metadata": {
        "id": "UXhTCHHIlRIy",
        "colab": {
          "base_uri": "https://localhost:8080/"
        },
        "outputId": "25e3f4f6-c02b-4c37-815b-70c7e9ba073b"
      },
      "execution_count": null,
      "outputs": [
        {
          "output_type": "execute_result",
          "data": {
            "text/plain": [
              "True"
            ]
          },
          "metadata": {},
          "execution_count": 84
        }
      ]
    },
    {
      "cell_type": "code",
      "source": [
        "a == 5"
      ],
      "metadata": {
        "id": "oFn2F721lxfv",
        "colab": {
          "base_uri": "https://localhost:8080/"
        },
        "outputId": "79fa8f5e-d465-4a61-addd-5e09a30af588"
      },
      "execution_count": null,
      "outputs": [
        {
          "output_type": "execute_result",
          "data": {
            "text/plain": [
              "True"
            ]
          },
          "metadata": {},
          "execution_count": 85
        }
      ]
    },
    {
      "cell_type": "code",
      "source": [
        "not a ==5"
      ],
      "metadata": {
        "id": "x6211RoLl1tx",
        "colab": {
          "base_uri": "https://localhost:8080/"
        },
        "outputId": "7e29eb9c-4d0c-4a6e-9826-f6ed03757c29"
      },
      "execution_count": null,
      "outputs": [
        {
          "output_type": "execute_result",
          "data": {
            "text/plain": [
              "False"
            ]
          },
          "metadata": {},
          "execution_count": 86
        }
      ]
    },
    {
      "cell_type": "markdown",
      "source": [
        "**5) Bitwise Operations** we dont use it often. (we use them in rare cases) and these works on bits (only with integers)"
      ],
      "metadata": {
        "id": "zxEg9dnXmqbY"
      }
    },
    {
      "cell_type": "markdown",
      "source": [
        "**6) Identity Operations - it checks whether if two variables are the same objects (memory wise)**"
      ],
      "metadata": {
        "id": "R9sw-7yEnHuP"
      }
    },
    {
      "cell_type": "code",
      "source": [
        "# Operators:  'is' > based on condition/situtaion retrun True/False and 'is not'> based on condition/situtaion retrun True/False\n",
        "a = [3,4,5]\n",
        "b = a\n",
        "c = [3,4,5]"
      ],
      "metadata": {
        "id": "xUIddp0hl3aZ"
      },
      "execution_count": null,
      "outputs": []
    },
    {
      "cell_type": "code",
      "source": [
        "a is b # its true because the object/reference is the same - # True (same object)"
      ],
      "metadata": {
        "id": "dhNCUfP1oNTu",
        "colab": {
          "base_uri": "https://localhost:8080/"
        },
        "outputId": "2462689c-1797-47b5-8128-7b45e0423aa5"
      },
      "execution_count": null,
      "outputs": [
        {
          "output_type": "execute_result",
          "data": {
            "text/plain": [
              "True"
            ]
          },
          "metadata": {},
          "execution_count": 88
        }
      ]
    },
    {
      "cell_type": "code",
      "source": [
        "a is c # its false because the object/reference is not the same just the values/content is same"
      ],
      "metadata": {
        "id": "DsYQBE1xoWO8",
        "colab": {
          "base_uri": "https://localhost:8080/"
        },
        "outputId": "d6a5f5eb-1350-4155-e76f-f4b4838befa8"
      },
      "execution_count": null,
      "outputs": [
        {
          "output_type": "execute_result",
          "data": {
            "text/plain": [
              "False"
            ]
          },
          "metadata": {},
          "execution_count": 89
        }
      ]
    },
    {
      "cell_type": "code",
      "source": [
        "c is a # False (same content, different object)"
      ],
      "metadata": {
        "id": "5Md27Bh3oY0D",
        "colab": {
          "base_uri": "https://localhost:8080/"
        },
        "outputId": "043e9970-3138-4eee-d0ee-7d0daf162a3d"
      },
      "execution_count": null,
      "outputs": [
        {
          "output_type": "execute_result",
          "data": {
            "text/plain": [
              "False"
            ]
          },
          "metadata": {},
          "execution_count": 90
        }
      ]
    },
    {
      "cell_type": "code",
      "source": [
        "a == c # becuase content/values are same"
      ],
      "metadata": {
        "id": "gYZGyAm2oZoS",
        "colab": {
          "base_uri": "https://localhost:8080/"
        },
        "outputId": "f8716c39-b3b9-463a-d381-dcc9b06815d7"
      },
      "execution_count": null,
      "outputs": [
        {
          "output_type": "execute_result",
          "data": {
            "text/plain": [
              "True"
            ]
          },
          "metadata": {},
          "execution_count": 91
        }
      ]
    },
    {
      "cell_type": "code",
      "source": [
        "c is not a"
      ],
      "metadata": {
        "id": "AaRPXFpqobs5",
        "colab": {
          "base_uri": "https://localhost:8080/"
        },
        "outputId": "7eabf68b-09d9-4fad-f0af-2f6837b75738"
      },
      "execution_count": null,
      "outputs": [
        {
          "output_type": "execute_result",
          "data": {
            "text/plain": [
              "True"
            ]
          },
          "metadata": {},
          "execution_count": 92
        }
      ]
    },
    {
      "cell_type": "markdown",
      "source": [
        "**7) Membership Operations - Checks if the values exists in a sequence**"
      ],
      "metadata": {
        "id": "VmEmhaB2pDqk"
      }
    },
    {
      "cell_type": "code",
      "source": [
        "''' Operators:  'in' > means'value exist' based on condition/situtaion retrun True/False\n",
        "and 'not in'>means 'value does not exist' based on condition/situtaion retrun True/False'''\n",
        "# making list\n",
        "my_list2 = [2,3,5,6,7,45,66,78,4,6,3,7,8]\n",
        "78 not in my_list2"
      ],
      "metadata": {
        "id": "eui97IF0ouyw",
        "colab": {
          "base_uri": "https://localhost:8080/"
        },
        "outputId": "22782119-bbd9-49d1-802d-cad55efca583"
      },
      "execution_count": null,
      "outputs": [
        {
          "output_type": "execute_result",
          "data": {
            "text/plain": [
              "False"
            ]
          },
          "metadata": {},
          "execution_count": 93
        }
      ]
    },
    {
      "cell_type": "code",
      "source": [
        "6 in my_list2"
      ],
      "metadata": {
        "id": "0YwFKWiEpxHK",
        "colab": {
          "base_uri": "https://localhost:8080/"
        },
        "outputId": "62f9c1ce-de62-427c-e83c-a6f82ae63015"
      },
      "execution_count": null,
      "outputs": [
        {
          "output_type": "execute_result",
          "data": {
            "text/plain": [
              "True"
            ]
          },
          "metadata": {},
          "execution_count": 94
        }
      ]
    },
    {
      "cell_type": "code",
      "source": [
        "my_list3 = ['apple' , 'ornage', 'mangoe']"
      ],
      "metadata": {
        "id": "M8aS68I9qKBp"
      },
      "execution_count": null,
      "outputs": []
    },
    {
      "cell_type": "code",
      "source": [
        "a = 'apple'\n",
        "'p' in a"
      ],
      "metadata": {
        "id": "NpVBzzG8qXaO",
        "colab": {
          "base_uri": "https://localhost:8080/"
        },
        "outputId": "7c3b5939-a91c-4166-9f1e-87265fc518a3"
      },
      "execution_count": null,
      "outputs": [
        {
          "output_type": "execute_result",
          "data": {
            "text/plain": [
              "True"
            ]
          },
          "metadata": {},
          "execution_count": 96
        }
      ]
    },
    {
      "cell_type": "code",
      "source": [
        "'apple' not in my_list3"
      ],
      "metadata": {
        "id": "tDfL-oltqZbg",
        "colab": {
          "base_uri": "https://localhost:8080/"
        },
        "outputId": "003339be-0918-4422-c377-d3cda0386cc3"
      },
      "execution_count": null,
      "outputs": [
        {
          "output_type": "execute_result",
          "data": {
            "text/plain": [
              "False"
            ]
          },
          "metadata": {},
          "execution_count": 97
        }
      ]
    },
    {
      "cell_type": "markdown",
      "source": [
        "**Practicing the 'is' and 'is not' on list/tuple/set and dict**"
      ],
      "metadata": {
        "id": "VJOfaiQasWyg"
      }
    },
    {
      "cell_type": "code",
      "source": [
        "new_list= [3,4,5,6,32,534,43,332]\n",
        "new_list1= [3,4,5,6,32,534,43,332]\n",
        "new_list is new_list1"
      ],
      "metadata": {
        "id": "YazC2X-oq49N",
        "colab": {
          "base_uri": "https://localhost:8080/"
        },
        "outputId": "c888ecd3-d2e0-4727-b237-35820572dfb8"
      },
      "execution_count": null,
      "outputs": [
        {
          "output_type": "execute_result",
          "data": {
            "text/plain": [
              "False"
            ]
          },
          "metadata": {},
          "execution_count": 98
        }
      ]
    },
    {
      "cell_type": "code",
      "source": [
        "new_tuple= (3,4,5,6,32,534,43,332)\n",
        "new_tuple1= (3,4,5,6,32,534,43,332)\n",
        "new_tuple is new_tuple1"
      ],
      "metadata": {
        "colab": {
          "base_uri": "https://localhost:8080/"
        },
        "id": "QFA-vvNmspgL",
        "outputId": "f2292484-f639-472b-d06a-035e265ccf0d"
      },
      "execution_count": null,
      "outputs": [
        {
          "output_type": "execute_result",
          "data": {
            "text/plain": [
              "False"
            ]
          },
          "metadata": {},
          "execution_count": 99
        }
      ]
    },
    {
      "cell_type": "code",
      "source": [
        "a = 10.5\n",
        "b = 10.5"
      ],
      "metadata": {
        "id": "uZvRI3jds2uR"
      },
      "execution_count": null,
      "outputs": []
    },
    {
      "cell_type": "code",
      "source": [
        "a is b"
      ],
      "metadata": {
        "colab": {
          "base_uri": "https://localhost:8080/"
        },
        "id": "Ar0zcEXrtSKI",
        "outputId": "1361a5a6-28bb-4d58-c4af-ed6b8c124176"
      },
      "execution_count": null,
      "outputs": [
        {
          "output_type": "execute_result",
          "data": {
            "text/plain": [
              "False"
            ]
          },
          "metadata": {},
          "execution_count": 101
        }
      ]
    },
    {
      "cell_type": "code",
      "source": [
        "id(b)"
      ],
      "metadata": {
        "colab": {
          "base_uri": "https://localhost:8080/"
        },
        "id": "T_Qmf-1rtUUf",
        "outputId": "5834e0c8-3780-465b-9edb-fbe7ee4b69d2"
      },
      "execution_count": null,
      "outputs": [
        {
          "output_type": "execute_result",
          "data": {
            "text/plain": [
              "138597887478224"
            ]
          },
          "metadata": {},
          "execution_count": 102
        }
      ]
    },
    {
      "cell_type": "code",
      "source": [
        "id(new_tuple),id(new_tuple1)"
      ],
      "metadata": {
        "colab": {
          "base_uri": "https://localhost:8080/"
        },
        "id": "71GiB6bXtafZ",
        "outputId": "99d91577-ca3f-49c1-8d96-83f21465ce83"
      },
      "execution_count": null,
      "outputs": [
        {
          "output_type": "execute_result",
          "data": {
            "text/plain": [
              "(138597897810912, 138597897810576)"
            ]
          },
          "metadata": {},
          "execution_count": 103
        }
      ]
    },
    {
      "cell_type": "code",
      "source": [
        "x = ()\n",
        "y = ()\n",
        "x is y"
      ],
      "metadata": {
        "colab": {
          "base_uri": "https://localhost:8080/"
        },
        "id": "qJaIWlootu5M",
        "outputId": "6fc0172f-0aa7-4dbb-e906-9e65c7abc494"
      },
      "execution_count": null,
      "outputs": [
        {
          "output_type": "execute_result",
          "data": {
            "text/plain": [
              "True"
            ]
          },
          "metadata": {},
          "execution_count": 104
        }
      ]
    },
    {
      "cell_type": "code",
      "source": [
        "c = 258\n",
        "d = 258\n",
        "c is d"
      ],
      "metadata": {
        "colab": {
          "base_uri": "https://localhost:8080/"
        },
        "id": "egrw8gCnuB9_",
        "outputId": "8de26353-902b-487e-9902-b9bfa1392f87"
      },
      "execution_count": null,
      "outputs": [
        {
          "output_type": "execute_result",
          "data": {
            "text/plain": [
              "False"
            ]
          },
          "metadata": {},
          "execution_count": 105
        }
      ]
    },
    {
      "cell_type": "code",
      "source": [
        "c = 10\n",
        "d = 10\n",
        "c is d"
      ],
      "metadata": {
        "colab": {
          "base_uri": "https://localhost:8080/"
        },
        "id": "q5Y33xfQuovr",
        "outputId": "5d6e27b4-2588-4445-ebd8-b8114a0677fe"
      },
      "execution_count": null,
      "outputs": [
        {
          "output_type": "execute_result",
          "data": {
            "text/plain": [
              "True"
            ]
          },
          "metadata": {},
          "execution_count": 106
        }
      ]
    },
    {
      "cell_type": "code",
      "source": [
        "c = 256\n",
        "d = 256\n",
        "c is d"
      ],
      "metadata": {
        "colab": {
          "base_uri": "https://localhost:8080/"
        },
        "id": "rEeSzuo0uxls",
        "outputId": "3d80d3b8-5136-4903-81fd-8e0da891e4dc"
      },
      "execution_count": null,
      "outputs": [
        {
          "output_type": "execute_result",
          "data": {
            "text/plain": [
              "True"
            ]
          },
          "metadata": {},
          "execution_count": 107
        }
      ]
    },
    {
      "cell_type": "code",
      "source": [
        "c = 'apple is fruit'\n",
        "d = 'apple is fruit'\n",
        "c is d"
      ],
      "metadata": {
        "colab": {
          "base_uri": "https://localhost:8080/"
        },
        "id": "QYWTuNyiu086",
        "outputId": "cf8fa157-f69d-4838-c374-917c262b110b"
      },
      "execution_count": null,
      "outputs": [
        {
          "output_type": "execute_result",
          "data": {
            "text/plain": [
              "False"
            ]
          },
          "metadata": {},
          "execution_count": 108
        }
      ]
    },
    {
      "cell_type": "code",
      "source": [
        "id(c),id(d)"
      ],
      "metadata": {
        "colab": {
          "base_uri": "https://localhost:8080/"
        },
        "id": "1V_JKJo7vTlu",
        "outputId": "cfb2c660-6718-4322-dec7-4d7c2d3ce11c"
      },
      "execution_count": null,
      "outputs": [
        {
          "output_type": "execute_result",
          "data": {
            "text/plain": [
              "(138597887518448, 138597887510768)"
            ]
          },
          "metadata": {},
          "execution_count": 109
        }
      ]
    },
    {
      "cell_type": "code",
      "source": [
        "c == d"
      ],
      "metadata": {
        "colab": {
          "base_uri": "https://localhost:8080/"
        },
        "id": "nRPSJGfSvW7s",
        "outputId": "d857f6d5-4316-4d28-b2cc-21402a6ca15a"
      },
      "execution_count": null,
      "outputs": [
        {
          "output_type": "execute_result",
          "data": {
            "text/plain": [
              "True"
            ]
          },
          "metadata": {},
          "execution_count": 110
        }
      ]
    },
    {
      "cell_type": "markdown",
      "source": [
        "**Range() funciton in python**"
      ],
      "metadata": {
        "id": "dDH-3yPoB824"
      }
    },
    {
      "cell_type": "code",
      "source": [
        "my_range = range(15,40,3)"
      ],
      "metadata": {
        "id": "4OLlpaz6B3Lb"
      },
      "execution_count": null,
      "outputs": []
    },
    {
      "cell_type": "code",
      "source": [
        "my_range"
      ],
      "metadata": {
        "colab": {
          "base_uri": "https://localhost:8080/"
        },
        "id": "0qP59aqfCBh0",
        "outputId": "e43d611b-f41e-4140-f2ad-141934dde64c"
      },
      "execution_count": null,
      "outputs": [
        {
          "output_type": "execute_result",
          "data": {
            "text/plain": [
              "range(15, 40, 3)"
            ]
          },
          "metadata": {},
          "execution_count": 112
        }
      ]
    },
    {
      "cell_type": "code",
      "source": [
        "for i in my_range:\n",
        "    print(i)"
      ],
      "metadata": {
        "colab": {
          "base_uri": "https://localhost:8080/"
        },
        "id": "WgGoag7MCUBW",
        "outputId": "02068e93-3f5f-41c8-8f6e-2f25eb6597c5"
      },
      "execution_count": null,
      "outputs": [
        {
          "output_type": "stream",
          "name": "stdout",
          "text": [
            "15\n",
            "18\n",
            "21\n",
            "24\n",
            "27\n",
            "30\n",
            "33\n",
            "36\n",
            "39\n"
          ]
        }
      ]
    },
    {
      "cell_type": "code",
      "source": [],
      "metadata": {
        "id": "lb4k2GaoCTxF"
      },
      "execution_count": null,
      "outputs": []
    },
    {
      "cell_type": "code",
      "source": [],
      "metadata": {
        "id": "w8ixsF7xCTeV"
      },
      "execution_count": null,
      "outputs": []
    },
    {
      "cell_type": "markdown",
      "source": [
        "**Comprehensions** Before comprehensions, we wrote longer and less readable code just to create a list or dictionary."
      ],
      "metadata": {
        "id": "s6B3Or2Q_3K5"
      }
    },
    {
      "cell_type": "code",
      "source": [
        "squares = []\n",
        "my_range = range(1, 6)"
      ],
      "metadata": {
        "id": "4rzV5xmQxiR-"
      },
      "execution_count": null,
      "outputs": []
    },
    {
      "cell_type": "code",
      "source": [
        "x"
      ],
      "metadata": {
        "colab": {
          "base_uri": "https://localhost:8080/"
        },
        "id": "mocePAzxAgiE",
        "outputId": "2e4882df-afd3-4d05-b172-7cfff4f2c267"
      },
      "execution_count": null,
      "outputs": [
        {
          "output_type": "execute_result",
          "data": {
            "text/plain": [
              "()"
            ]
          },
          "metadata": {},
          "execution_count": 115
        }
      ]
    },
    {
      "cell_type": "code",
      "source": [
        "squares_new = []\n",
        "for i in my_range:\n",
        "  squares_new.append(i**2)"
      ],
      "metadata": {
        "id": "OA_1dQ3TEJCd"
      },
      "execution_count": null,
      "outputs": []
    },
    {
      "cell_type": "code",
      "source": [
        "squares_new"
      ],
      "metadata": {
        "colab": {
          "base_uri": "https://localhost:8080/"
        },
        "id": "8nCakLsoEV7y",
        "outputId": "5b235267-93a5-45ee-f611-723f47242f8e"
      },
      "execution_count": null,
      "outputs": [
        {
          "output_type": "execute_result",
          "data": {
            "text/plain": [
              "[1, 4, 9, 16, 25]"
            ]
          },
          "metadata": {},
          "execution_count": 117
        }
      ]
    },
    {
      "cell_type": "markdown",
      "source": [
        "**Reverse the range**"
      ],
      "metadata": {
        "id": "Flp0VKLSKCgP"
      }
    },
    {
      "cell_type": "code",
      "source": [
        "x = range(1,10)\n",
        "for i in x:\n",
        "  print(i)\n"
      ],
      "metadata": {
        "id": "oEXIIK4tEcL3",
        "colab": {
          "base_uri": "https://localhost:8080/"
        },
        "outputId": "26df98cd-2d8d-4787-f802-0f538c8e6580"
      },
      "execution_count": null,
      "outputs": [
        {
          "output_type": "stream",
          "name": "stdout",
          "text": [
            "1\n",
            "2\n",
            "3\n",
            "4\n",
            "5\n",
            "6\n",
            "7\n",
            "8\n",
            "9\n"
          ]
        }
      ]
    },
    {
      "cell_type": "code",
      "source": [
        "y = range(8,0,-1)\n",
        "for p in y:\n",
        "  print(p)"
      ],
      "metadata": {
        "colab": {
          "base_uri": "https://localhost:8080/"
        },
        "id": "sVKJKo72KQER",
        "outputId": "75426d29-2eb7-4460-bf19-596911264400"
      },
      "execution_count": null,
      "outputs": [
        {
          "output_type": "stream",
          "name": "stdout",
          "text": [
            "8\n",
            "7\n",
            "6\n",
            "5\n",
            "4\n",
            "3\n",
            "2\n",
            "1\n"
          ]
        }
      ]
    },
    {
      "cell_type": "code",
      "source": [
        "# printing backwards using reversed function\n",
        "x = range(2,10)\n",
        "for i in reversed(x):\n",
        "  print(i)"
      ],
      "metadata": {
        "colab": {
          "base_uri": "https://localhost:8080/"
        },
        "id": "gCWMm756LL-y",
        "outputId": "1d0adfc2-0e4e-4223-c3dd-753419e02e8a"
      },
      "execution_count": null,
      "outputs": [
        {
          "output_type": "stream",
          "name": "stdout",
          "text": [
            "9\n",
            "8\n",
            "7\n",
            "6\n",
            "5\n",
            "4\n",
            "3\n",
            "2\n"
          ]
        }
      ]
    },
    {
      "cell_type": "markdown",
      "source": [
        "**Comprehensions (Lists/Set/Tuples/Dict)**"
      ],
      "metadata": {
        "id": "drIITIYYOXgp"
      }
    },
    {
      "cell_type": "markdown",
      "source": [
        "comprehension on List"
      ],
      "metadata": {
        "id": "DLXUfm2yOf3r"
      }
    },
    {
      "cell_type": "code",
      "source": [
        "#older way of doing code before the introducing the comprehensions. its less readable and longer.\n",
        "squares23 = [] #making list, to store quares getting the values/digits from using the range\n",
        "x = range(2,10)\n",
        "for i in x:\n",
        "  squares23.append(i**2)\n",
        "print(squares23)"
      ],
      "metadata": {
        "colab": {
          "base_uri": "https://localhost:8080/"
        },
        "id": "Ii1_9gziLuTC",
        "outputId": "53a38235-2eab-44ec-d98c-61458019b999"
      },
      "execution_count": null,
      "outputs": [
        {
          "output_type": "stream",
          "name": "stdout",
          "text": [
            "[4, 9, 16, 25, 36, 49, 64, 81]\n"
          ]
        }
      ]
    },
    {
      "cell_type": "code",
      "source": [
        "squares"
      ],
      "metadata": {
        "colab": {
          "base_uri": "https://localhost:8080/"
        },
        "id": "9jBHkF4bMg1p",
        "outputId": "057b09fa-f264-4e64-e0fb-479150715b81"
      },
      "execution_count": null,
      "outputs": [
        {
          "output_type": "execute_result",
          "data": {
            "text/plain": [
              "[]"
            ]
          },
          "metadata": {},
          "execution_count": 122
        }
      ]
    },
    {
      "cell_type": "markdown",
      "source": [
        "###### even numbers examples without comprehensions and with comprehensions\n",
        "\n",
        "\n"
      ],
      "metadata": {
        "id": "VeOTNlMmQs8o"
      }
    },
    {
      "cell_type": "code",
      "source": [
        "# below is an example without comprehension. (longer/more code)\n",
        "even_numbers = [] # list\n",
        "for x in range(2,10):\n",
        "  if x % 2 == 0:\n",
        "    even_numbers.append(x)\n"
      ],
      "metadata": {
        "id": "as1T1ok0PbYW"
      },
      "execution_count": null,
      "outputs": []
    },
    {
      "cell_type": "code",
      "source": [
        "even_numbers"
      ],
      "metadata": {
        "colab": {
          "base_uri": "https://localhost:8080/"
        },
        "id": "3dDh9oXyQY0D",
        "outputId": "55459eaa-c774-4c86-8077-9bf281b58fb2"
      },
      "execution_count": null,
      "outputs": [
        {
          "output_type": "execute_result",
          "data": {
            "text/plain": [
              "[2, 4, 6, 8]"
            ]
          },
          "metadata": {},
          "execution_count": 124
        }
      ]
    },
    {
      "cell_type": "code",
      "source": [
        "## below is an example with 'list' comprehension. (shorter/less code)\n",
        "even_numbers_comp = [x**2 for x in range(2,33)if x % 2 == 0]\n",
        "even_numbers_comp"
      ],
      "metadata": {
        "colab": {
          "base_uri": "https://localhost:8080/"
        },
        "id": "Me4fJJDGQbF8",
        "outputId": "8d11b559-e158-4ee9-d97c-9be2a99fec29"
      },
      "execution_count": null,
      "outputs": [
        {
          "output_type": "execute_result",
          "data": {
            "text/plain": [
              "[4, 16, 36, 64, 100, 144, 196, 256, 324, 400, 484, 576, 676, 784, 900, 1024]"
            ]
          },
          "metadata": {},
          "execution_count": 125
        }
      ]
    },
    {
      "cell_type": "code",
      "source": [
        "# Comprehesnions makes the code shorter and more readable,cleaner and easier to understand\n",
        "squares0921 = [x**2 for x in range(2,10)]"
      ],
      "metadata": {
        "id": "Or1nhD0_M6kv"
      },
      "execution_count": null,
      "outputs": []
    },
    {
      "cell_type": "code",
      "source": [
        "squares0921"
      ],
      "metadata": {
        "colab": {
          "base_uri": "https://localhost:8080/"
        },
        "id": "KCdzD7ukPQNV",
        "outputId": "ca724b97-3cd4-44d2-99d8-7fdd78b764b8"
      },
      "execution_count": null,
      "outputs": [
        {
          "output_type": "execute_result",
          "data": {
            "text/plain": [
              "[4, 9, 16, 25, 36, 49, 64, 81]"
            ]
          },
          "metadata": {},
          "execution_count": 127
        }
      ]
    },
    {
      "cell_type": "code",
      "source": [
        "# Comprehensions makes the filtering and mapping easy (same like above)\n",
        "names = [\"Ali\", \"Shahzaib\" ,  \"Asad\", \"Anas\"]\n",
        "Upper_Case_Names  = [name.upper() for name in names if len(name)>3]\n",
        "Upper_Case_Names"
      ],
      "metadata": {
        "colab": {
          "base_uri": "https://localhost:8080/"
        },
        "id": "XzZ-JBBDPTXr",
        "outputId": "8d35286d-fb82-491a-a547-7840928d4596"
      },
      "execution_count": null,
      "outputs": [
        {
          "output_type": "execute_result",
          "data": {
            "text/plain": [
              "['SHAHZAIB', 'ASAD', 'ANAS']"
            ]
          },
          "metadata": {},
          "execution_count": 128
        }
      ]
    },
    {
      "cell_type": "markdown",
      "source": [
        "**1) LIST Comprehension**"
      ],
      "metadata": {
        "id": "iXVSk2x8XRQa"
      }
    },
    {
      "cell_type": "code",
      "source": [
        "numbers= [3,5,7,8,9]\n",
        "squares= [x**2 for x in numbers]\n",
        "squares"
      ],
      "metadata": {
        "colab": {
          "base_uri": "https://localhost:8080/"
        },
        "id": "a8VdViNfVHu8",
        "outputId": "39c2537e-cb65-4c09-99a4-81f349a2b301"
      },
      "execution_count": null,
      "outputs": [
        {
          "output_type": "execute_result",
          "data": {
            "text/plain": [
              "[9, 25, 49, 64, 81]"
            ]
          },
          "metadata": {},
          "execution_count": 129
        }
      ]
    },
    {
      "cell_type": "markdown",
      "source": [
        "**2) SET Comprehension (we use this when we want smth'Sqaures'but without duplicates)**"
      ],
      "metadata": {
        "id": "I5sdIzp-XoK1"
      }
    },
    {
      "cell_type": "code",
      "source": [
        "#for set > {expression for item in iterable if condition}\n",
        "nums = [3,4,5,3,4,7,8,9,20]\n",
        "my_newSet = {x**2 for x in nums}\n",
        "my_newSet"
      ],
      "metadata": {
        "colab": {
          "base_uri": "https://localhost:8080/"
        },
        "id": "zcJ0vQj_XgbQ",
        "outputId": "14a59a5d-dbcb-4b8a-b886-29cdac5cd8ef"
      },
      "execution_count": null,
      "outputs": [
        {
          "output_type": "execute_result",
          "data": {
            "text/plain": [
              "{9, 16, 25, 49, 64, 81, 400}"
            ]
          },
          "metadata": {},
          "execution_count": 130
        }
      ]
    },
    {
      "cell_type": "markdown",
      "source": [
        "**3) DICTIONARY Comprehensions**"
      ],
      "metadata": {
        "id": "OezbFtGUY5QH"
      }
    },
    {
      "cell_type": "code",
      "source": [
        "# exp-1 for dict > {key_expression: value_expression for item in iterable if condition}\n",
        "nums = [2,3,4,5,6]\n",
        "square_dict = {x:x**2 for x in nums if x%2 ==0}\n",
        "square_dict"
      ],
      "metadata": {
        "colab": {
          "base_uri": "https://localhost:8080/"
        },
        "id": "cNAV4ZHdYGK2",
        "outputId": "54a64f31-e3db-4fc0-9b36-b5118154d24b"
      },
      "execution_count": null,
      "outputs": [
        {
          "output_type": "execute_result",
          "data": {
            "text/plain": [
              "{2: 4, 4: 16, 6: 36}"
            ]
          },
          "metadata": {},
          "execution_count": 131
        }
      ]
    },
    {
      "cell_type": "code",
      "source": [
        "#exp -2\n",
        "#Convert a list of names into a dictionary where keys are names, and values are lengths of those names:\n",
        "names_list = [\"Asad\",\"Ali\",\"Ahmad\",\"Anas\",\"Shahzaib\"]\n",
        "name_lengths= {name:len(name) for name in names_list }\n",
        "name_lengths"
      ],
      "metadata": {
        "colab": {
          "base_uri": "https://localhost:8080/"
        },
        "id": "KnTdDdGKYpeJ",
        "outputId": "58ec67e1-a7ab-4eb9-b5e8-07f7da50cd0a"
      },
      "execution_count": null,
      "outputs": [
        {
          "output_type": "execute_result",
          "data": {
            "text/plain": [
              "{'Asad': 4, 'Ali': 3, 'Ahmad': 5, 'Anas': 4, 'Shahzaib': 8}"
            ]
          },
          "metadata": {},
          "execution_count": 132
        }
      ]
    },
    {
      "cell_type": "markdown",
      "source": [
        "**Tuple Comprehension - There is no dedicated tuple comprehension in Python.**"
      ],
      "metadata": {
        "id": "WBfKvJO_aKZV"
      }
    },
    {
      "cell_type": "code",
      "source": [
        "#If we try this:\n",
        "t = (x**2 for x in range(5))\n",
        "print(type(t))  # Output: <class 'generator'>\n",
        "#It actually creates a generator, not a tuple."
      ],
      "metadata": {
        "colab": {
          "base_uri": "https://localhost:8080/"
        },
        "id": "a-SwMCZPZ1LB",
        "outputId": "437e6805-e3d1-42dd-b771-0b43027d2a43"
      },
      "execution_count": null,
      "outputs": [
        {
          "output_type": "stream",
          "name": "stdout",
          "text": [
            "<class 'generator'>\n"
          ]
        }
      ]
    },
    {
      "cell_type": "code",
      "source": [
        "#✅ So how to get a tuple?\n",
        "#We can still build a tuple using list comprehension + tuple() constructor:\n",
        "squares = tuple(x**2 for x in range(5))\n",
        "print(squares)  # Output: (0, 1, 4, 9, 16)"
      ],
      "metadata": {
        "id": "z4JuyABoabFr",
        "colab": {
          "base_uri": "https://localhost:8080/"
        },
        "outputId": "6a874591-8673-4b6d-fb04-e584547b1fd7"
      },
      "execution_count": null,
      "outputs": [
        {
          "output_type": "stream",
          "name": "stdout",
          "text": [
            "(0, 1, 4, 9, 16)\n"
          ]
        }
      ]
    },
    {
      "cell_type": "markdown",
      "source": [
        "**Lambda Functions ; lambda arguments: expression** - and 'Normal functions'\n",
        "map(),filter(),sort() and reduce()"
      ],
      "metadata": {
        "id": "9XbycQh2ubaL"
      }
    },
    {
      "cell_type": "code",
      "source": [
        "# Normal Functions\n",
        "def square(x):\n",
        "  return x * x\n",
        "square(5)"
      ],
      "metadata": {
        "colab": {
          "base_uri": "https://localhost:8080/"
        },
        "id": "3bgkYcksugEo",
        "outputId": "016db637-cc59-465b-cfbd-fdd80cd961b6"
      },
      "execution_count": null,
      "outputs": [
        {
          "output_type": "execute_result",
          "data": {
            "text/plain": [
              "25"
            ]
          },
          "metadata": {},
          "execution_count": 135
        }
      ]
    },
    {
      "cell_type": "code",
      "source": [
        "def add_fun(x,y):\n",
        "  result = x+y\n",
        "  # print(result) # immidiately result\n",
        "  return result # for later use,we can pass the parameters to this function later like after 20cells just call the function pass the params."
      ],
      "metadata": {
        "id": "KqlZP0og10N4"
      },
      "execution_count": null,
      "outputs": []
    },
    {
      "cell_type": "code",
      "source": [
        "my_value = add_fun(3,4)\n",
        "my_value"
      ],
      "metadata": {
        "colab": {
          "base_uri": "https://localhost:8080/"
        },
        "id": "JKMXdhAR3nlQ",
        "outputId": "87ceb0bd-b71f-4c38-bb43-9b15def0b94e"
      },
      "execution_count": null,
      "outputs": [
        {
          "output_type": "execute_result",
          "data": {
            "text/plain": [
              "7"
            ]
          },
          "metadata": {},
          "execution_count": 11
        }
      ]
    },
    {
      "cell_type": "code",
      "source": [
        "add_fun(5,8)"
      ],
      "metadata": {
        "colab": {
          "base_uri": "https://localhost:8080/"
        },
        "id": "G3ctWWD44Lw5",
        "outputId": "449a46c7-d715-4aaf-f9a7-3abeda10892b"
      },
      "execution_count": null,
      "outputs": [
        {
          "output_type": "execute_result",
          "data": {
            "text/plain": [
              "13"
            ]
          },
          "metadata": {},
          "execution_count": 12
        }
      ]
    },
    {
      "cell_type": "code",
      "source": [
        "# Lambda Function\n",
        "square_lamba = lambda x: x*x\n",
        "square_lamba(7)"
      ],
      "metadata": {
        "colab": {
          "base_uri": "https://localhost:8080/"
        },
        "id": "sUr1OJwBw1oC",
        "outputId": "87c11f16-4757-4583-c250-4ea1ec57ca35"
      },
      "execution_count": null,
      "outputs": [
        {
          "output_type": "execute_result",
          "data": {
            "text/plain": [
              "49"
            ]
          },
          "metadata": {},
          "execution_count": 136
        }
      ]
    },
    {
      "cell_type": "markdown",
      "source": [
        "**map() - to perform action on each item in the iterables. 'changes every item'**\n",
        "map() > \"applies a function to each item in a list, and returns a new list with results\""
      ],
      "metadata": {
        "id": "GOs-gcJkdnCH"
      }
    },
    {
      "cell_type": "code",
      "source": [
        "list_new = [2,3,4,5]\n",
        "result  = map(lambda x: x*2, list_new)\n",
        "result # it does not display the result/values - so we use the list() to open the box and see the result\n",
        "#list(map(....)) so it converts the map result into a list so we can see and use it."
      ],
      "metadata": {
        "id": "MKp-Bu0Xxeyw",
        "colab": {
          "base_uri": "https://localhost:8080/"
        },
        "outputId": "97d0aa1a-3e31-4708-d275-607d83218aa2"
      },
      "execution_count": null,
      "outputs": [
        {
          "output_type": "execute_result",
          "data": {
            "text/plain": [
              "<map at 0x791132b159f0>"
            ]
          },
          "metadata": {},
          "execution_count": 24
        }
      ]
    },
    {
      "cell_type": "code",
      "source": [
        "result"
      ],
      "metadata": {
        "colab": {
          "base_uri": "https://localhost:8080/"
        },
        "id": "bQwodswUeQAk",
        "outputId": "17ad3c13-af9e-473d-fe5d-8c4882798921"
      },
      "execution_count": null,
      "outputs": [
        {
          "output_type": "execute_result",
          "data": {
            "text/plain": [
              "<map at 0x7e0dd5cdba30>"
            ]
          },
          "metadata": {},
          "execution_count": 138
        }
      ]
    },
    {
      "cell_type": "code",
      "source": [
        "new_list12 = list(result)"
      ],
      "metadata": {
        "id": "51nOYpc0fCEJ"
      },
      "execution_count": null,
      "outputs": []
    },
    {
      "cell_type": "code",
      "source": [
        "new_list12"
      ],
      "metadata": {
        "colab": {
          "base_uri": "https://localhost:8080/"
        },
        "id": "ADLhmIw46yPK",
        "outputId": "6f5e34b7-ffe7-4b4f-dda2-9e8c36da36bc"
      },
      "execution_count": null,
      "outputs": [
        {
          "output_type": "execute_result",
          "data": {
            "text/plain": [
              "[4, 6, 8, 10]"
            ]
          },
          "metadata": {},
          "execution_count": 26
        }
      ]
    },
    {
      "cell_type": "code",
      "source": [
        "list_new,new_list12"
      ],
      "metadata": {
        "colab": {
          "base_uri": "https://localhost:8080/"
        },
        "id": "4KbqiOXB6dMV",
        "outputId": "1b14a2ad-ef11-4338-c30e-a7adec943db3"
      },
      "execution_count": null,
      "outputs": [
        {
          "output_type": "execute_result",
          "data": {
            "text/plain": [
              "([2, 3, 4, 5], [4, 6, 8, 10])"
            ]
          },
          "metadata": {},
          "execution_count": 29
        }
      ]
    },
    {
      "cell_type": "code",
      "source": [
        "#shopping cart example - addnig the tax (10%tax on each/every item in the cart/list and then returning the new list using lits() func)\n",
        "prices_list = [200,300,400]\n",
        "new_prices= list(map(lambda x : x * 1.10, prices_list))#lambda x : x * 1.10 checks each item in list applies/multiply the 10% tax with each single itme\n",
        "new_prices"
      ],
      "metadata": {
        "colab": {
          "base_uri": "https://localhost:8080/"
        },
        "id": "2Bi0TQc5fEcM",
        "outputId": "01d2b80b-f682-456d-c9b6-45e7aa5b36fc"
      },
      "execution_count": null,
      "outputs": [
        {
          "output_type": "execute_result",
          "data": {
            "text/plain": [
              "[220.00000000000003, 330.0, 440.00000000000006]"
            ]
          },
          "metadata": {},
          "execution_count": 140
        }
      ]
    },
    {
      "cell_type": "markdown",
      "source": [
        "**filter() - this function keeps/retunrs only values/records that matches the rule or satsify the condition. it simply filters the list and gives us the result.**"
      ],
      "metadata": {
        "id": "p8j6TK10g2VR"
      }
    },
    {
      "cell_type": "code",
      "source": [
        "# we wanted to print the people who are > 18 \"adults\".\n",
        "age_list = [10,2,20,30,40,13]\n",
        "adults = list(filter(lambda x: x > 18, age_list)) # lambda x: x > 18 checks each age like 10 -> false (removes), 2 -> false (removed) 13(removes-false)\n",
        "adults"
      ],
      "metadata": {
        "colab": {
          "base_uri": "https://localhost:8080/"
        },
        "id": "NqJ5EiF2f7r3",
        "outputId": "565c9554-dfd0-4ca2-ef89-7b7995334cdf"
      },
      "execution_count": null,
      "outputs": [
        {
          "output_type": "execute_result",
          "data": {
            "text/plain": [
              "[20, 30, 40]"
            ]
          },
          "metadata": {},
          "execution_count": 31
        }
      ]
    },
    {
      "cell_type": "markdown",
      "source": [
        "**sort() = this function sorts the items in the list based on given situation**\n",
        "we use this when we want to sort the itme in our own way. like when we wanted to sort a list, but in a special way, like by sorting based on the 'length of word' or based on the 2nd value in a tuple."
      ],
      "metadata": {
        "id": "ZeWxg0LxiKB1"
      }
    },
    {
      "cell_type": "code",
      "source": [
        "# sort list by length of the word\n",
        "# names = [\"ali\", \"asad\", \"shahzaib\",\"anas\"]\n",
        "# sorted_1019 = sorted(names, key= lambda name: len(name))\n",
        "# sorted_1019\n",
        "\n",
        "\n",
        "words = ['banana', 'kiwi', 'apple','Ikram Hussain','a b']\n",
        "sorting_words12 = sorted(words, key = lambda x: len(x))\n",
        "sorting_words12\n",
        "\n",
        "\"\"\"\n",
        "What happens internally when you do:\n",
        "python\n",
        "Copy\n",
        "Edit\n",
        "sorted(words, key=lambda x: len(x))\n",
        "Behind the scenes:\n",
        "\n",
        "Python creates a list of (key, value) pairs:\n",
        "\n",
        "bash\n",
        "Copy\n",
        "Edit\n",
        "(6, 'banana'), (5, 'apple'), (4, 'kiwi'), (5, 'mango')\n",
        "It sorts by the first value of each pair (i.e., the key from the lambda).\n",
        "\n",
        "Then it returns a list of just the values in the new order.\n",
        "\"\"\""
      ],
      "metadata": {
        "colab": {
          "base_uri": "https://localhost:8080/"
        },
        "id": "svDGqE0ohhqb",
        "outputId": "002f5171-40f9-4283-8ab4-8e76ac057d7e"
      },
      "execution_count": null,
      "outputs": [
        {
          "output_type": "execute_result",
          "data": {
            "text/plain": [
              "['a b', 'kiwi', 'apple', 'banana', 'Ikram Hussain']"
            ]
          },
          "metadata": {},
          "execution_count": 156
        }
      ]
    },
    {
      "cell_type": "code",
      "source": [
        "# sosrt list of (name , age) by age\n",
        "people = [('Ali',20),('Asad',40),('Ahmad',24),('Shahzaib',23)]\n",
        "print(people)\n",
        "sorted_people = sorted(people , key= lambda x: x[1])\n",
        "print(sorted_people)"
      ],
      "metadata": {
        "id": "oj3selnnisbT",
        "colab": {
          "base_uri": "https://localhost:8080/"
        },
        "outputId": "621d0cf6-2796-4ec8-9e89-4fbac2a0b9d2"
      },
      "execution_count": null,
      "outputs": [
        {
          "output_type": "stream",
          "name": "stdout",
          "text": [
            "[('Ali', 20), ('Asad', 40), ('Ahmad', 24), ('Shahzaib', 23)]\n",
            "[('Ali', 20), ('Shahzaib', 23), ('Ahmad', 24), ('Asad', 40)]\n"
          ]
        }
      ]
    },
    {
      "cell_type": "markdown",
      "source": [
        "**reduce() - combine everything into one value. we use this when we wanted to add up or multiply everything in a list to get one single result.**"
      ],
      "metadata": {
        "id": "b971jdZxpKgk"
      }
    },
    {
      "cell_type": "code",
      "source": [
        "# adding all numbers\n",
        "from functools import reduce #module and class like functtools is a module .py's every file module. and reduce is a class in that module(.py file). and one class can have funtions as well.\n",
        "numbers_list = [10,20,30,4]\n",
        "add_up_all = reduce(lambda x,y : x+y, numbers_list)\n",
        "add_up_all"
      ],
      "metadata": {
        "colab": {
          "base_uri": "https://localhost:8080/"
        },
        "id": "RHVQmLlMogLB",
        "outputId": "9bc03f03-05b2-428d-ea98-5acf875d841e"
      },
      "execution_count": null,
      "outputs": [
        {
          "output_type": "execute_result",
          "data": {
            "text/plain": [
              "64"
            ]
          },
          "metadata": {},
          "execution_count": 163
        }
      ]
    },
    {
      "cell_type": "code",
      "source": [
        "# adding all numbers - without lambda\n",
        "from functools import reduce\n",
        "def add(x,y):\n",
        "  return x+y\n",
        "total = reduce(add, [1,20,30,200])\n",
        "total"
      ],
      "metadata": {
        "colab": {
          "base_uri": "https://localhost:8080/"
        },
        "id": "0zwSPslTpq9i",
        "outputId": "357263b0-57a7-4dce-9c0f-c7722232901e"
      },
      "execution_count": null,
      "outputs": [
        {
          "output_type": "execute_result",
          "data": {
            "text/plain": [
              "251"
            ]
          },
          "metadata": {},
          "execution_count": 166
        }
      ]
    },
    {
      "cell_type": "code",
      "source": [
        "import array as my_arr\n",
        "int_array = my_arr.array('f', [1.3, 2.3, 3.3])  # Only integers allowed\n",
        "int_array"
      ],
      "metadata": {
        "id": "q1tuG4Xbquab",
        "colab": {
          "base_uri": "https://localhost:8080/"
        },
        "outputId": "93fd0e52-1ac6-4a12-dabf-0970e96d6e8b"
      },
      "execution_count": null,
      "outputs": [
        {
          "output_type": "execute_result",
          "data": {
            "text/plain": [
              "array('f', [1.2999999523162842, 2.299999952316284, 3.299999952316284])"
            ]
          },
          "metadata": {},
          "execution_count": 42
        }
      ]
    },
    {
      "cell_type": "code",
      "source": [
        "import numpy as np\n",
        "np_array = np.array([1, 2,2.3,'hi'])  # NumPy array\n",
        "np_array"
      ],
      "metadata": {
        "colab": {
          "base_uri": "https://localhost:8080/"
        },
        "id": "nmKai2EJMD9J",
        "outputId": "6b5ebc3b-d081-40e4-f5ef-b9f17c2e551a"
      },
      "execution_count": null,
      "outputs": [
        {
          "output_type": "execute_result",
          "data": {
            "text/plain": [
              "array(['1', '2', '2.3', 'hi'], dtype='<U32')"
            ]
          },
          "metadata": {},
          "execution_count": 53
        }
      ]
    },
    {
      "cell_type": "code",
      "source": [
        "type(np_array)"
      ],
      "metadata": {
        "colab": {
          "base_uri": "https://localhost:8080/"
        },
        "id": "U9mej4-4LBav",
        "outputId": "089632ea-0d72-4e1e-a0d6-7be53acd7b89"
      },
      "execution_count": null,
      "outputs": [
        {
          "output_type": "execute_result",
          "data": {
            "text/plain": [
              "numpy.ndarray"
            ]
          },
          "metadata": {},
          "execution_count": 54
        }
      ]
    },
    {
      "cell_type": "code",
      "source": [
        "import numpy as np\n",
        "arr = np.array([1, 2, 3])\n",
        "arr2 = arr * 2  # Output: array([2, 4, 6])\n",
        "arr2"
      ],
      "metadata": {
        "colab": {
          "base_uri": "https://localhost:8080/"
        },
        "id": "ame7O84rLS0T",
        "outputId": "328ea301-2cdc-40ca-d6ac-44411ae06b0c"
      },
      "execution_count": null,
      "outputs": [
        {
          "output_type": "execute_result",
          "data": {
            "text/plain": [
              "array([2, 4, 6])"
            ]
          },
          "metadata": {},
          "execution_count": 10
        }
      ]
    },
    {
      "cell_type": "code",
      "source": [
        "arr.shape"
      ],
      "metadata": {
        "colab": {
          "base_uri": "https://localhost:8080/"
        },
        "id": "s_3tQEE_dhOG",
        "outputId": "dfabd5f1-8faa-48e8-d2c9-c977ae6bced1"
      },
      "execution_count": null,
      "outputs": [
        {
          "output_type": "execute_result",
          "data": {
            "text/plain": [
              "(3,)"
            ]
          },
          "metadata": {},
          "execution_count": 11
        }
      ]
    },
    {
      "cell_type": "code",
      "source": [
        "\n",
        "# arr = np.array([1, 2, 3])\n",
        "arr = [1, 2, 3]\n",
        "arr2 = arr * 2  # Output: array([2, 4, 6])\n",
        "arr2"
      ],
      "metadata": {
        "colab": {
          "base_uri": "https://localhost:8080/"
        },
        "id": "hGeojpgtQf9j",
        "outputId": "90603801-0947-4428-d031-f5c1863a2a45"
      },
      "execution_count": null,
      "outputs": [
        {
          "output_type": "execute_result",
          "data": {
            "text/plain": [
              "[1, 2, 3, 1, 2, 3]"
            ]
          },
          "metadata": {},
          "execution_count": 57
        }
      ]
    },
    {
      "cell_type": "code",
      "source": [
        "# import array\n",
        "import numpy as np\n",
        "_2D_Array = np.array([[2,4,6,8],[6,8,10,12]])\n",
        "# _2D_Array\n",
        "np.reshape(_2D_Array,(4,2))\n",
        "# myshape = _2D_Array.reshape(8)\n",
        "\n",
        "# _2D_Array.ndim"
      ],
      "metadata": {
        "colab": {
          "base_uri": "https://localhost:8080/"
        },
        "id": "Tz0JA_-CQqWP",
        "outputId": "a8896e2e-9531-412a-f528-975ed19a7c44"
      },
      "execution_count": null,
      "outputs": [
        {
          "output_type": "execute_result",
          "data": {
            "text/plain": [
              "array([[ 2,  4],\n",
              "       [ 6,  8],\n",
              "       [ 6,  8],\n",
              "       [10, 12]])"
            ]
          },
          "metadata": {},
          "execution_count": 73
        }
      ]
    },
    {
      "cell_type": "code",
      "source": [
        "import numpy as np\n",
        "_3d_Array = np.array([[[1,2],[3,4]],[[1,2],[3,4]]])\n",
        "_3d_Array\n",
        "_d_into_2d = np.reshape(_3d_Array,(4,2))\n",
        "_d_into_2d"
      ],
      "metadata": {
        "colab": {
          "base_uri": "https://localhost:8080/"
        },
        "id": "S-_RUEk6m0Da",
        "outputId": "3e5ae31f-af4f-466a-bca0-bb2b715403fe"
      },
      "execution_count": null,
      "outputs": [
        {
          "output_type": "execute_result",
          "data": {
            "text/plain": [
              "array([[1, 2],\n",
              "       [3, 4],\n",
              "       [1, 2],\n",
              "       [3, 4]])"
            ]
          },
          "metadata": {},
          "execution_count": 1
        }
      ]
    },
    {
      "cell_type": "code",
      "source": [
        "_d_into_2d.shape # 4 rows and 2 columns . 4x2 or 4 by 2."
      ],
      "metadata": {
        "colab": {
          "base_uri": "https://localhost:8080/"
        },
        "id": "yKVyyfkecRPp",
        "outputId": "8e8c86ea-f1ed-456b-e834-3d26a6ac579f"
      },
      "execution_count": null,
      "outputs": [
        {
          "output_type": "execute_result",
          "data": {
            "text/plain": [
              "(4, 2)"
            ]
          },
          "metadata": {},
          "execution_count": 4
        }
      ]
    },
    {
      "cell_type": "code",
      "source": [
        "this_tuple = (3,4,5,6)\n",
        "type(this_tuple)"
      ],
      "metadata": {
        "colab": {
          "base_uri": "https://localhost:8080/"
        },
        "id": "tv_ZR_VarQ2d",
        "outputId": "42afe434-d974-4c9c-9794-f6863bf0578b"
      },
      "execution_count": null,
      "outputs": [
        {
          "output_type": "execute_result",
          "data": {
            "text/plain": [
              "tuple"
            ]
          },
          "metadata": {},
          "execution_count": 77
        }
      ]
    },
    {
      "cell_type": "code",
      "source": [
        "def count_up_to(n):\n",
        "    for i in range(1, n+1):\n",
        "        yield i\n",
        "\n",
        "gen = count_up_to(3)\n",
        "print(next(gen))  # 1"
      ],
      "metadata": {
        "colab": {
          "base_uri": "https://localhost:8080/"
        },
        "id": "33n9VZhdtNF4",
        "outputId": "de445fb2-112a-4a19-db77-20bd0681704b"
      },
      "execution_count": null,
      "outputs": [
        {
          "output_type": "stream",
          "name": "stdout",
          "text": [
            "1\n"
          ]
        }
      ]
    },
    {
      "cell_type": "code",
      "source": [
        "count_up_to(3)"
      ],
      "metadata": {
        "colab": {
          "base_uri": "https://localhost:8080/"
        },
        "id": "WIAQGYuInfxe",
        "outputId": "0e0b89a4-e3ff-4cbb-a467-1d3cb2ab1459"
      },
      "execution_count": null,
      "outputs": [
        {
          "output_type": "execute_result",
          "data": {
            "text/plain": [
              "<generator object count_up_to at 0x7d8f0023ef80>"
            ]
          },
          "metadata": {},
          "execution_count": 19
        }
      ]
    },
    {
      "cell_type": "code",
      "source": [
        "print(next(gen))  # 1"
      ],
      "metadata": {
        "colab": {
          "base_uri": "https://localhost:8080/",
          "height": 141
        },
        "id": "tFGbgqf6nB7n",
        "outputId": "7bb0273a-1345-44c0-e6de-af9d9eb7f3a4"
      },
      "execution_count": null,
      "outputs": [
        {
          "output_type": "error",
          "ename": "StopIteration",
          "evalue": "",
          "traceback": [
            "\u001b[0;31m---------------------------------------------------------------------------\u001b[0m",
            "\u001b[0;31mStopIteration\u001b[0m                             Traceback (most recent call last)",
            "\u001b[0;32m/tmp/ipython-input-16-1437998731.py\u001b[0m in \u001b[0;36m<cell line: 0>\u001b[0;34m()\u001b[0m\n\u001b[0;32m----> 1\u001b[0;31m \u001b[0mprint\u001b[0m\u001b[0;34m(\u001b[0m\u001b[0mnext\u001b[0m\u001b[0;34m(\u001b[0m\u001b[0mgen\u001b[0m\u001b[0;34m)\u001b[0m\u001b[0;34m)\u001b[0m  \u001b[0;31m# 1\u001b[0m\u001b[0;34m\u001b[0m\u001b[0;34m\u001b[0m\u001b[0m\n\u001b[0m",
            "\u001b[0;31mStopIteration\u001b[0m: "
          ]
        }
      ]
    },
    {
      "cell_type": "code",
      "source": [
        "gen = (x**2 for x in range(5))"
      ],
      "metadata": {
        "id": "3wQjs7cPnTqq"
      },
      "execution_count": null,
      "outputs": []
    },
    {
      "cell_type": "code",
      "source": [
        "next(gen)"
      ],
      "metadata": {
        "id": "WpofEJWgnx_9"
      },
      "execution_count": null,
      "outputs": []
    },
    {
      "cell_type": "code",
      "source": [
        "import this"
      ],
      "metadata": {
        "id": "WTvjfi52ny_f",
        "colab": {
          "base_uri": "https://localhost:8080/"
        },
        "outputId": "5d5cf522-0b11-4d69-b11a-97a5811e2352"
      },
      "execution_count": null,
      "outputs": [
        {
          "output_type": "stream",
          "name": "stdout",
          "text": [
            "The Zen of Python, by Tim Peters\n",
            "\n",
            "Beautiful is better than ugly.\n",
            "Explicit is better than implicit.\n",
            "Simple is better than complex.\n",
            "Complex is better than complicated.\n",
            "Flat is better than nested.\n",
            "Sparse is better than dense.\n",
            "Readability counts.\n",
            "Special cases aren't special enough to break the rules.\n",
            "Although practicality beats purity.\n",
            "Errors should never pass silently.\n",
            "Unless explicitly silenced.\n",
            "In the face of ambiguity, refuse the temptation to guess.\n",
            "There should be one-- and preferably only one --obvious way to do it.\n",
            "Although that way may not be obvious at first unless you're Dutch.\n",
            "Now is better than never.\n",
            "Although never is often better than *right* now.\n",
            "If the implementation is hard to explain, it's a bad idea.\n",
            "If the implementation is easy to explain, it may be a good idea.\n",
            "Namespaces are one honking great idea -- let's do more of those!\n"
          ]
        }
      ]
    },
    {
      "cell_type": "markdown",
      "source": [
        "**Special Methods, Dunder methods,magic methods. because they implicilty \"under the hood\" calls the __func__ functions like init,new etc.**"
      ],
      "metadata": {
        "id": "XmafqACVswJa"
      }
    },
    {
      "cell_type": "code",
      "source": [
        "class Point:\n",
        "  def __init__(self,x,y):\n",
        "    self.x = x\n",
        "    self.y = y\n",
        "p = Point(23,40)\n",
        "p.x,p.y"
      ],
      "metadata": {
        "colab": {
          "base_uri": "https://localhost:8080/"
        },
        "id": "Z5nCYHkeWRcw",
        "outputId": "52309fa8-7125-4f0e-a859-329908466960"
      },
      "execution_count": null,
      "outputs": [
        {
          "output_type": "execute_result",
          "data": {
            "text/plain": [
              "(23, 40)"
            ]
          },
          "metadata": {},
          "execution_count": 2
        }
      ]
    },
    {
      "cell_type": "code",
      "source": [
        "#This code displays the 'magic methods' inherited by int,str and float class.\n",
        "print(dir(str)),print(dir(int)),print(dir(float))"
      ],
      "metadata": {
        "id": "-ILouxW7uJZE",
        "colab": {
          "base_uri": "https://localhost:8080/"
        },
        "outputId": "64fd1d23-be41-4b41-d6dc-797a1ae6ecf1"
      },
      "execution_count": null,
      "outputs": [
        {
          "output_type": "stream",
          "name": "stdout",
          "text": [
            "['__add__', '__class__', '__contains__', '__delattr__', '__dir__', '__doc__', '__eq__', '__format__', '__ge__', '__getattribute__', '__getitem__', '__getnewargs__', '__getstate__', '__gt__', '__hash__', '__init__', '__init_subclass__', '__iter__', '__le__', '__len__', '__lt__', '__mod__', '__mul__', '__ne__', '__new__', '__reduce__', '__reduce_ex__', '__repr__', '__rmod__', '__rmul__', '__setattr__', '__sizeof__', '__str__', '__subclasshook__', 'capitalize', 'casefold', 'center', 'count', 'encode', 'endswith', 'expandtabs', 'find', 'format', 'format_map', 'index', 'isalnum', 'isalpha', 'isascii', 'isdecimal', 'isdigit', 'isidentifier', 'islower', 'isnumeric', 'isprintable', 'isspace', 'istitle', 'isupper', 'join', 'ljust', 'lower', 'lstrip', 'maketrans', 'partition', 'removeprefix', 'removesuffix', 'replace', 'rfind', 'rindex', 'rjust', 'rpartition', 'rsplit', 'rstrip', 'split', 'splitlines', 'startswith', 'strip', 'swapcase', 'title', 'translate', 'upper', 'zfill']\n",
            "['__abs__', '__add__', '__and__', '__bool__', '__ceil__', '__class__', '__delattr__', '__dir__', '__divmod__', '__doc__', '__eq__', '__float__', '__floor__', '__floordiv__', '__format__', '__ge__', '__getattribute__', '__getnewargs__', '__getstate__', '__gt__', '__hash__', '__index__', '__init__', '__init_subclass__', '__int__', '__invert__', '__le__', '__lshift__', '__lt__', '__mod__', '__mul__', '__ne__', '__neg__', '__new__', '__or__', '__pos__', '__pow__', '__radd__', '__rand__', '__rdivmod__', '__reduce__', '__reduce_ex__', '__repr__', '__rfloordiv__', '__rlshift__', '__rmod__', '__rmul__', '__ror__', '__round__', '__rpow__', '__rrshift__', '__rshift__', '__rsub__', '__rtruediv__', '__rxor__', '__setattr__', '__sizeof__', '__str__', '__sub__', '__subclasshook__', '__truediv__', '__trunc__', '__xor__', 'as_integer_ratio', 'bit_count', 'bit_length', 'conjugate', 'denominator', 'from_bytes', 'imag', 'numerator', 'real', 'to_bytes']\n",
            "['__abs__', '__add__', '__bool__', '__ceil__', '__class__', '__delattr__', '__dir__', '__divmod__', '__doc__', '__eq__', '__float__', '__floor__', '__floordiv__', '__format__', '__ge__', '__getattribute__', '__getformat__', '__getnewargs__', '__getstate__', '__gt__', '__hash__', '__init__', '__init_subclass__', '__int__', '__le__', '__lt__', '__mod__', '__mul__', '__ne__', '__neg__', '__new__', '__pos__', '__pow__', '__radd__', '__rdivmod__', '__reduce__', '__reduce_ex__', '__repr__', '__rfloordiv__', '__rmod__', '__rmul__', '__round__', '__rpow__', '__rsub__', '__rtruediv__', '__setattr__', '__sizeof__', '__str__', '__sub__', '__subclasshook__', '__truediv__', '__trunc__', 'as_integer_ratio', 'conjugate', 'fromhex', 'hex', 'imag', 'is_integer', 'real']\n"
          ]
        },
        {
          "output_type": "execute_result",
          "data": {
            "text/plain": [
              "(None, None, None)"
            ]
          },
          "metadata": {},
          "execution_count": 9
        }
      ]
    },
    {
      "cell_type": "code",
      "source": [
        "class Bag:\n",
        "    def __init__(self, items):\n",
        "        self.items = items\n",
        "\n",
        "    def __len__(self):  # Automatically called by len(bag)\n",
        "        return len(self.items)\n",
        "\n",
        "    def __add__(self, other):  # Called by bag1 + bag2\n",
        "        return Bag(self.items + other.items)\n",
        "\n",
        "    def __eq__(self, other):  # Called by bag1 == bag2\n",
        "        return self.items == other.items\n",
        "\n",
        "bag1 = Bag(['apple', 'banana'])\n",
        "bag2 = Bag(['apple', 'banana'])\n",
        "bag3 = Bag(['chips'])\n",
        "\n",
        "print(len(bag1))      # Calls __len__\n",
        "print(bag1 + bag3)    # Calls __add__\n",
        "print(bag1 == bag2)   # Calls __eq__\n"
      ],
      "metadata": {
        "id": "ikF8er6QuOke"
      },
      "execution_count": null,
      "outputs": []
    },
    {
      "cell_type": "code",
      "source": [
        "item1 = 1\n",
        "item2 = 4\n",
        "def add():  # Called by bag1 + bag2\n",
        "    return item1 + item2"
      ],
      "metadata": {
        "id": "ESaw8EeHBVw4"
      },
      "execution_count": null,
      "outputs": []
    },
    {
      "cell_type": "code",
      "source": [
        "add()"
      ],
      "metadata": {
        "colab": {
          "base_uri": "https://localhost:8080/"
        },
        "id": "o2PbwBUcBa7y",
        "outputId": "95948817-a4a6-4237-d658-2b2b6b6e39df"
      },
      "execution_count": null,
      "outputs": [
        {
          "output_type": "execute_result",
          "data": {
            "text/plain": [
              "5"
            ]
          },
          "metadata": {},
          "execution_count": 6
        }
      ]
    },
    {
      "cell_type": "markdown",
      "source": [
        "**Object Oriented Programming (OOP in Python)**"
      ],
      "metadata": {
        "id": "2rr_XTXBuBs3"
      }
    },
    {
      "cell_type": "markdown",
      "source": [
        "**Classes - Class is like an object constructors or a blueprint for creating objects - \"Almost everything in Python is an object, with its properties and methods.\"**"
      ],
      "metadata": {
        "id": "wg285X39uKRO"
      }
    },
    {
      "cell_type": "code",
      "source": [
        "class Person:\n",
        "    def __init__(self, age):\n",
        "        print(\"Constructor (__init__) is running...\")\n",
        "        self.age = age\n",
        "        print(\"Age has been set.\")\n",
        "\n",
        "print(\"Creating object now...\")\n",
        "# Explicitly call the default __new__ from the object class\n",
        "instance = object.__new__(Person)  # Create instance without initializing\n",
        "instance1 = object.__new__(Person)  # Create instance without initializing\n",
        "\"\"\"new object and __new__ is allocating the different memory locations\n",
        "to both of them. so 'is' op would not work on them.\n",
        "\"\"\"\n",
        "print(\"Object created by __new__:\", instance)\n",
        "print(\"Object1 created by __new__:\", instance1)\n",
        "instance.__init__(20)  # Manually call __init__ to initialize\n",
        "print(\"Age of person:\", instance.age)"
      ],
      "metadata": {
        "colab": {
          "base_uri": "https://localhost:8080/"
        },
        "id": "AiPOzrDNmSXn",
        "outputId": "6dcdd2c6-655e-47eb-a076-cfdaff0b7c7f"
      },
      "execution_count": 21,
      "outputs": [
        {
          "output_type": "stream",
          "name": "stdout",
          "text": [
            "Creating object now...\n",
            "Object created by __new__: <__main__.Person object at 0x7c1c5c57a810>\n",
            "Object1 created by __new__: <__main__.Person object at 0x7c1c5c57ac10>\n",
            "Constructor (__init__) is running...\n",
            "Age has been set.\n",
            "Age of person: 20\n"
          ]
        }
      ]
    },
    {
      "cell_type": "code",
      "source": [
        "class Person:\n",
        "  def __init__(self, age):\n",
        "    print(\"Constructor (__init__) is running...\")\n",
        "    self.age = age\n",
        "    print(\"Age has been set.\")\n",
        "\n",
        "print(\"\"\"this will be print first and then next line and then move to the #8 line for creating\n",
        "the object and then to the __init__ and set the value and then printed\")\n",
        "print(\"Creating object now...\"\"\")\n",
        "p1 = Person(40)  # __init__ is called\n",
        "print(\"Object created.\")\n",
        "print(\"Age of person:\", p1.age)"
      ],
      "metadata": {
        "colab": {
          "base_uri": "https://localhost:8080/"
        },
        "id": "fgF7rz3bXESD",
        "outputId": "17582ca0-fe52-4fef-e1e7-5056d905976c"
      },
      "execution_count": 18,
      "outputs": [
        {
          "output_type": "stream",
          "name": "stdout",
          "text": [
            "this will be print first and then next line and then move to the #8 line for creating \n",
            "the object and then to the __init__ and set the value and then printed\")    \n",
            "print(\"Creating object now...\n",
            "Constructor (__init__) is running...\n",
            "Age has been set.\n",
            "Object created.\n",
            "Age of person: 40\n"
          ]
        }
      ]
    },
    {
      "cell_type": "code",
      "source": [
        "class Person:\n",
        "    def __new__(cls, name, age):\n",
        "        print(f\"In __new__: Creating instance\")\n",
        "        instance = super().__new__(cls)\n",
        "        instance.name = \"DefaultName\"  # Set in __new__\n",
        "        instance.age = 0              # Set in __new__\n",
        "        return instance\n",
        "\n",
        "    def __init__(self, name, age):\n",
        "        print(f\"In __init__: Initializing instance\")\n",
        "        self.name = name  # Overrides name from __new__\n",
        "        self.age = age    # Overrides age from __new__\n",
        "\n",
        "    def __str__(self):\n",
        "        return f\"Name: {self.name}, Age: {self.age}\"\n",
        "\n",
        "# Create an instance\n",
        "person = Person(\"Alice\", 25)\n",
        "print(person)\n",
        "# print(person.name,person.age)# not need to use __str__"
      ],
      "metadata": {
        "colab": {
          "base_uri": "https://localhost:8080/"
        },
        "id": "NnVilAkB9LDF",
        "outputId": "cfe89922-8794-4bfe-8008-6188a3df7865"
      },
      "execution_count": 33,
      "outputs": [
        {
          "output_type": "stream",
          "name": "stdout",
          "text": [
            "In __new__: Creating instance\n",
            "In __init__: Initializing instance\n",
            "Name: Alice, Age: 25\n"
          ]
        }
      ]
    },
    {
      "cell_type": "code",
      "source": [
        "#If __new__ sets attributes that __init__ doesn’t touch, those attributes remain unchanged:\n",
        "class Person:\n",
        "    def __new__(cls, name, age):\n",
        "        instance = super().__new__(cls)\n",
        "        instance.created = True  # Set in __new__, not touched by __init__\n",
        "        return instance\n",
        "\n",
        "    def __init__(self, name, age):\n",
        "        self.name = name\n",
        "        self.age = age\n",
        "\n",
        "    def __str__(self):\n",
        "        return f\"Name: {self.name}, Age: {self.age}, Created: {self.created}\"\n",
        "\n",
        "person = Person(\"Alice\", 25)\n",
        "print(person)"
      ],
      "metadata": {
        "colab": {
          "base_uri": "https://localhost:8080/"
        },
        "id": "32dhwsu5_Izv",
        "outputId": "91183c91-e8b2-49a9-9bdf-3808f81ed911"
      },
      "execution_count": 29,
      "outputs": [
        {
          "output_type": "stream",
          "name": "stdout",
          "text": [
            "Name: Alice, Age: 25, Created: True\n"
          ]
        }
      ]
    },
    {
      "cell_type": "code",
      "source": [
        "class MyClass:\n",
        "    def __new__(cls):\n",
        "        print(\"In __new__\")\n",
        "        return \"Fake object\"\n",
        "\n",
        "    def __init__(self):\n",
        "        print(\"In __init__\")\n",
        "\n",
        "obj = MyClass()\n",
        "print(obj)\n",
        "\"\"\"__init__ is not even called, because __new__ didn’t return a real instance of MyClass.\n",
        "#output: In __new__\n",
        "\"Fake object\"\n",
        "\n",
        "\"\"\""
      ],
      "metadata": {
        "id": "mwfUYfxFBkKi"
      },
      "execution_count": null,
      "outputs": []
    },
    {
      "cell_type": "code",
      "source": [
        "#very basic example\n",
        "class MyClass: #class name\n",
        "  x = 5  # property\n",
        "  y = 4"
      ],
      "metadata": {
        "id": "32D8FlmTCNYV"
      },
      "execution_count": 35,
      "outputs": []
    },
    {
      "cell_type": "code",
      "source": [
        "class Employee:\n",
        "    def __new__(cls, *args, **kwargs):\n",
        "        print(\"[__new__] cls:\", cls)\n",
        "        print(\"[__new__] args:\", args)\n",
        "        instance = super().__new__(cls)\n",
        "        return instance\n",
        "\n",
        "    def __init__(self, name, age, department):\n",
        "        print(\"[__init__] self:\", self)\n",
        "        print(\"[__init__] name:\", name)\n",
        "        print(\"[__init__] age:\", age)\n",
        "        print(\"[__init__] dept:\", department)\n",
        "        self.name = name\n",
        "        self.age = age\n",
        "        self.department = department\n",
        "\n",
        "e = Employee(\"Alice\", 30, \"IT\")\n"
      ],
      "metadata": {
        "colab": {
          "base_uri": "https://localhost:8080/"
        },
        "id": "nhPCu2Q6_BgZ",
        "outputId": "ef511974-eb98-4a66-8928-4d7f35d2cbd7"
      },
      "execution_count": 1,
      "outputs": [
        {
          "output_type": "stream",
          "name": "stdout",
          "text": [
            "[__new__] cls: <class '__main__.Employee'>\n",
            "[__new__] args: ('Alice', 30, 'IT')\n",
            "[__init__] self: <__main__.Employee object at 0x7e142ea06ed0>\n",
            "[__init__] name: Alice\n",
            "[__init__] age: 30\n",
            "[__init__] dept: IT\n"
          ]
        }
      ]
    },
    {
      "cell_type": "code",
      "source": [
        "p1 = MyClass()\n",
        "print(p1.x + p1.y)\n",
        "print(\"is MyClass is child of Object built-in class\", issubclass(MyClass,object))"
      ],
      "metadata": {
        "colab": {
          "base_uri": "https://localhost:8080/"
        },
        "id": "FxPYTDXlv-_T",
        "outputId": "875eb5c6-61a5-4d83-ef2e-32ae570a50dc"
      },
      "execution_count": 26,
      "outputs": [
        {
          "output_type": "stream",
          "name": "stdout",
          "text": [
            "9\n",
            "is MyClass is child of Object built-in class True\n"
          ]
        }
      ]
    },
    {
      "cell_type": "markdown",
      "source": [
        "**init** method in classes."
      ],
      "metadata": {
        "id": "zoNSE4j-4oLU"
      }
    },
    {
      "cell_type": "code",
      "source": [],
      "metadata": {
        "id": "qhDTSZ7H4ngR"
      },
      "execution_count": null,
      "outputs": []
    },
    {
      "cell_type": "code",
      "source": [
        "\"\"\"All classes have a function called __init__(), which is always executed when the class is\n",
        "being initiated(or the object of class is created(__new__ for ref), if 5objects created it (init) will be called 5 times).\n",
        "Use the __init__() function to assign values(initial values basically) to object properties,\n",
        "or other operations that are necessary to do when the object is being created\"\"\"\n",
        "class Person:\n",
        "  def __init__(self, name, age):\n",
        "     self.name = name\n",
        "     self.age = age"
      ],
      "metadata": {
        "id": "c-LEbSQNwX_b"
      },
      "execution_count": null,
      "outputs": []
    },
    {
      "cell_type": "code",
      "source": [
        "p2 = Person(\"shahzaib\", 23)\n",
        "print(p2.name, p2.age)"
      ],
      "metadata": {
        "colab": {
          "base_uri": "https://localhost:8080/"
        },
        "id": "94wzF9u9xQo_",
        "outputId": "c819f6c1-6c1e-47f4-d4d3-c9dfc4bd9dba"
      },
      "execution_count": null,
      "outputs": [
        {
          "output_type": "stream",
          "name": "stdout",
          "text": [
            "shahzaib 23\n"
          ]
        }
      ]
    },
    {
      "cell_type": "markdown",
      "source": [
        "**Note: The __ init __() function is called automatically every time the class is being used to create a new object.**"
      ],
      "metadata": {
        "id": "OrHg22hhx1oL"
      }
    },
    {
      "cell_type": "code",
      "source": [
        "class Person:\n",
        "  def __init__(self, age):\n",
        "    print(\"Constructor (__init__) is running...\")\n",
        "    self.age = age\n",
        "    print(\"Age has been set.\")\n",
        "  def display(self):\n",
        "    return f\"Age: {self.age}\"\n",
        "\n",
        "print(\"Creating object now...\")\n",
        "p1 = Person(40)  # __init__ is called\n",
        "print(\"Object created.\")\n",
        "print(\"Age of person:\", p1.age)\n",
        "print(\"Age of person using my function:\", p1.display())"
      ],
      "metadata": {
        "id": "Knc16HMe1Tl-",
        "colab": {
          "base_uri": "https://localhost:8080/"
        },
        "outputId": "348cd1ae-8816-4145-ffa6-e21e239937d4"
      },
      "execution_count": 4,
      "outputs": [
        {
          "output_type": "stream",
          "name": "stdout",
          "text": [
            "Creating object now...\n",
            "Constructor (__init__) is running...\n",
            "Age has been set.\n",
            "Object created.\n",
            "Age of person: 40\n",
            "Age of person using my function: Age: 40\n"
          ]
        }
      ]
    },
    {
      "cell_type": "code",
      "source": [
        "class House:\n",
        "    def __init__(self, wall_material):\n",
        "        self.set_wall_material(wall_material)\n",
        "\n",
        "    def set_wall_material(self, wall_material):\n",
        "        self.wall_material = wall_material\n",
        "\n",
        "    def get_wall_material(self):\n",
        "        return self.wall_material\n",
        "\n",
        "# Example usage\n",
        "print(\"Creating a new house...\")\n",
        "print(\"This will print first, then create the object, and finally call the __init__ method to set the wall material.\")\n",
        "if __name__ == \"__main__\":\n",
        "    my_house = House(\"Brick\")\n",
        "    print(f\"Wall material of my house: {my_house.get_wall_material()}\")\n",
        "\n",
        "    my_house.set_wall_material(\"Wood\")\n",
        "    print(f\"Updated wall material of my house: {my_house.get_wall_material()}\")"
      ],
      "metadata": {
        "colab": {
          "base_uri": "https://localhost:8080/"
        },
        "id": "73VziLjcGnku",
        "outputId": "85f6ca80-07df-4953-c09a-882abb99d2f2"
      },
      "execution_count": 5,
      "outputs": [
        {
          "output_type": "stream",
          "name": "stdout",
          "text": [
            "Creating a new house...\n",
            "This will print first, then create the object, and finally call the __init__ method to set the wall material.\n",
            "Wall material of my house: Brick\n",
            "Updated wall material of my house: Wood\n"
          ]
        }
      ]
    },
    {
      "cell_type": "markdown",
      "source": [
        "**How does object create and how does class(abject) gets  called using (_call __)function in type(parent of class) and then in __new() and then in __init()**\n",
        "here is a complete lifecycle\n"
      ],
      "metadata": {
        "id": "WHd7JpRxPgS2"
      }
    },
    {
      "cell_type": "code",
      "source": [
        "class Employee:\n",
        "    def __new__(cls, *args, **kwargs):\n",
        "        print(\"[__new__] cls:\", cls)\n",
        "        print(\"[__new__] args:\", args)\n",
        "        instance = super().__new__(cls)\n",
        "        return instance\n",
        "\n",
        "    def __init__(self, name, age, department):\n",
        "        print(\"[__init__] self:\", self)\n",
        "        print(\"[__init__] name(self):\", self.name if hasattr(self, 'name') else None)# testing if name is empty\n",
        "        print(\"[__init__] name:\", name)\n",
        "        print(\"[__init__] age:\", age)\n",
        "        print(\"[__init__] dept:\", department)\n",
        "        self.name = name\n",
        "        self.age = age\n",
        "        self.department = department\n",
        "    def dispaly_info(self):\n",
        "        return f\"Name: {self.name}, Age: {self.age}, Department: {self.department}\"\n",
        "\n",
        "e = Employee(\"Alice\", 30, \"IT\")\n",
        "e1 = Employee(\"Alice\", 100, \"HR\")\n",
        "print(\"Employee created:\", e)\n",
        "print(\"Employee created1:\", e1)\n",
        "\n",
        "# print(\"Name:\", e.name)\n",
        "# print(\"age:\", e.age)\n",
        "# print(\"Department:\", e.department)\n",
        "print(\"Employee Info:\", e.dispaly_info())\n",
        "print(\"Employee Info:\", e1.dispaly_info())\n",
        " # This will return False since they are different instances\n",
        "print(\"Are e and e1 the same instance?\", e is e1)  # Should print False"
      ],
      "metadata": {
        "colab": {
          "base_uri": "https://localhost:8080/"
        },
        "id": "n5DLxSnLQHdd",
        "outputId": "c280bfe7-bb70-4002-b02d-636970e52f1d"
      },
      "execution_count": 6,
      "outputs": [
        {
          "output_type": "stream",
          "name": "stdout",
          "text": [
            "[__new__] cls: <class '__main__.Employee'>\n",
            "[__new__] args: ('Alice', 30, 'IT')\n",
            "[__init__] self: <__main__.Employee object at 0x7e13fe2b9990>\n",
            "[__init__] name(self): None\n",
            "[__init__] name: Alice\n",
            "[__init__] age: 30\n",
            "[__init__] dept: IT\n",
            "[__new__] cls: <class '__main__.Employee'>\n",
            "[__new__] args: ('Alice', 100, 'HR')\n",
            "[__init__] self: <__main__.Employee object at 0x7e13fe28f790>\n",
            "[__init__] name(self): None\n",
            "[__init__] name: Alice\n",
            "[__init__] age: 100\n",
            "[__init__] dept: HR\n",
            "Employee created: <__main__.Employee object at 0x7e13fe2b9990>\n",
            "Employee created1: <__main__.Employee object at 0x7e13fe28f790>\n",
            "Employee Info: Name: Alice, Age: 30, Department: IT\n",
            "Employee Info: Name: Alice, Age: 100, Department: HR\n",
            "Are e and e1 the same instance? False\n"
          ]
        }
      ]
    },
    {
      "cell_type": "code",
      "source": [
        "class Employee:\n",
        "    def __init__(self, name, position, salary):\n",
        "        self.name = name\n",
        "        self.position = position\n",
        "        self.salary = salary\n",
        "\n",
        "    def display_details(self):\n",
        "        return f\"Name: {self.name}, Position: {self.position}, Salary: ${self.salary}\"\n",
        "\n",
        "# Real case scenario\n",
        "e1 = Employee(\"Alice\", \"Software Engineer\", 85000)\n",
        "e2 = e1.display_details()\n",
        "print(e2)#little lengthy but it is making more sense to use the method to display details\n"
      ],
      "metadata": {
        "colab": {
          "base_uri": "https://localhost:8080/"
        },
        "id": "2Gkez2LqQIyy",
        "outputId": "29bbebc1-3feb-448e-fc3f-8ab4bdcda7d6"
      },
      "execution_count": 7,
      "outputs": [
        {
          "output_type": "stream",
          "name": "stdout",
          "text": [
            "Name: Alice, Position: Software Engineer, Salary: $85000\n"
          ]
        }
      ]
    },
    {
      "cell_type": "markdown",
      "source": [
        "**Use cases: Singleton Pattern > Subclassing built-in immutable types > Custom Object Allocation >Metaprogramming (Frameworks) for these 4 use cases. __init is not enough to handle them, so here __new comes into play.**"
      ],
      "metadata": {
        "id": "4Mg4QYD0U6hI"
      }
    },
    {
      "cell_type": "markdown",
      "source": [
        "**Singlerton:**\n",
        "**how to prevent init to creating multiple objects** **and what ever the __new() dunder method will give to __init() dunder, it will only use that and this __init() has NO power to 'return' anythying, but if __new() dont want to give anythying to and simply returns on his own behalf(new has the power to return) then debugger will not enter into the __init**"
      ],
      "metadata": {
        "id": "EDKN_2FhQWt-"
      }
    },
    {
      "cell_type": "code",
      "source": [
        "class Singleton:\n",
        "    _instance = None\n",
        "    _initialized = False\n",
        "\n",
        "    def __new__(cls, name):\n",
        "        if cls._instance is None:\n",
        "            print(\"__new__: Creating singleton instance\")\n",
        "            cls._instance = super().__new__(cls)\n",
        "        else:\n",
        "            print(\"__new__: Returning existing instance\")\n",
        "        return cls._instance\n",
        "\n",
        "    def __init__(self, name):\n",
        "        if not self._initialized:\n",
        "            print(f\"__init__: Initializing with name = '{name}'\")#we eliminate the power of __init__ creating the new instances by __new__ (use case Db string)\n",
        "            self.name = name\n",
        "            Singleton._initialized = True\n",
        "        else:\n",
        "            print(\"__init__: Already initialized, skipping re-init\")\n",
        "\n",
        "\n",
        "a = Singleton(\"Alice\")\n",
        "print(a.name)\n",
        "b = Singleton(\"Bob\")\n",
        "print(b.name)\n",
        "print(id(a)) #138624153814032\n",
        "print(id(b)) #138624153814032\n",
        "print(a is b)# pointing towards the same reference - True\n",
        "a == b # also true . idk even 800 and 670 as well (greater than > 256(out of -5 to 256 range))"
      ],
      "metadata": {
        "colab": {
          "base_uri": "https://localhost:8080/"
        },
        "id": "jfOnugl8QOW4",
        "outputId": "481378fb-4f2b-4ca1-9d42-2973fe51a1af"
      },
      "execution_count": 13,
      "outputs": [
        {
          "output_type": "stream",
          "name": "stdout",
          "text": [
            "__new__: Creating singleton instance\n",
            "__init__: Initializing with name = 'Alice'\n",
            "Alice\n",
            "__new__: Returning existing instance\n",
            "__init__: Already initialized, skipping re-init\n",
            "Alice\n",
            "138624146334352\n",
            "138624146334352\n",
            "True\n"
          ]
        },
        {
          "output_type": "execute_result",
          "data": {
            "text/plain": [
              "True"
            ]
          },
          "metadata": {},
          "execution_count": 13
        }
      ]
    },
    {
      "cell_type": "code",
      "source": [
        "#Subclassing built-in immutable types\n",
        "#Use __new__ only in advanced scenarios, like when subclassing immutable types (e.g., str, int).(below explananation)\n",
        "#3 others > Singleton Pattern > Custom Object Allocation > Metaprogramming (Frameworks)\n",
        "# In Python, immutable types like str and int cannot be modified after creation.\n",
        "# If you want to create a subclass of an immutable type, you must override the __new__ method to create a new instance of the class.\n",
        "\n",
        "\n",
        "#Let’s say you want to subclass str and force it to be always uppercase.\n",
        "\n",
        "\n",
        "#__init__ won’t work\n",
        "\n",
        "class MyString(str):\n",
        "    def __init__(self, value):\n",
        "        print(\"init called\")\n",
        "        self = value.upper()  # this has no effect\n",
        "s = MyString(\"hello\")\n",
        "print(s)  # still prints \"hello\"\n",
        "# To ensure the string is always uppercase, we need to override __new__ instead of __init__.\n"
      ],
      "metadata": {
        "colab": {
          "base_uri": "https://localhost:8080/"
        },
        "id": "gOuy6FJ4VdnJ",
        "outputId": "01d066b5-363f-4835-b60c-9da01a63370a"
      },
      "execution_count": 15,
      "outputs": [
        {
          "output_type": "stream",
          "name": "stdout",
          "text": [
            "init called\n",
            "hello\n"
          ]
        }
      ]
    },
    {
      "cell_type": "markdown",
      "source": [
        "**To ensure the string is always uppercase, we need to override new__ instead of init__.**\n",
        "**so we will use new instead of init**"
      ],
      "metadata": {
        "id": "JNwoQNcBVjuf"
      }
    },
    {
      "cell_type": "code",
      "source": [
        "class MyString(str):\n",
        "    def __new__(cls, value):\n",
        "        print(\"new called\")\n",
        "        obj = super().__new__(cls, value.upper())\n",
        "        return obj\n",
        "s = MyString(\"hello\")\n",
        "print(s)  # ✅ HELLO\n"
      ],
      "metadata": {
        "colab": {
          "base_uri": "https://localhost:8080/"
        },
        "id": "ToB-XjoiVufd",
        "outputId": "16791f7f-8024-461c-83c3-d58cddbdf850"
      },
      "execution_count": 16,
      "outputs": [
        {
          "output_type": "stream",
          "name": "stdout",
          "text": [
            "new called\n",
            "HELLO\n"
          ]
        }
      ]
    },
    {
      "cell_type": "markdown",
      "source": [
        "**Encapsulation**"
      ],
      "metadata": {
        "id": "6of4uUBpS_ns"
      }
    },
    {
      "cell_type": "code",
      "source": [
        "# Encapsulation is one of the fundamental principles of Object-Oriented Programming (OOP).\n",
        "# It refers to the bundling of data (attributes) and methods (functions) that operate on the data into a single unit, called a class.\n",
        "# Encapsulation also restricts direct access to some of the object's components, which is achieved using access modifiers.\n",
        "\n",
        "class BankAccount:\n",
        "    \"\"\"\n",
        "    A class to represent a bank account.\n",
        "    This class demonstrates encapsulation by restricting access to sensitive data like the account balance.\n",
        "    \"\"\"\n",
        "\n",
        "    def __init__(self, account_holder, initial_balance):\n",
        "        # Public attribute: account_holder can be accessed directly.\n",
        "        self.account_holder = account_holder\n",
        "\n",
        "        # Private attribute: balance is prefixed with an underscore to indicate restricted access.\n",
        "        # It cannot be accessed directly outside the class.\n",
        "        self.__balance = initial_balance\n",
        "\n",
        "    def deposit(self, amount):\n",
        "        \"\"\"\n",
        "        Public method to deposit money into the account.\n",
        "        This method allows controlled access to modify the balance.\n",
        "        \"\"\"\n",
        "        if amount > 0:\n",
        "            self.__balance += amount\n",
        "            print(f\"Deposited {amount}. New balance: {self.__balance}\")\n",
        "        else:\n",
        "            print(\"Deposit amount must be positive.\")\n",
        "\n",
        "    def withdraw(self, amount):\n",
        "        \"\"\"\n",
        "        Public method to withdraw money from the account.\n",
        "        This method ensures controlled access to the balance and prevents overdrawing.\n",
        "        \"\"\"\n",
        "        if 0 < amount <= self.__balance:\n",
        "            self.__balance -= amount\n",
        "            print(f\"Withdrew {amount}. New balance: {self.__balance}\")\n",
        "        else:\n",
        "            print(\"Invalid withdrawal amount or insufficient funds.\")\n",
        "\n",
        "    def get_balance(self):\n",
        "        \"\"\"\n",
        "        Public method to retrieve the current balance.\n",
        "        This method provides read-only access to the private balance attribute.\n",
        "        \"\"\"\n",
        "        return self.__balance\n",
        "\n",
        "# Example usage of the BankAccount class\n",
        "if __name__ == \"__main__\":\n",
        "\n",
        "    print(\"Creating a new bank account...\")\n",
        "    print(\"This will print first, then create the object, and finally call the __init__ method to set the initial balance.\")\n",
        "    print(\"Creating object now...\")\n",
        "\n",
        "    # Create a new bank account\n",
        "    account = BankAccount(\"John Doe\", 1000)\n",
        "\n",
        "    # Access public attribute\n",
        "    print(f\"Account Holder: {account.account_holder}\")\n",
        "\n",
        "    # Deposit money\n",
        "    account.deposit(500)\n",
        "\n",
        "    # Withdraw money\n",
        "    account.withdraw(300)\n",
        "\n",
        "    # Retrieve the balance using the public method\n",
        "    print(f\"Current Balance: {account.get_balance()}\")\n",
        "\n",
        "    # Attempt to access the private attribute directly (not recommended)\n",
        "    # This will raise an AttributeError because __balance is private.\n",
        "    try:\n",
        "        print(account.__balance)\n",
        "    except AttributeError:\n",
        "        print(\"Cannot access private attribute __balance directly.\")"
      ],
      "metadata": {
        "colab": {
          "base_uri": "https://localhost:8080/"
        },
        "id": "MTJ2w2e0RZJ3",
        "outputId": "5fc026e7-a4dd-4c1e-d6ec-3f19b90a80af"
      },
      "execution_count": 14,
      "outputs": [
        {
          "output_type": "stream",
          "name": "stdout",
          "text": [
            "Creating a new bank account...\n",
            "This will print first, then create the object, and finally call the __init__ method to set the initial balance.\n",
            "Creating object now...\n",
            "Account Holder: John Doe\n",
            "Deposited 500. New balance: 1500\n",
            "Withdrew 300. New balance: 1200\n",
            "Current Balance: 1200\n",
            "Cannot access private attribute __balance directly.\n"
          ]
        }
      ]
    },
    {
      "cell_type": "markdown",
      "source": [
        "**__new is capaable of returnning** but __init is not\n",
        "example below:\n"
      ],
      "metadata": {
        "id": "fXrpqNzdWX_p"
      }
    },
    {
      "cell_type": "code",
      "source": [
        "# class MyClass:\n",
        "#     def __new__(cls):\n",
        "#         print(\"In __new__\")\n",
        "#         return \"Fake object\"\n",
        "\n",
        "#     def __init__(self):\n",
        "#         print(\"In __init__\")\n",
        "\n",
        "# obj = MyClass()\n",
        "# print(obj)\n",
        "# class MyClass:\n",
        "#     def __new__(cls):\n",
        "#         print(\"Creating instance\")\n",
        "#         return super().__new__(cls)\n",
        "\n",
        "#     def __init__(self):\n",
        "#         print(\"Initializing instance\")\n",
        "\n",
        "# obj = MyClass()\n",
        "# print(\"Instance created:\", obj)\n",
        "\n",
        "# debugger dont even enter into the __init (vs-code)\n",
        "class MyClass:\n",
        "    def __new__(cls):\n",
        "        print(\"In __new__\")\n",
        "        return \"Fake object\"\n",
        "    def __init__(self):\n",
        "        print(\"In __init__\")\n",
        "\n",
        "obj = MyClass()\n",
        "print(obj)"
      ],
      "metadata": {
        "colab": {
          "base_uri": "https://localhost:8080/"
        },
        "id": "LIcKUuHJWjxq",
        "outputId": "47439d4b-f5df-47b8-aa42-c8d4980ba71d"
      },
      "execution_count": 17,
      "outputs": [
        {
          "output_type": "stream",
          "name": "stdout",
          "text": [
            "In __new__\n",
            "Fake object\n"
          ]
        }
      ]
    },
    {
      "cell_type": "code",
      "source": [],
      "metadata": {
        "id": "nyiJBMUzWoMm"
      },
      "execution_count": null,
      "outputs": []
    }
  ]
}