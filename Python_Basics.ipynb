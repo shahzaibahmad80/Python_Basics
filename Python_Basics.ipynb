{
  "nbformat": 4,
  "nbformat_minor": 0,
  "metadata": {
    "colab": {
      "provenance": [],
      "authorship_tag": "ABX9TyNARGJuIFrICpgN+FftkV7s",
      "include_colab_link": true
    },
    "kernelspec": {
      "name": "python3",
      "display_name": "Python 3"
    },
    "language_info": {
      "name": "python"
    }
  },
  "cells": [
    {
      "cell_type": "markdown",
      "metadata": {
        "id": "view-in-github",
        "colab_type": "text"
      },
      "source": [
        "<a href=\"https://colab.research.google.com/github/shahzaibahmad80/Python_Basics/blob/main/Python_Basics.ipynb\" target=\"_parent\"><img src=\"https://colab.research.google.com/assets/colab-badge.svg\" alt=\"Open In Colab\"/></a>"
      ]
    },
    {
      "cell_type": "code",
      "execution_count": 1,
      "metadata": {
        "id": "lyHIC3truikC"
      },
      "outputs": [],
      "source": [
        "my_list = [2,3,5,6,7,45,66,78,4,6,3,7,8]"
      ]
    },
    {
      "cell_type": "code",
      "source": [
        "my_list"
      ],
      "metadata": {
        "colab": {
          "base_uri": "https://localhost:8080/"
        },
        "id": "yMPuT1OwutU1",
        "outputId": "4a51cb08-b230-42d1-b244-c45498c641b3"
      },
      "execution_count": 2,
      "outputs": [
        {
          "output_type": "execute_result",
          "data": {
            "text/plain": [
              "[2, 3, 5, 6, 7, 45, 66, 78, 4, 6, 3, 7, 8]"
            ]
          },
          "metadata": {},
          "execution_count": 2
        }
      ]
    },
    {
      "cell_type": "code",
      "source": [
        "my_list"
      ],
      "metadata": {
        "colab": {
          "base_uri": "https://localhost:8080/"
        },
        "id": "ZUUpRNzIuzUc",
        "outputId": "4221988e-7a4d-4932-9b7e-70ac246d8e58"
      },
      "execution_count": 3,
      "outputs": [
        {
          "output_type": "execute_result",
          "data": {
            "text/plain": [
              "[2, 3, 5, 6, 7, 45, 66, 78, 4, 6, 3, 7, 8]"
            ]
          },
          "metadata": {},
          "execution_count": 3
        }
      ]
    },
    {
      "cell_type": "code",
      "source": [
        "my_list[-5:]"
      ],
      "metadata": {
        "colab": {
          "base_uri": "https://localhost:8080/"
        },
        "id": "DCeprKYIu1sU",
        "outputId": "0fd1e31a-3700-49a9-c61b-ce569eeb6833"
      },
      "execution_count": 4,
      "outputs": [
        {
          "output_type": "execute_result",
          "data": {
            "text/plain": [
              "[4, 6, 3, 7, 8]"
            ]
          },
          "metadata": {},
          "execution_count": 4
        }
      ]
    },
    {
      "cell_type": "code",
      "source": [
        "my_new_list = [2,45,80]"
      ],
      "metadata": {
        "id": "oFcsezvpvW6v"
      },
      "execution_count": 5,
      "outputs": []
    },
    {
      "cell_type": "code",
      "source": [
        "my_new_list"
      ],
      "metadata": {
        "colab": {
          "base_uri": "https://localhost:8080/"
        },
        "id": "V--O2VmVv9ES",
        "outputId": "5077d72c-df77-43ba-8fff-518b361bf453"
      },
      "execution_count": 6,
      "outputs": [
        {
          "output_type": "execute_result",
          "data": {
            "text/plain": [
              "[2, 45, 80]"
            ]
          },
          "metadata": {},
          "execution_count": 6
        }
      ]
    },
    {
      "cell_type": "code",
      "source": [
        "my_list.extend(my_new_list)"
      ],
      "metadata": {
        "id": "M7D8b9iSv-es"
      },
      "execution_count": 7,
      "outputs": []
    },
    {
      "cell_type": "code",
      "source": [
        "my_list"
      ],
      "metadata": {
        "colab": {
          "base_uri": "https://localhost:8080/"
        },
        "id": "emNOcmQbwHpT",
        "outputId": "687b04a4-e823-4a42-f499-45323443cac0"
      },
      "execution_count": 8,
      "outputs": [
        {
          "output_type": "execute_result",
          "data": {
            "text/plain": [
              "[2, 3, 5, 6, 7, 45, 66, 78, 4, 6, 3, 7, 8, 2, 45, 80]"
            ]
          },
          "metadata": {},
          "execution_count": 8
        }
      ]
    },
    {
      "cell_type": "code",
      "source": [
        "my_list.append(33,44,55)"
      ],
      "metadata": {
        "colab": {
          "base_uri": "https://localhost:8080/",
          "height": 141
        },
        "id": "x-WM2vRYwTkk",
        "outputId": "fc1f5b0c-60f5-4df9-a5e3-2292885d578d"
      },
      "execution_count": 9,
      "outputs": [
        {
          "output_type": "error",
          "ename": "TypeError",
          "evalue": "list.append() takes exactly one argument (3 given)",
          "traceback": [
            "\u001b[0;31m---------------------------------------------------------------------------\u001b[0m",
            "\u001b[0;31mTypeError\u001b[0m                                 Traceback (most recent call last)",
            "\u001b[0;32m/tmp/ipython-input-9-1554956408.py\u001b[0m in \u001b[0;36m<cell line: 0>\u001b[0;34m()\u001b[0m\n\u001b[0;32m----> 1\u001b[0;31m \u001b[0mmy_list\u001b[0m\u001b[0;34m.\u001b[0m\u001b[0mappend\u001b[0m\u001b[0;34m(\u001b[0m\u001b[0;36m33\u001b[0m\u001b[0;34m,\u001b[0m\u001b[0;36m44\u001b[0m\u001b[0;34m,\u001b[0m\u001b[0;36m55\u001b[0m\u001b[0;34m)\u001b[0m\u001b[0;34m\u001b[0m\u001b[0;34m\u001b[0m\u001b[0m\n\u001b[0m",
            "\u001b[0;31mTypeError\u001b[0m: list.append() takes exactly one argument (3 given)"
          ]
        }
      ]
    },
    {
      "cell_type": "code",
      "source": [
        "my_list"
      ],
      "metadata": {
        "id": "FIx74-vWwblg"
      },
      "execution_count": null,
      "outputs": []
    },
    {
      "cell_type": "code",
      "source": [
        "my_list.insert(5,8)"
      ],
      "metadata": {
        "id": "zY7umqSTwctM"
      },
      "execution_count": null,
      "outputs": []
    },
    {
      "cell_type": "code",
      "source": [
        "my_list"
      ],
      "metadata": {
        "id": "1m8iN65yxWAh"
      },
      "execution_count": null,
      "outputs": []
    },
    {
      "cell_type": "code",
      "source": [
        "my_list.pop(-1)"
      ],
      "metadata": {
        "id": "LAQc-DXbxW58"
      },
      "execution_count": null,
      "outputs": []
    },
    {
      "cell_type": "code",
      "source": [
        "my_list"
      ],
      "metadata": {
        "id": "EcogFbzPxjYz"
      },
      "execution_count": null,
      "outputs": []
    },
    {
      "cell_type": "code",
      "source": [
        "my_list.pop()"
      ],
      "metadata": {
        "id": "tBRj4HLsxoKH"
      },
      "execution_count": null,
      "outputs": []
    },
    {
      "cell_type": "code",
      "source": [
        "my_list"
      ],
      "metadata": {
        "id": "gZJ9AaEoxuKf"
      },
      "execution_count": null,
      "outputs": []
    },
    {
      "cell_type": "code",
      "source": [
        "len(my_list)"
      ],
      "metadata": {
        "id": "x0yT57hnxvgq"
      },
      "execution_count": null,
      "outputs": []
    },
    {
      "cell_type": "code",
      "source": [
        "my_list.remove(45)"
      ],
      "metadata": {
        "id": "12h3v2ZGx7QK"
      },
      "execution_count": null,
      "outputs": []
    },
    {
      "cell_type": "code",
      "source": [
        "my_list.sort()"
      ],
      "metadata": {
        "id": "av7p4e-RyLIA"
      },
      "execution_count": null,
      "outputs": []
    },
    {
      "cell_type": "code",
      "source": [
        "my_list"
      ],
      "metadata": {
        "id": "Mk0K4oofyRik"
      },
      "execution_count": null,
      "outputs": []
    },
    {
      "cell_type": "code",
      "source": [
        "my_list.sorted()"
      ],
      "metadata": {
        "id": "OLaG6O5UySwW"
      },
      "execution_count": null,
      "outputs": []
    },
    {
      "cell_type": "code",
      "source": [
        "sorted(my_list)"
      ],
      "metadata": {
        "id": "-wJBZDbGyXpr"
      },
      "execution_count": null,
      "outputs": []
    },
    {
      "cell_type": "code",
      "source": [
        "reversed(my_list)"
      ],
      "metadata": {
        "id": "65_qMsO5yd7g"
      },
      "execution_count": null,
      "outputs": []
    },
    {
      "cell_type": "code",
      "source": [
        "reverse = reversed(my_list)"
      ],
      "metadata": {
        "id": "Ls9gYElzyhHb"
      },
      "execution_count": null,
      "outputs": []
    },
    {
      "cell_type": "code",
      "source": [
        "reverse"
      ],
      "metadata": {
        "id": "nUYVeH6pynbt"
      },
      "execution_count": null,
      "outputs": []
    },
    {
      "cell_type": "code",
      "source": [
        "print(reverse)"
      ],
      "metadata": {
        "id": "rJBaYfXuyo6B",
        "colab": {
          "base_uri": "https://localhost:8080/",
          "height": 141
        },
        "outputId": "b5f8546a-410f-4348-c50c-b6cd9f551cc4"
      },
      "execution_count": 10,
      "outputs": [
        {
          "output_type": "error",
          "ename": "NameError",
          "evalue": "name 'reverse' is not defined",
          "traceback": [
            "\u001b[0;31m---------------------------------------------------------------------------\u001b[0m",
            "\u001b[0;31mNameError\u001b[0m                                 Traceback (most recent call last)",
            "\u001b[0;32m/tmp/ipython-input-10-1624333309.py\u001b[0m in \u001b[0;36m<cell line: 0>\u001b[0;34m()\u001b[0m\n\u001b[0;32m----> 1\u001b[0;31m \u001b[0mprint\u001b[0m\u001b[0;34m(\u001b[0m\u001b[0mreverse\u001b[0m\u001b[0;34m)\u001b[0m\u001b[0;34m\u001b[0m\u001b[0;34m\u001b[0m\u001b[0m\n\u001b[0m",
            "\u001b[0;31mNameError\u001b[0m: name 'reverse' is not defined"
          ]
        }
      ]
    },
    {
      "cell_type": "code",
      "source": [
        "my_list.reverse()"
      ],
      "metadata": {
        "id": "ZEc_SmlRysK7"
      },
      "execution_count": null,
      "outputs": []
    },
    {
      "cell_type": "code",
      "source": [
        "my_list"
      ],
      "metadata": {
        "id": "dZEA4oKmy10T",
        "colab": {
          "base_uri": "https://localhost:8080/"
        },
        "outputId": "5630b52c-caef-4f33-fee2-351b5163b8f4"
      },
      "execution_count": 11,
      "outputs": [
        {
          "output_type": "execute_result",
          "data": {
            "text/plain": [
              "[2, 3, 5, 6, 7, 45, 66, 78, 4, 6, 3, 7, 8, 2, 45, 80]"
            ]
          },
          "metadata": {},
          "execution_count": 11
        }
      ]
    },
    {
      "cell_type": "code",
      "source": [
        "my_list.clear()"
      ],
      "metadata": {
        "id": "mSRFVuFxy3FZ"
      },
      "execution_count": 12,
      "outputs": []
    },
    {
      "cell_type": "code",
      "source": [
        "my_list"
      ],
      "metadata": {
        "id": "ScNFHmKZzave",
        "colab": {
          "base_uri": "https://localhost:8080/"
        },
        "outputId": "37c34415-ab29-4444-fc5f-fdf0399bb80e"
      },
      "execution_count": 13,
      "outputs": [
        {
          "output_type": "execute_result",
          "data": {
            "text/plain": [
              "[]"
            ]
          },
          "metadata": {},
          "execution_count": 13
        }
      ]
    },
    {
      "cell_type": "markdown",
      "source": [
        "**Tuple**"
      ],
      "metadata": {
        "id": "H1YJQ_unzoOi"
      }
    },
    {
      "cell_type": "code",
      "source": [
        "my_typle = (0, 78, 66, 45, 33, 8, 8, 7, 7, 6, 6, 5, 4, 3, 3, 2, 2)"
      ],
      "metadata": {
        "id": "HncD73D6zcrp"
      },
      "execution_count": 14,
      "outputs": []
    },
    {
      "cell_type": "code",
      "source": [
        "my_typle"
      ],
      "metadata": {
        "id": "xcGvxHGa0JUm",
        "colab": {
          "base_uri": "https://localhost:8080/"
        },
        "outputId": "1b75c1a6-d057-4537-e915-67d36fa3880d"
      },
      "execution_count": 15,
      "outputs": [
        {
          "output_type": "execute_result",
          "data": {
            "text/plain": [
              "(0, 78, 66, 45, 33, 8, 8, 7, 7, 6, 6, 5, 4, 3, 3, 2, 2)"
            ]
          },
          "metadata": {},
          "execution_count": 15
        }
      ]
    },
    {
      "cell_type": "code",
      "source": [
        "my_typle.count(7)"
      ],
      "metadata": {
        "id": "_gdRU4jc0Lr5",
        "colab": {
          "base_uri": "https://localhost:8080/"
        },
        "outputId": "42c4401f-a644-44c0-bf3a-611463aef52d"
      },
      "execution_count": 16,
      "outputs": [
        {
          "output_type": "execute_result",
          "data": {
            "text/plain": [
              "2"
            ]
          },
          "metadata": {},
          "execution_count": 16
        }
      ]
    },
    {
      "cell_type": "code",
      "source": [
        "len(my_typle)"
      ],
      "metadata": {
        "id": "HHm8m5PK0aWn",
        "colab": {
          "base_uri": "https://localhost:8080/"
        },
        "outputId": "a75fc61c-e81c-43a9-821a-b2d9f451465b"
      },
      "execution_count": 17,
      "outputs": [
        {
          "output_type": "execute_result",
          "data": {
            "text/plain": [
              "17"
            ]
          },
          "metadata": {},
          "execution_count": 17
        }
      ]
    },
    {
      "cell_type": "code",
      "source": [
        "my_typle.index(78)"
      ],
      "metadata": {
        "id": "PlneH-Wa0nDE",
        "colab": {
          "base_uri": "https://localhost:8080/"
        },
        "outputId": "3a5b4a09-219e-4e97-97c8-98d4f2669001"
      },
      "execution_count": 18,
      "outputs": [
        {
          "output_type": "execute_result",
          "data": {
            "text/plain": [
              "1"
            ]
          },
          "metadata": {},
          "execution_count": 18
        }
      ]
    },
    {
      "cell_type": "code",
      "source": [
        "my_typle[5]"
      ],
      "metadata": {
        "id": "BO3vndZn1D4N",
        "colab": {
          "base_uri": "https://localhost:8080/"
        },
        "outputId": "fe3c3eb3-8536-4bf7-86ab-38ec3a6ddf0b"
      },
      "execution_count": 19,
      "outputs": [
        {
          "output_type": "execute_result",
          "data": {
            "text/plain": [
              "8"
            ]
          },
          "metadata": {},
          "execution_count": 19
        }
      ]
    },
    {
      "cell_type": "code",
      "source": [
        "my_typle.sorted()"
      ],
      "metadata": {
        "id": "NSsvEPxX1k0x",
        "colab": {
          "base_uri": "https://localhost:8080/",
          "height": 141
        },
        "outputId": "e05eaca2-30a4-4de7-bc60-9f8b21911e90"
      },
      "execution_count": 20,
      "outputs": [
        {
          "output_type": "error",
          "ename": "AttributeError",
          "evalue": "'tuple' object has no attribute 'sorted'",
          "traceback": [
            "\u001b[0;31m---------------------------------------------------------------------------\u001b[0m",
            "\u001b[0;31mAttributeError\u001b[0m                            Traceback (most recent call last)",
            "\u001b[0;32m/tmp/ipython-input-20-697180012.py\u001b[0m in \u001b[0;36m<cell line: 0>\u001b[0;34m()\u001b[0m\n\u001b[0;32m----> 1\u001b[0;31m \u001b[0mmy_typle\u001b[0m\u001b[0;34m.\u001b[0m\u001b[0msorted\u001b[0m\u001b[0;34m(\u001b[0m\u001b[0;34m)\u001b[0m\u001b[0;34m\u001b[0m\u001b[0;34m\u001b[0m\u001b[0m\n\u001b[0m",
            "\u001b[0;31mAttributeError\u001b[0m: 'tuple' object has no attribute 'sorted'"
          ]
        }
      ]
    },
    {
      "cell_type": "code",
      "source": [
        "sorted(my_typle)"
      ],
      "metadata": {
        "id": "33RQNmKc2dfH",
        "colab": {
          "base_uri": "https://localhost:8080/"
        },
        "outputId": "20010ad0-fa09-4463-93ad-43910e879e18"
      },
      "execution_count": 21,
      "outputs": [
        {
          "output_type": "execute_result",
          "data": {
            "text/plain": [
              "[0, 2, 2, 3, 3, 4, 5, 6, 6, 7, 7, 8, 8, 33, 45, 66, 78]"
            ]
          },
          "metadata": {},
          "execution_count": 21
        }
      ]
    },
    {
      "cell_type": "code",
      "source": [],
      "metadata": {
        "id": "EZFOghXd2mV_"
      },
      "execution_count": 21,
      "outputs": []
    },
    {
      "cell_type": "markdown",
      "source": [
        "**Set (built in python data structure)**"
      ],
      "metadata": {
        "id": "ipPbFX7X3RKY"
      }
    },
    {
      "cell_type": "code",
      "source": [
        "my_set = {2,3,5,6,7,45,66,78,4,6,3,7,8}"
      ],
      "metadata": {
        "id": "n-imBzNv3XE1"
      },
      "execution_count": 22,
      "outputs": []
    },
    {
      "cell_type": "code",
      "source": [
        "my_set.add(291)"
      ],
      "metadata": {
        "id": "Nvglnvw93sYG"
      },
      "execution_count": 23,
      "outputs": []
    },
    {
      "cell_type": "code",
      "source": [
        "my_set"
      ],
      "metadata": {
        "id": "la-Zn8T54FG1",
        "colab": {
          "base_uri": "https://localhost:8080/"
        },
        "outputId": "4cfdbe24-0552-4503-c453-2cf1c81c8d02"
      },
      "execution_count": 24,
      "outputs": [
        {
          "output_type": "execute_result",
          "data": {
            "text/plain": [
              "{2, 3, 4, 5, 6, 7, 8, 45, 66, 78, 291}"
            ]
          },
          "metadata": {},
          "execution_count": 24
        }
      ]
    },
    {
      "cell_type": "code",
      "source": [
        "my_set.add(10)"
      ],
      "metadata": {
        "id": "2bvZx1bz4F_4"
      },
      "execution_count": 25,
      "outputs": []
    },
    {
      "cell_type": "code",
      "source": [
        "my_set"
      ],
      "metadata": {
        "id": "JHN91upq4eHt",
        "colab": {
          "base_uri": "https://localhost:8080/"
        },
        "outputId": "d9feb792-f4de-43e4-dcf1-d6563c749300"
      },
      "execution_count": 26,
      "outputs": [
        {
          "output_type": "execute_result",
          "data": {
            "text/plain": [
              "{2, 3, 4, 5, 6, 7, 8, 10, 45, 66, 78, 291}"
            ]
          },
          "metadata": {},
          "execution_count": 26
        }
      ]
    },
    {
      "cell_type": "code",
      "source": [
        "my_set.remove(4)"
      ],
      "metadata": {
        "id": "z3mK-dwv4o5n"
      },
      "execution_count": 27,
      "outputs": []
    },
    {
      "cell_type": "code",
      "source": [
        "my_set"
      ],
      "metadata": {
        "id": "F5idaK0A5FYQ",
        "colab": {
          "base_uri": "https://localhost:8080/"
        },
        "outputId": "f4113d40-ba3e-4d65-cad7-6bd5008fdc87"
      },
      "execution_count": 28,
      "outputs": [
        {
          "output_type": "execute_result",
          "data": {
            "text/plain": [
              "{2, 3, 5, 6, 7, 8, 10, 45, 66, 78, 291}"
            ]
          },
          "metadata": {},
          "execution_count": 28
        }
      ]
    },
    {
      "cell_type": "code",
      "source": [
        "my_set.pop()"
      ],
      "metadata": {
        "id": "QLrHtOKC5I3w",
        "colab": {
          "base_uri": "https://localhost:8080/"
        },
        "outputId": "c7982ae6-4d37-46de-8677-98458a5ba757"
      },
      "execution_count": 29,
      "outputs": [
        {
          "output_type": "execute_result",
          "data": {
            "text/plain": [
              "2"
            ]
          },
          "metadata": {},
          "execution_count": 29
        }
      ]
    },
    {
      "cell_type": "code",
      "source": [
        "my_set"
      ],
      "metadata": {
        "id": "FbPxp9YW5W6m",
        "colab": {
          "base_uri": "https://localhost:8080/"
        },
        "outputId": "cb4c0763-9477-4af8-b454-7660b80b72c3"
      },
      "execution_count": 30,
      "outputs": [
        {
          "output_type": "execute_result",
          "data": {
            "text/plain": [
              "{3, 5, 6, 7, 8, 10, 45, 66, 78, 291}"
            ]
          },
          "metadata": {},
          "execution_count": 30
        }
      ]
    },
    {
      "cell_type": "code",
      "source": [
        "my_set.remove(291)"
      ],
      "metadata": {
        "id": "YbG7s1DL5c7D"
      },
      "execution_count": 31,
      "outputs": []
    },
    {
      "cell_type": "code",
      "source": [
        "my_set"
      ],
      "metadata": {
        "id": "YsHLwv-r5mU0",
        "colab": {
          "base_uri": "https://localhost:8080/"
        },
        "outputId": "a9eb8adf-d355-41a4-b5f3-9ff2a4b32e9d"
      },
      "execution_count": 32,
      "outputs": [
        {
          "output_type": "execute_result",
          "data": {
            "text/plain": [
              "{3, 5, 6, 7, 8, 10, 45, 66, 78}"
            ]
          },
          "metadata": {},
          "execution_count": 32
        }
      ]
    },
    {
      "cell_type": "code",
      "source": [
        "sorted(my_set)"
      ],
      "metadata": {
        "id": "HVoPuqSD5rTb",
        "colab": {
          "base_uri": "https://localhost:8080/"
        },
        "outputId": "6e2a7094-27c8-4c82-b682-5ce66c16dabd"
      },
      "execution_count": 33,
      "outputs": [
        {
          "output_type": "execute_result",
          "data": {
            "text/plain": [
              "[3, 5, 6, 7, 8, 10, 45, 66, 78]"
            ]
          },
          "metadata": {},
          "execution_count": 33
        }
      ]
    },
    {
      "cell_type": "code",
      "source": [
        "reversed(my_set)"
      ],
      "metadata": {
        "id": "VrL8akif5vDY",
        "colab": {
          "base_uri": "https://localhost:8080/",
          "height": 141
        },
        "outputId": "a49fe38c-30e4-4554-e620-c7e659dfae8f"
      },
      "execution_count": 34,
      "outputs": [
        {
          "output_type": "error",
          "ename": "TypeError",
          "evalue": "'set' object is not reversible",
          "traceback": [
            "\u001b[0;31m---------------------------------------------------------------------------\u001b[0m",
            "\u001b[0;31mTypeError\u001b[0m                                 Traceback (most recent call last)",
            "\u001b[0;32m/tmp/ipython-input-34-1812287406.py\u001b[0m in \u001b[0;36m<cell line: 0>\u001b[0;34m()\u001b[0m\n\u001b[0;32m----> 1\u001b[0;31m \u001b[0mreversed\u001b[0m\u001b[0;34m(\u001b[0m\u001b[0mmy_set\u001b[0m\u001b[0;34m)\u001b[0m\u001b[0;34m\u001b[0m\u001b[0;34m\u001b[0m\u001b[0m\n\u001b[0m",
            "\u001b[0;31mTypeError\u001b[0m: 'set' object is not reversible"
          ]
        }
      ]
    },
    {
      "cell_type": "code",
      "source": [
        "my_set.update({100,200,300})"
      ],
      "metadata": {
        "id": "ZF3qg6oK51sW"
      },
      "execution_count": 35,
      "outputs": []
    },
    {
      "cell_type": "code",
      "source": [
        "my_set"
      ],
      "metadata": {
        "id": "gkAMw7Vd6gmx",
        "colab": {
          "base_uri": "https://localhost:8080/"
        },
        "outputId": "dcab0e8d-c87c-4b3c-c2f7-b6ce72b7520c"
      },
      "execution_count": 36,
      "outputs": [
        {
          "output_type": "execute_result",
          "data": {
            "text/plain": [
              "{3, 5, 6, 7, 8, 10, 45, 66, 78, 100, 200, 300}"
            ]
          },
          "metadata": {},
          "execution_count": 36
        }
      ]
    },
    {
      "cell_type": "code",
      "source": [
        "my_set.add(100,900)"
      ],
      "metadata": {
        "id": "UutOX1sQ6i4p",
        "colab": {
          "base_uri": "https://localhost:8080/",
          "height": 141
        },
        "outputId": "76f10479-d386-4022-b85d-104fa0bd605e"
      },
      "execution_count": 37,
      "outputs": [
        {
          "output_type": "error",
          "ename": "TypeError",
          "evalue": "set.add() takes exactly one argument (2 given)",
          "traceback": [
            "\u001b[0;31m---------------------------------------------------------------------------\u001b[0m",
            "\u001b[0;31mTypeError\u001b[0m                                 Traceback (most recent call last)",
            "\u001b[0;32m/tmp/ipython-input-37-4018517872.py\u001b[0m in \u001b[0;36m<cell line: 0>\u001b[0;34m()\u001b[0m\n\u001b[0;32m----> 1\u001b[0;31m \u001b[0mmy_set\u001b[0m\u001b[0;34m.\u001b[0m\u001b[0madd\u001b[0m\u001b[0;34m(\u001b[0m\u001b[0;36m100\u001b[0m\u001b[0;34m,\u001b[0m\u001b[0;36m900\u001b[0m\u001b[0;34m)\u001b[0m\u001b[0;34m\u001b[0m\u001b[0;34m\u001b[0m\u001b[0m\n\u001b[0m",
            "\u001b[0;31mTypeError\u001b[0m: set.add() takes exactly one argument (2 given)"
          ]
        }
      ]
    },
    {
      "cell_type": "markdown",
      "source": [
        "**Dictionary Built in python DS**"
      ],
      "metadata": {
        "id": "6Kxgoxcw6--f"
      }
    },
    {
      "cell_type": "code",
      "source": [
        "my_dict = {'name': \"shahzaib\", 'age': 20, \"Address\": \"Islamabad\" }"
      ],
      "metadata": {
        "id": "0VRR76wZ6rmX"
      },
      "execution_count": 38,
      "outputs": []
    },
    {
      "cell_type": "code",
      "source": [
        "my_dict"
      ],
      "metadata": {
        "id": "fisKg-_R7gmm",
        "colab": {
          "base_uri": "https://localhost:8080/"
        },
        "outputId": "3ae04d60-a26d-4dab-b5b8-2e7999d5fed8"
      },
      "execution_count": 39,
      "outputs": [
        {
          "output_type": "execute_result",
          "data": {
            "text/plain": [
              "{'name': 'shahzaib', 'age': 20, 'Address': 'Islamabad'}"
            ]
          },
          "metadata": {},
          "execution_count": 39
        }
      ]
    },
    {
      "cell_type": "code",
      "source": [
        "my_dict.add('Country',\"USA\")"
      ],
      "metadata": {
        "id": "FIiMykOx7zCb",
        "colab": {
          "base_uri": "https://localhost:8080/",
          "height": 141
        },
        "outputId": "e6a86b58-06f1-4122-bb45-61eec4f7bf89"
      },
      "execution_count": 40,
      "outputs": [
        {
          "output_type": "error",
          "ename": "AttributeError",
          "evalue": "'dict' object has no attribute 'add'",
          "traceback": [
            "\u001b[0;31m---------------------------------------------------------------------------\u001b[0m",
            "\u001b[0;31mAttributeError\u001b[0m                            Traceback (most recent call last)",
            "\u001b[0;32m/tmp/ipython-input-40-1670488387.py\u001b[0m in \u001b[0;36m<cell line: 0>\u001b[0;34m()\u001b[0m\n\u001b[0;32m----> 1\u001b[0;31m \u001b[0mmy_dict\u001b[0m\u001b[0;34m.\u001b[0m\u001b[0madd\u001b[0m\u001b[0;34m(\u001b[0m\u001b[0;34m'Country'\u001b[0m\u001b[0;34m,\u001b[0m\u001b[0;34m\"USA\"\u001b[0m\u001b[0;34m)\u001b[0m\u001b[0;34m\u001b[0m\u001b[0;34m\u001b[0m\u001b[0m\n\u001b[0m",
            "\u001b[0;31mAttributeError\u001b[0m: 'dict' object has no attribute 'add'"
          ]
        }
      ]
    },
    {
      "cell_type": "code",
      "source": [
        "my_dict['Country'] = \"USA\""
      ],
      "metadata": {
        "id": "XxjNj3KS8YGS"
      },
      "execution_count": 41,
      "outputs": []
    },
    {
      "cell_type": "code",
      "source": [
        "my_dict"
      ],
      "metadata": {
        "id": "Ltnatg6h8hGZ",
        "colab": {
          "base_uri": "https://localhost:8080/"
        },
        "outputId": "0d396147-a1d8-43db-b53d-ab444fbc76c7"
      },
      "execution_count": 42,
      "outputs": [
        {
          "output_type": "execute_result",
          "data": {
            "text/plain": [
              "{'name': 'shahzaib', 'age': 20, 'Address': 'Islamabad', 'Country': 'USA'}"
            ]
          },
          "metadata": {},
          "execution_count": 42
        }
      ]
    },
    {
      "cell_type": "code",
      "source": [
        "my_dict.remove('Country')"
      ],
      "metadata": {
        "id": "QsTucf8n8iDn",
        "colab": {
          "base_uri": "https://localhost:8080/",
          "height": 141
        },
        "outputId": "4ce3ad83-9183-4251-e7df-924688753f02"
      },
      "execution_count": 43,
      "outputs": [
        {
          "output_type": "error",
          "ename": "AttributeError",
          "evalue": "'dict' object has no attribute 'remove'",
          "traceback": [
            "\u001b[0;31m---------------------------------------------------------------------------\u001b[0m",
            "\u001b[0;31mAttributeError\u001b[0m                            Traceback (most recent call last)",
            "\u001b[0;32m/tmp/ipython-input-43-4135393171.py\u001b[0m in \u001b[0;36m<cell line: 0>\u001b[0;34m()\u001b[0m\n\u001b[0;32m----> 1\u001b[0;31m \u001b[0mmy_dict\u001b[0m\u001b[0;34m.\u001b[0m\u001b[0mremove\u001b[0m\u001b[0;34m(\u001b[0m\u001b[0;34m'Country'\u001b[0m\u001b[0;34m)\u001b[0m\u001b[0;34m\u001b[0m\u001b[0;34m\u001b[0m\u001b[0m\n\u001b[0m",
            "\u001b[0;31mAttributeError\u001b[0m: 'dict' object has no attribute 'remove'"
          ]
        }
      ]
    },
    {
      "cell_type": "code",
      "source": [
        "my_dict.pop('Country')"
      ],
      "metadata": {
        "id": "FyXk4Z7k9PJN",
        "colab": {
          "base_uri": "https://localhost:8080/",
          "height": 35
        },
        "outputId": "d92c94b2-601c-4ce1-a92d-876f69464448"
      },
      "execution_count": 44,
      "outputs": [
        {
          "output_type": "execute_result",
          "data": {
            "text/plain": [
              "'USA'"
            ],
            "application/vnd.google.colaboratory.intrinsic+json": {
              "type": "string"
            }
          },
          "metadata": {},
          "execution_count": 44
        }
      ]
    },
    {
      "cell_type": "code",
      "source": [
        "my_dict"
      ],
      "metadata": {
        "id": "eZT33Ty-9S6I",
        "colab": {
          "base_uri": "https://localhost:8080/"
        },
        "outputId": "17862c70-6b4b-4bb1-c3a8-72c3e4be1efe"
      },
      "execution_count": 45,
      "outputs": [
        {
          "output_type": "execute_result",
          "data": {
            "text/plain": [
              "{'name': 'shahzaib', 'age': 20, 'Address': 'Islamabad'}"
            ]
          },
          "metadata": {},
          "execution_count": 45
        }
      ]
    },
    {
      "cell_type": "code",
      "source": [
        "sorted(my_dict)"
      ],
      "metadata": {
        "id": "oojc5xms9bV9",
        "colab": {
          "base_uri": "https://localhost:8080/"
        },
        "outputId": "e044939e-7879-4bbd-ca6d-d06c927a21c0"
      },
      "execution_count": 46,
      "outputs": [
        {
          "output_type": "execute_result",
          "data": {
            "text/plain": [
              "['Address', 'age', 'name']"
            ]
          },
          "metadata": {},
          "execution_count": 46
        }
      ]
    },
    {
      "cell_type": "code",
      "source": [
        "my_dict"
      ],
      "metadata": {
        "id": "5vCgrVky-cu8",
        "colab": {
          "base_uri": "https://localhost:8080/"
        },
        "outputId": "5e72bbd4-a56e-4c6c-fede-a03188427262"
      },
      "execution_count": 47,
      "outputs": [
        {
          "output_type": "execute_result",
          "data": {
            "text/plain": [
              "{'name': 'shahzaib', 'age': 20, 'Address': 'Islamabad'}"
            ]
          },
          "metadata": {},
          "execution_count": 47
        }
      ]
    },
    {
      "cell_type": "code",
      "source": [
        "my_new_sorted = sorted(my_dict)"
      ],
      "metadata": {
        "id": "Pm4jBb2y-g4i"
      },
      "execution_count": 48,
      "outputs": []
    },
    {
      "cell_type": "code",
      "source": [
        "my_new_sorted"
      ],
      "metadata": {
        "id": "1eO51aFy-r3o",
        "colab": {
          "base_uri": "https://localhost:8080/"
        },
        "outputId": "3da8e168-cbac-4888-8d09-f16ff8333c32"
      },
      "execution_count": 49,
      "outputs": [
        {
          "output_type": "execute_result",
          "data": {
            "text/plain": [
              "['Address', 'age', 'name']"
            ]
          },
          "metadata": {},
          "execution_count": 49
        }
      ]
    },
    {
      "cell_type": "code",
      "source": [
        "my_dict['city','country'] = \"isb\" , \"pakstan\""
      ],
      "metadata": {
        "id": "8pC-Anqo_LDy"
      },
      "execution_count": 50,
      "outputs": []
    },
    {
      "cell_type": "code",
      "source": [
        "my_dict"
      ],
      "metadata": {
        "id": "WLYB3_M__zK1",
        "colab": {
          "base_uri": "https://localhost:8080/"
        },
        "outputId": "f1747ba8-9246-4ad0-a1f5-9aa7c0fa4933"
      },
      "execution_count": 51,
      "outputs": [
        {
          "output_type": "execute_result",
          "data": {
            "text/plain": [
              "{'name': 'shahzaib',\n",
              " 'age': 20,\n",
              " 'Address': 'Islamabad',\n",
              " ('city', 'country'): ('isb', 'pakstan')}"
            ]
          },
          "metadata": {},
          "execution_count": 51
        }
      ]
    },
    {
      "cell_type": "code",
      "source": [
        "print(my_dict)"
      ],
      "metadata": {
        "id": "OgkcRG_S_0S9",
        "colab": {
          "base_uri": "https://localhost:8080/"
        },
        "outputId": "60439531-4edf-4992-ff1a-f63a2ee55f9b"
      },
      "execution_count": 52,
      "outputs": [
        {
          "output_type": "stream",
          "name": "stdout",
          "text": [
            "{'name': 'shahzaib', 'age': 20, 'Address': 'Islamabad', ('city', 'country'): ('isb', 'pakstan')}\n"
          ]
        }
      ]
    },
    {
      "cell_type": "code",
      "source": [
        "my_dict.update({'city': 'isb', 'country': 'pakistan'})"
      ],
      "metadata": {
        "id": "GKeDbIaT_4Zt"
      },
      "execution_count": 53,
      "outputs": []
    },
    {
      "cell_type": "code",
      "source": [
        "my_dict"
      ],
      "metadata": {
        "id": "ueepe-BBARuy",
        "colab": {
          "base_uri": "https://localhost:8080/"
        },
        "outputId": "1ac11ed9-b56d-4691-a71a-6c01fc7c49d1"
      },
      "execution_count": 54,
      "outputs": [
        {
          "output_type": "execute_result",
          "data": {
            "text/plain": [
              "{'name': 'shahzaib',\n",
              " 'age': 20,\n",
              " 'Address': 'Islamabad',\n",
              " ('city', 'country'): ('isb', 'pakstan'),\n",
              " 'city': 'isb',\n",
              " 'country': 'pakistan'}"
            ]
          },
          "metadata": {},
          "execution_count": 54
        }
      ]
    },
    {
      "cell_type": "code",
      "source": [
        "print(my_dict)"
      ],
      "metadata": {
        "id": "s5LQFrkhATKd",
        "colab": {
          "base_uri": "https://localhost:8080/"
        },
        "outputId": "866aaa27-03ff-48c4-a972-e43883713db7"
      },
      "execution_count": 55,
      "outputs": [
        {
          "output_type": "stream",
          "name": "stdout",
          "text": [
            "{'name': 'shahzaib', 'age': 20, 'Address': 'Islamabad', ('city', 'country'): ('isb', 'pakstan'), 'city': 'isb', 'country': 'pakistan'}\n"
          ]
        }
      ]
    },
    {
      "cell_type": "code",
      "source": [
        "my_dict.pop('city')"
      ],
      "metadata": {
        "id": "R4x7FLooAV5G",
        "colab": {
          "base_uri": "https://localhost:8080/",
          "height": 35
        },
        "outputId": "3c5f6ed2-4393-44e5-a25f-8c5acc0a80e5"
      },
      "execution_count": 56,
      "outputs": [
        {
          "output_type": "execute_result",
          "data": {
            "text/plain": [
              "'isb'"
            ],
            "application/vnd.google.colaboratory.intrinsic+json": {
              "type": "string"
            }
          },
          "metadata": {},
          "execution_count": 56
        }
      ]
    },
    {
      "cell_type": "code",
      "source": [
        "my_dict.pop( ('city', 'country'))"
      ],
      "metadata": {
        "id": "vYWWi-ZxAewL",
        "colab": {
          "base_uri": "https://localhost:8080/"
        },
        "outputId": "fc645d31-3f9e-4ffc-a707-d7d54a50f600"
      },
      "execution_count": 57,
      "outputs": [
        {
          "output_type": "execute_result",
          "data": {
            "text/plain": [
              "('isb', 'pakstan')"
            ]
          },
          "metadata": {},
          "execution_count": 57
        }
      ]
    },
    {
      "cell_type": "code",
      "source": [
        "my_dict"
      ],
      "metadata": {
        "id": "UP_WWOSNCHj7",
        "colab": {
          "base_uri": "https://localhost:8080/"
        },
        "outputId": "56f7deea-8ae9-45af-a424-7b83583376b6"
      },
      "execution_count": 58,
      "outputs": [
        {
          "output_type": "execute_result",
          "data": {
            "text/plain": [
              "{'name': 'shahzaib', 'age': 20, 'Address': 'Islamabad', 'country': 'pakistan'}"
            ]
          },
          "metadata": {},
          "execution_count": 58
        }
      ]
    },
    {
      "cell_type": "code",
      "source": [],
      "metadata": {
        "id": "rnxTAdBsCLjV"
      },
      "execution_count": 58,
      "outputs": []
    },
    {
      "cell_type": "markdown",
      "source": [
        "***`Category of Operations`***\n",
        "1) **Arithmetic Operations**"
      ],
      "metadata": {
        "id": "TY9hNcXfgyVP"
      }
    },
    {
      "cell_type": "code",
      "source": [
        "a = 5\n",
        "b = 4"
      ],
      "metadata": {
        "id": "QQB9JUVtg2YY"
      },
      "execution_count": 59,
      "outputs": []
    },
    {
      "cell_type": "code",
      "source": [
        "a+b"
      ],
      "metadata": {
        "id": "fQ8392Dzg81m",
        "colab": {
          "base_uri": "https://localhost:8080/"
        },
        "outputId": "e2fb9931-82ee-4f81-aa7d-156e6c4d02b3"
      },
      "execution_count": 60,
      "outputs": [
        {
          "output_type": "execute_result",
          "data": {
            "text/plain": [
              "9"
            ]
          },
          "metadata": {},
          "execution_count": 60
        }
      ]
    },
    {
      "cell_type": "code",
      "source": [
        "a - b"
      ],
      "metadata": {
        "id": "QkyOAK7wg9sZ",
        "colab": {
          "base_uri": "https://localhost:8080/"
        },
        "outputId": "a5a14159-65be-4d6c-d3e6-3190cc73b9ae"
      },
      "execution_count": 61,
      "outputs": [
        {
          "output_type": "execute_result",
          "data": {
            "text/plain": [
              "1"
            ]
          },
          "metadata": {},
          "execution_count": 61
        }
      ]
    },
    {
      "cell_type": "code",
      "source": [
        "a * b"
      ],
      "metadata": {
        "id": "-dv5-9K5hESQ",
        "colab": {
          "base_uri": "https://localhost:8080/"
        },
        "outputId": "5cb8125b-1c23-41e7-8f90-3a1829d9fd82"
      },
      "execution_count": 62,
      "outputs": [
        {
          "output_type": "execute_result",
          "data": {
            "text/plain": [
              "20"
            ]
          },
          "metadata": {},
          "execution_count": 62
        }
      ]
    },
    {
      "cell_type": "code",
      "source": [
        "5/4"
      ],
      "metadata": {
        "id": "LQUlmOfUhHJP",
        "colab": {
          "base_uri": "https://localhost:8080/"
        },
        "outputId": "377e43e4-ec37-4f8e-de72-6b0d8a3260a6"
      },
      "execution_count": 63,
      "outputs": [
        {
          "output_type": "execute_result",
          "data": {
            "text/plain": [
              "1.25"
            ]
          },
          "metadata": {},
          "execution_count": 63
        }
      ]
    },
    {
      "cell_type": "code",
      "source": [
        "5//4"
      ],
      "metadata": {
        "id": "56BbYYTWhN6U",
        "colab": {
          "base_uri": "https://localhost:8080/"
        },
        "outputId": "c175323b-07e4-4878-93e0-b4c30b9c54fa"
      },
      "execution_count": 64,
      "outputs": [
        {
          "output_type": "execute_result",
          "data": {
            "text/plain": [
              "1"
            ]
          },
          "metadata": {},
          "execution_count": 64
        }
      ]
    },
    {
      "cell_type": "code",
      "source": [
        "a%b"
      ],
      "metadata": {
        "id": "k4AqeGFChPjE",
        "colab": {
          "base_uri": "https://localhost:8080/"
        },
        "outputId": "77565d18-4b28-4d6c-c385-daacf306097d"
      },
      "execution_count": 65,
      "outputs": [
        {
          "output_type": "execute_result",
          "data": {
            "text/plain": [
              "1"
            ]
          },
          "metadata": {},
          "execution_count": 65
        }
      ]
    },
    {
      "cell_type": "code",
      "source": [
        "a**b"
      ],
      "metadata": {
        "id": "17CxzE8pheVy",
        "colab": {
          "base_uri": "https://localhost:8080/"
        },
        "outputId": "71e6c5e2-7337-47fb-d310-1e5d68dc4ffa"
      },
      "execution_count": 66,
      "outputs": [
        {
          "output_type": "execute_result",
          "data": {
            "text/plain": [
              "625"
            ]
          },
          "metadata": {},
          "execution_count": 66
        }
      ]
    },
    {
      "cell_type": "markdown",
      "source": [
        "**2) Assignment Operations**"
      ],
      "metadata": {
        "id": "P6_XhoDsi4Wt"
      }
    },
    {
      "cell_type": "code",
      "source": [
        "# = 'this one is used to assign the value'\n",
        "x = 3 #assign 3 to x 'read from right to left'"
      ],
      "metadata": {
        "id": "wceyhosrhkXV"
      },
      "execution_count": 67,
      "outputs": []
    },
    {
      "cell_type": "code",
      "source": [
        "x"
      ],
      "metadata": {
        "id": "AAYJT3JNjebX",
        "colab": {
          "base_uri": "https://localhost:8080/"
        },
        "outputId": "2d8555a5-0db8-41f1-dd9f-7cce3760e5d0"
      },
      "execution_count": 68,
      "outputs": [
        {
          "output_type": "execute_result",
          "data": {
            "text/plain": [
              "3"
            ]
          },
          "metadata": {},
          "execution_count": 68
        }
      ]
    },
    {
      "cell_type": "code",
      "source": [
        "x += 9"
      ],
      "metadata": {
        "id": "F7XwwXGuje-H"
      },
      "execution_count": 69,
      "outputs": []
    },
    {
      "cell_type": "code",
      "source": [
        "x"
      ],
      "metadata": {
        "id": "BS7MPev-jl2G",
        "colab": {
          "base_uri": "https://localhost:8080/"
        },
        "outputId": "90b4d249-bad9-4af3-e812-1272b073e15b"
      },
      "execution_count": 70,
      "outputs": [
        {
          "output_type": "execute_result",
          "data": {
            "text/plain": [
              "12"
            ]
          },
          "metadata": {},
          "execution_count": 70
        }
      ]
    },
    {
      "cell_type": "code",
      "source": [
        "x -= 2"
      ],
      "metadata": {
        "id": "X-nDCsthjnEg"
      },
      "execution_count": 71,
      "outputs": []
    },
    {
      "cell_type": "code",
      "source": [
        "x"
      ],
      "metadata": {
        "id": "aip7uM5Qjq8z",
        "colab": {
          "base_uri": "https://localhost:8080/"
        },
        "outputId": "ae698933-a4c1-400a-a7b4-f893bd6d4c46"
      },
      "execution_count": 72,
      "outputs": [
        {
          "output_type": "execute_result",
          "data": {
            "text/plain": [
              "10"
            ]
          },
          "metadata": {},
          "execution_count": 72
        }
      ]
    },
    {
      "cell_type": "code",
      "source": [
        "x /= 3"
      ],
      "metadata": {
        "id": "EG-WwnLPjrTz"
      },
      "execution_count": 73,
      "outputs": []
    },
    {
      "cell_type": "code",
      "source": [
        "x"
      ],
      "metadata": {
        "colab": {
          "base_uri": "https://localhost:8080/"
        },
        "id": "369kVPwyjv4h",
        "outputId": "4e041e78-8bb4-424d-a69f-f0e1a3e59861"
      },
      "execution_count": 74,
      "outputs": [
        {
          "output_type": "execute_result",
          "data": {
            "text/plain": [
              "3.3333333333333335"
            ]
          },
          "metadata": {},
          "execution_count": 74
        }
      ]
    },
    {
      "cell_type": "markdown",
      "source": [
        "**3) Comparision Operations - used to compare the values True/False**"
      ],
      "metadata": {
        "id": "234T0lolj6oh"
      }
    },
    {
      "cell_type": "code",
      "source": [
        "a == b"
      ],
      "metadata": {
        "id": "uh_NcyfnjwRv",
        "colab": {
          "base_uri": "https://localhost:8080/"
        },
        "outputId": "95e3acd8-6584-44d5-ee3d-c2e0702c0aa3"
      },
      "execution_count": 75,
      "outputs": [
        {
          "output_type": "execute_result",
          "data": {
            "text/plain": [
              "False"
            ]
          },
          "metadata": {},
          "execution_count": 75
        }
      ]
    },
    {
      "cell_type": "code",
      "source": [
        "a > b"
      ],
      "metadata": {
        "id": "X9QRVFT8kRoF",
        "colab": {
          "base_uri": "https://localhost:8080/"
        },
        "outputId": "c5299eb9-b8ca-4915-ad74-edb8f94070b0"
      },
      "execution_count": 76,
      "outputs": [
        {
          "output_type": "execute_result",
          "data": {
            "text/plain": [
              "True"
            ]
          },
          "metadata": {},
          "execution_count": 76
        }
      ]
    },
    {
      "cell_type": "code",
      "source": [
        "a < b"
      ],
      "metadata": {
        "colab": {
          "base_uri": "https://localhost:8080/"
        },
        "id": "PzXunrwckS3E",
        "outputId": "bf42bdb2-6f8f-44d2-8d60-37916fe25b1e"
      },
      "execution_count": 77,
      "outputs": [
        {
          "output_type": "execute_result",
          "data": {
            "text/plain": [
              "False"
            ]
          },
          "metadata": {},
          "execution_count": 77
        }
      ]
    },
    {
      "cell_type": "code",
      "source": [
        "a >= b"
      ],
      "metadata": {
        "id": "UJm8eVYjkUIZ",
        "colab": {
          "base_uri": "https://localhost:8080/"
        },
        "outputId": "b2ae8500-f7d7-4b4a-bf31-375d9fb8af0e"
      },
      "execution_count": 78,
      "outputs": [
        {
          "output_type": "execute_result",
          "data": {
            "text/plain": [
              "True"
            ]
          },
          "metadata": {},
          "execution_count": 78
        }
      ]
    },
    {
      "cell_type": "code",
      "source": [
        "a <= b"
      ],
      "metadata": {
        "id": "T9lPGzDfkVZ5",
        "colab": {
          "base_uri": "https://localhost:8080/"
        },
        "outputId": "d0f6dec5-32de-4fe6-c3d6-39da89ffa1e2"
      },
      "execution_count": 79,
      "outputs": [
        {
          "output_type": "execute_result",
          "data": {
            "text/plain": [
              "False"
            ]
          },
          "metadata": {},
          "execution_count": 79
        }
      ]
    },
    {
      "cell_type": "markdown",
      "source": [
        "**4) Logical Operations AND OR NOT (Combine Conditions)**"
      ],
      "metadata": {
        "id": "N8s0m0wUkZsf"
      }
    },
    {
      "cell_type": "code",
      "source": [
        "a"
      ],
      "metadata": {
        "id": "c3ZJ9QnIkWZe",
        "colab": {
          "base_uri": "https://localhost:8080/"
        },
        "outputId": "4782f6ad-1358-4188-8e35-51e84acfaa24"
      },
      "execution_count": 80,
      "outputs": [
        {
          "output_type": "execute_result",
          "data": {
            "text/plain": [
              "5"
            ]
          },
          "metadata": {},
          "execution_count": 80
        }
      ]
    },
    {
      "cell_type": "code",
      "source": [
        "a < 10 and a > 2"
      ],
      "metadata": {
        "id": "fka19agjk1sx",
        "colab": {
          "base_uri": "https://localhost:8080/"
        },
        "outputId": "752739ed-5d75-48fc-ea62-9091bef0b48a"
      },
      "execution_count": 81,
      "outputs": [
        {
          "output_type": "execute_result",
          "data": {
            "text/plain": [
              "True"
            ]
          },
          "metadata": {},
          "execution_count": 81
        }
      ]
    },
    {
      "cell_type": "code",
      "source": [
        "a < 10 and a > 4"
      ],
      "metadata": {
        "id": "7G64I9JNk30f",
        "colab": {
          "base_uri": "https://localhost:8080/"
        },
        "outputId": "00ccd083-8662-44e9-82d8-9f5bd23ae09f"
      },
      "execution_count": 82,
      "outputs": [
        {
          "output_type": "execute_result",
          "data": {
            "text/plain": [
              "True"
            ]
          },
          "metadata": {},
          "execution_count": 82
        }
      ]
    },
    {
      "cell_type": "code",
      "source": [
        "a > 3 and a < 4"
      ],
      "metadata": {
        "id": "oooWI6urlH4G",
        "colab": {
          "base_uri": "https://localhost:8080/"
        },
        "outputId": "a8c67641-c4fe-463b-a45d-98ed60a0ddf7"
      },
      "execution_count": 83,
      "outputs": [
        {
          "output_type": "execute_result",
          "data": {
            "text/plain": [
              "False"
            ]
          },
          "metadata": {},
          "execution_count": 83
        }
      ]
    },
    {
      "cell_type": "code",
      "source": [
        "a > 30 or a < 7"
      ],
      "metadata": {
        "id": "UXhTCHHIlRIy",
        "colab": {
          "base_uri": "https://localhost:8080/"
        },
        "outputId": "25e3f4f6-c02b-4c37-815b-70c7e9ba073b"
      },
      "execution_count": 84,
      "outputs": [
        {
          "output_type": "execute_result",
          "data": {
            "text/plain": [
              "True"
            ]
          },
          "metadata": {},
          "execution_count": 84
        }
      ]
    },
    {
      "cell_type": "code",
      "source": [
        "a == 5"
      ],
      "metadata": {
        "id": "oFn2F721lxfv",
        "colab": {
          "base_uri": "https://localhost:8080/"
        },
        "outputId": "79fa8f5e-d465-4a61-addd-5e09a30af588"
      },
      "execution_count": 85,
      "outputs": [
        {
          "output_type": "execute_result",
          "data": {
            "text/plain": [
              "True"
            ]
          },
          "metadata": {},
          "execution_count": 85
        }
      ]
    },
    {
      "cell_type": "code",
      "source": [
        "not a ==5"
      ],
      "metadata": {
        "id": "x6211RoLl1tx",
        "colab": {
          "base_uri": "https://localhost:8080/"
        },
        "outputId": "7e29eb9c-4d0c-4a6e-9826-f6ed03757c29"
      },
      "execution_count": 86,
      "outputs": [
        {
          "output_type": "execute_result",
          "data": {
            "text/plain": [
              "False"
            ]
          },
          "metadata": {},
          "execution_count": 86
        }
      ]
    },
    {
      "cell_type": "markdown",
      "source": [
        "**5) Bitwise Operations** we dont use it often. (we use them in rare cases) and these works on bits (only with integers)"
      ],
      "metadata": {
        "id": "zxEg9dnXmqbY"
      }
    },
    {
      "cell_type": "markdown",
      "source": [
        "**6) Identity Operations - it checks whether if two variables are the same objects (memory wise)**"
      ],
      "metadata": {
        "id": "R9sw-7yEnHuP"
      }
    },
    {
      "cell_type": "code",
      "source": [
        "# Operators:  'is' > based on condition/situtaion retrun True/False and 'is not'> based on condition/situtaion retrun True/False\n",
        "a = [3,4,5]\n",
        "b = a\n",
        "c = [3,4,5]"
      ],
      "metadata": {
        "id": "xUIddp0hl3aZ"
      },
      "execution_count": 87,
      "outputs": []
    },
    {
      "cell_type": "code",
      "source": [
        "a is b # its true because the object/reference is the same - # True (same object)"
      ],
      "metadata": {
        "id": "dhNCUfP1oNTu",
        "colab": {
          "base_uri": "https://localhost:8080/"
        },
        "outputId": "2462689c-1797-47b5-8128-7b45e0423aa5"
      },
      "execution_count": 88,
      "outputs": [
        {
          "output_type": "execute_result",
          "data": {
            "text/plain": [
              "True"
            ]
          },
          "metadata": {},
          "execution_count": 88
        }
      ]
    },
    {
      "cell_type": "code",
      "source": [
        "a is c # its false because the object/reference is not the same just the values/content is same"
      ],
      "metadata": {
        "id": "DsYQBE1xoWO8",
        "colab": {
          "base_uri": "https://localhost:8080/"
        },
        "outputId": "d6a5f5eb-1350-4155-e76f-f4b4838befa8"
      },
      "execution_count": 89,
      "outputs": [
        {
          "output_type": "execute_result",
          "data": {
            "text/plain": [
              "False"
            ]
          },
          "metadata": {},
          "execution_count": 89
        }
      ]
    },
    {
      "cell_type": "code",
      "source": [
        "c is a # False (same content, different object)"
      ],
      "metadata": {
        "id": "5Md27Bh3oY0D",
        "colab": {
          "base_uri": "https://localhost:8080/"
        },
        "outputId": "043e9970-3138-4eee-d0ee-7d0daf162a3d"
      },
      "execution_count": 90,
      "outputs": [
        {
          "output_type": "execute_result",
          "data": {
            "text/plain": [
              "False"
            ]
          },
          "metadata": {},
          "execution_count": 90
        }
      ]
    },
    {
      "cell_type": "code",
      "source": [
        "a == c # becuase content/values are same"
      ],
      "metadata": {
        "id": "gYZGyAm2oZoS",
        "colab": {
          "base_uri": "https://localhost:8080/"
        },
        "outputId": "f8716c39-b3b9-463a-d381-dcc9b06815d7"
      },
      "execution_count": 91,
      "outputs": [
        {
          "output_type": "execute_result",
          "data": {
            "text/plain": [
              "True"
            ]
          },
          "metadata": {},
          "execution_count": 91
        }
      ]
    },
    {
      "cell_type": "code",
      "source": [
        "c is not a"
      ],
      "metadata": {
        "id": "AaRPXFpqobs5",
        "colab": {
          "base_uri": "https://localhost:8080/"
        },
        "outputId": "7eabf68b-09d9-4fad-f0af-2f6837b75738"
      },
      "execution_count": 92,
      "outputs": [
        {
          "output_type": "execute_result",
          "data": {
            "text/plain": [
              "True"
            ]
          },
          "metadata": {},
          "execution_count": 92
        }
      ]
    },
    {
      "cell_type": "markdown",
      "source": [
        "**7) Membership Operations - Checks if the values exists in a sequence**"
      ],
      "metadata": {
        "id": "VmEmhaB2pDqk"
      }
    },
    {
      "cell_type": "code",
      "source": [
        "''' Operators:  'in' > means'value exist' based on condition/situtaion retrun True/False\n",
        "and 'not in'>means 'value does not exist' based on condition/situtaion retrun True/False'''\n",
        "# making list\n",
        "my_list2 = [2,3,5,6,7,45,66,78,4,6,3,7,8]\n",
        "78 not in my_list2"
      ],
      "metadata": {
        "id": "eui97IF0ouyw",
        "colab": {
          "base_uri": "https://localhost:8080/"
        },
        "outputId": "22782119-bbd9-49d1-802d-cad55efca583"
      },
      "execution_count": 93,
      "outputs": [
        {
          "output_type": "execute_result",
          "data": {
            "text/plain": [
              "False"
            ]
          },
          "metadata": {},
          "execution_count": 93
        }
      ]
    },
    {
      "cell_type": "code",
      "source": [
        "6 in my_list2"
      ],
      "metadata": {
        "id": "0YwFKWiEpxHK",
        "colab": {
          "base_uri": "https://localhost:8080/"
        },
        "outputId": "62f9c1ce-de62-427c-e83c-a6f82ae63015"
      },
      "execution_count": 94,
      "outputs": [
        {
          "output_type": "execute_result",
          "data": {
            "text/plain": [
              "True"
            ]
          },
          "metadata": {},
          "execution_count": 94
        }
      ]
    },
    {
      "cell_type": "code",
      "source": [
        "my_list3 = ['apple' , 'ornage', 'mangoe']"
      ],
      "metadata": {
        "id": "M8aS68I9qKBp"
      },
      "execution_count": 95,
      "outputs": []
    },
    {
      "cell_type": "code",
      "source": [
        "a = 'apple'\n",
        "'p' in a"
      ],
      "metadata": {
        "id": "NpVBzzG8qXaO",
        "colab": {
          "base_uri": "https://localhost:8080/"
        },
        "outputId": "7c3b5939-a91c-4166-9f1e-87265fc518a3"
      },
      "execution_count": 96,
      "outputs": [
        {
          "output_type": "execute_result",
          "data": {
            "text/plain": [
              "True"
            ]
          },
          "metadata": {},
          "execution_count": 96
        }
      ]
    },
    {
      "cell_type": "code",
      "source": [
        "'apple' not in my_list3"
      ],
      "metadata": {
        "id": "tDfL-oltqZbg",
        "colab": {
          "base_uri": "https://localhost:8080/"
        },
        "outputId": "003339be-0918-4422-c377-d3cda0386cc3"
      },
      "execution_count": 97,
      "outputs": [
        {
          "output_type": "execute_result",
          "data": {
            "text/plain": [
              "False"
            ]
          },
          "metadata": {},
          "execution_count": 97
        }
      ]
    },
    {
      "cell_type": "markdown",
      "source": [
        "**Practicing the 'is' and 'is not' on list/tuple/set and dict**"
      ],
      "metadata": {
        "id": "VJOfaiQasWyg"
      }
    },
    {
      "cell_type": "code",
      "source": [
        "new_list= [3,4,5,6,32,534,43,332]\n",
        "new_list1= [3,4,5,6,32,534,43,332]\n",
        "new_list is new_list1"
      ],
      "metadata": {
        "id": "YazC2X-oq49N",
        "colab": {
          "base_uri": "https://localhost:8080/"
        },
        "outputId": "c888ecd3-d2e0-4727-b237-35820572dfb8"
      },
      "execution_count": 98,
      "outputs": [
        {
          "output_type": "execute_result",
          "data": {
            "text/plain": [
              "False"
            ]
          },
          "metadata": {},
          "execution_count": 98
        }
      ]
    },
    {
      "cell_type": "code",
      "source": [
        "new_tuple= (3,4,5,6,32,534,43,332)\n",
        "new_tuple1= (3,4,5,6,32,534,43,332)\n",
        "new_tuple is new_tuple1"
      ],
      "metadata": {
        "colab": {
          "base_uri": "https://localhost:8080/"
        },
        "id": "QFA-vvNmspgL",
        "outputId": "f2292484-f639-472b-d06a-035e265ccf0d"
      },
      "execution_count": 99,
      "outputs": [
        {
          "output_type": "execute_result",
          "data": {
            "text/plain": [
              "False"
            ]
          },
          "metadata": {},
          "execution_count": 99
        }
      ]
    },
    {
      "cell_type": "code",
      "source": [
        "a = 10.5\n",
        "b = 10.5"
      ],
      "metadata": {
        "id": "uZvRI3jds2uR"
      },
      "execution_count": 100,
      "outputs": []
    },
    {
      "cell_type": "code",
      "source": [
        "a is b"
      ],
      "metadata": {
        "colab": {
          "base_uri": "https://localhost:8080/"
        },
        "id": "Ar0zcEXrtSKI",
        "outputId": "1361a5a6-28bb-4d58-c4af-ed6b8c124176"
      },
      "execution_count": 101,
      "outputs": [
        {
          "output_type": "execute_result",
          "data": {
            "text/plain": [
              "False"
            ]
          },
          "metadata": {},
          "execution_count": 101
        }
      ]
    },
    {
      "cell_type": "code",
      "source": [
        "id(b)"
      ],
      "metadata": {
        "colab": {
          "base_uri": "https://localhost:8080/"
        },
        "id": "T_Qmf-1rtUUf",
        "outputId": "5834e0c8-3780-465b-9edb-fbe7ee4b69d2"
      },
      "execution_count": 102,
      "outputs": [
        {
          "output_type": "execute_result",
          "data": {
            "text/plain": [
              "138597887478224"
            ]
          },
          "metadata": {},
          "execution_count": 102
        }
      ]
    },
    {
      "cell_type": "code",
      "source": [
        "id(new_tuple),id(new_tuple1)"
      ],
      "metadata": {
        "colab": {
          "base_uri": "https://localhost:8080/"
        },
        "id": "71GiB6bXtafZ",
        "outputId": "99d91577-ca3f-49c1-8d96-83f21465ce83"
      },
      "execution_count": 103,
      "outputs": [
        {
          "output_type": "execute_result",
          "data": {
            "text/plain": [
              "(138597897810912, 138597897810576)"
            ]
          },
          "metadata": {},
          "execution_count": 103
        }
      ]
    },
    {
      "cell_type": "code",
      "source": [
        "x = ()\n",
        "y = ()\n",
        "x is y"
      ],
      "metadata": {
        "colab": {
          "base_uri": "https://localhost:8080/"
        },
        "id": "qJaIWlootu5M",
        "outputId": "6fc0172f-0aa7-4dbb-e906-9e65c7abc494"
      },
      "execution_count": 104,
      "outputs": [
        {
          "output_type": "execute_result",
          "data": {
            "text/plain": [
              "True"
            ]
          },
          "metadata": {},
          "execution_count": 104
        }
      ]
    },
    {
      "cell_type": "code",
      "source": [
        "c = 258\n",
        "d = 258\n",
        "c is d"
      ],
      "metadata": {
        "colab": {
          "base_uri": "https://localhost:8080/"
        },
        "id": "egrw8gCnuB9_",
        "outputId": "8de26353-902b-487e-9902-b9bfa1392f87"
      },
      "execution_count": 105,
      "outputs": [
        {
          "output_type": "execute_result",
          "data": {
            "text/plain": [
              "False"
            ]
          },
          "metadata": {},
          "execution_count": 105
        }
      ]
    },
    {
      "cell_type": "code",
      "source": [
        "c = 10\n",
        "d = 10\n",
        "c is d"
      ],
      "metadata": {
        "colab": {
          "base_uri": "https://localhost:8080/"
        },
        "id": "q5Y33xfQuovr",
        "outputId": "5d6e27b4-2588-4445-ebd8-b8114a0677fe"
      },
      "execution_count": 106,
      "outputs": [
        {
          "output_type": "execute_result",
          "data": {
            "text/plain": [
              "True"
            ]
          },
          "metadata": {},
          "execution_count": 106
        }
      ]
    },
    {
      "cell_type": "code",
      "source": [
        "c = 256\n",
        "d = 256\n",
        "c is d"
      ],
      "metadata": {
        "colab": {
          "base_uri": "https://localhost:8080/"
        },
        "id": "rEeSzuo0uxls",
        "outputId": "3d80d3b8-5136-4903-81fd-8e0da891e4dc"
      },
      "execution_count": 107,
      "outputs": [
        {
          "output_type": "execute_result",
          "data": {
            "text/plain": [
              "True"
            ]
          },
          "metadata": {},
          "execution_count": 107
        }
      ]
    },
    {
      "cell_type": "code",
      "source": [
        "c = 'apple is fruit'\n",
        "d = 'apple is fruit'\n",
        "c is d"
      ],
      "metadata": {
        "colab": {
          "base_uri": "https://localhost:8080/"
        },
        "id": "QYWTuNyiu086",
        "outputId": "cf8fa157-f69d-4838-c374-917c262b110b"
      },
      "execution_count": 108,
      "outputs": [
        {
          "output_type": "execute_result",
          "data": {
            "text/plain": [
              "False"
            ]
          },
          "metadata": {},
          "execution_count": 108
        }
      ]
    },
    {
      "cell_type": "code",
      "source": [
        "id(c),id(d)"
      ],
      "metadata": {
        "colab": {
          "base_uri": "https://localhost:8080/"
        },
        "id": "1V_JKJo7vTlu",
        "outputId": "cfb2c660-6718-4322-dec7-4d7c2d3ce11c"
      },
      "execution_count": 109,
      "outputs": [
        {
          "output_type": "execute_result",
          "data": {
            "text/plain": [
              "(138597887518448, 138597887510768)"
            ]
          },
          "metadata": {},
          "execution_count": 109
        }
      ]
    },
    {
      "cell_type": "code",
      "source": [
        "c == d"
      ],
      "metadata": {
        "colab": {
          "base_uri": "https://localhost:8080/"
        },
        "id": "nRPSJGfSvW7s",
        "outputId": "d857f6d5-4316-4d28-b2cc-21402a6ca15a"
      },
      "execution_count": 110,
      "outputs": [
        {
          "output_type": "execute_result",
          "data": {
            "text/plain": [
              "True"
            ]
          },
          "metadata": {},
          "execution_count": 110
        }
      ]
    },
    {
      "cell_type": "markdown",
      "source": [
        "**Range() funciton in python**"
      ],
      "metadata": {
        "id": "dDH-3yPoB824"
      }
    },
    {
      "cell_type": "code",
      "source": [
        "my_range = range(15,40,3)"
      ],
      "metadata": {
        "id": "4OLlpaz6B3Lb"
      },
      "execution_count": 111,
      "outputs": []
    },
    {
      "cell_type": "code",
      "source": [
        "my_range"
      ],
      "metadata": {
        "colab": {
          "base_uri": "https://localhost:8080/"
        },
        "id": "0qP59aqfCBh0",
        "outputId": "e43d611b-f41e-4140-f2ad-141934dde64c"
      },
      "execution_count": 112,
      "outputs": [
        {
          "output_type": "execute_result",
          "data": {
            "text/plain": [
              "range(15, 40, 3)"
            ]
          },
          "metadata": {},
          "execution_count": 112
        }
      ]
    },
    {
      "cell_type": "code",
      "source": [
        "for i in my_range:\n",
        "    print(i)"
      ],
      "metadata": {
        "colab": {
          "base_uri": "https://localhost:8080/"
        },
        "id": "WgGoag7MCUBW",
        "outputId": "02068e93-3f5f-41c8-8f6e-2f25eb6597c5"
      },
      "execution_count": 113,
      "outputs": [
        {
          "output_type": "stream",
          "name": "stdout",
          "text": [
            "15\n",
            "18\n",
            "21\n",
            "24\n",
            "27\n",
            "30\n",
            "33\n",
            "36\n",
            "39\n"
          ]
        }
      ]
    },
    {
      "cell_type": "code",
      "source": [],
      "metadata": {
        "id": "lb4k2GaoCTxF"
      },
      "execution_count": 113,
      "outputs": []
    },
    {
      "cell_type": "code",
      "source": [],
      "metadata": {
        "id": "w8ixsF7xCTeV"
      },
      "execution_count": 113,
      "outputs": []
    },
    {
      "cell_type": "markdown",
      "source": [
        "**Comprehensions** Before comprehensions, we wrote longer and less readable code just to create a list or dictionary."
      ],
      "metadata": {
        "id": "s6B3Or2Q_3K5"
      }
    },
    {
      "cell_type": "code",
      "source": [
        "squares = []\n",
        "my_range = range(1, 6)"
      ],
      "metadata": {
        "id": "4rzV5xmQxiR-"
      },
      "execution_count": 114,
      "outputs": []
    },
    {
      "cell_type": "code",
      "source": [
        "x"
      ],
      "metadata": {
        "colab": {
          "base_uri": "https://localhost:8080/"
        },
        "id": "mocePAzxAgiE",
        "outputId": "2e4882df-afd3-4d05-b172-7cfff4f2c267"
      },
      "execution_count": 115,
      "outputs": [
        {
          "output_type": "execute_result",
          "data": {
            "text/plain": [
              "()"
            ]
          },
          "metadata": {},
          "execution_count": 115
        }
      ]
    },
    {
      "cell_type": "code",
      "source": [
        "squares_new = []\n",
        "for i in my_range:\n",
        "  squares_new.append(i**2)"
      ],
      "metadata": {
        "id": "OA_1dQ3TEJCd"
      },
      "execution_count": 116,
      "outputs": []
    },
    {
      "cell_type": "code",
      "source": [
        "squares_new"
      ],
      "metadata": {
        "colab": {
          "base_uri": "https://localhost:8080/"
        },
        "id": "8nCakLsoEV7y",
        "outputId": "5b235267-93a5-45ee-f611-723f47242f8e"
      },
      "execution_count": 117,
      "outputs": [
        {
          "output_type": "execute_result",
          "data": {
            "text/plain": [
              "[1, 4, 9, 16, 25]"
            ]
          },
          "metadata": {},
          "execution_count": 117
        }
      ]
    },
    {
      "cell_type": "markdown",
      "source": [
        "**Reverse the range**"
      ],
      "metadata": {
        "id": "Flp0VKLSKCgP"
      }
    },
    {
      "cell_type": "code",
      "source": [
        "x = range(1,10)\n",
        "for i in x:\n",
        "  print(i)\n"
      ],
      "metadata": {
        "id": "oEXIIK4tEcL3",
        "colab": {
          "base_uri": "https://localhost:8080/"
        },
        "outputId": "26df98cd-2d8d-4787-f802-0f538c8e6580"
      },
      "execution_count": 118,
      "outputs": [
        {
          "output_type": "stream",
          "name": "stdout",
          "text": [
            "1\n",
            "2\n",
            "3\n",
            "4\n",
            "5\n",
            "6\n",
            "7\n",
            "8\n",
            "9\n"
          ]
        }
      ]
    },
    {
      "cell_type": "code",
      "source": [
        "y = range(8,0,-1)\n",
        "for p in y:\n",
        "  print(p)"
      ],
      "metadata": {
        "colab": {
          "base_uri": "https://localhost:8080/"
        },
        "id": "sVKJKo72KQER",
        "outputId": "75426d29-2eb7-4460-bf19-596911264400"
      },
      "execution_count": 119,
      "outputs": [
        {
          "output_type": "stream",
          "name": "stdout",
          "text": [
            "8\n",
            "7\n",
            "6\n",
            "5\n",
            "4\n",
            "3\n",
            "2\n",
            "1\n"
          ]
        }
      ]
    },
    {
      "cell_type": "code",
      "source": [
        "# printing backwards using reversed function\n",
        "x = range(2,10)\n",
        "for i in reversed(x):\n",
        "  print(i)"
      ],
      "metadata": {
        "colab": {
          "base_uri": "https://localhost:8080/"
        },
        "id": "gCWMm756LL-y",
        "outputId": "1d0adfc2-0e4e-4223-c3dd-753419e02e8a"
      },
      "execution_count": 120,
      "outputs": [
        {
          "output_type": "stream",
          "name": "stdout",
          "text": [
            "9\n",
            "8\n",
            "7\n",
            "6\n",
            "5\n",
            "4\n",
            "3\n",
            "2\n"
          ]
        }
      ]
    },
    {
      "cell_type": "markdown",
      "source": [
        "**Comprehensions (Lists/Set/Tuples/Dict)**"
      ],
      "metadata": {
        "id": "drIITIYYOXgp"
      }
    },
    {
      "cell_type": "markdown",
      "source": [
        "comprehension on List"
      ],
      "metadata": {
        "id": "DLXUfm2yOf3r"
      }
    },
    {
      "cell_type": "code",
      "source": [
        "#older way of doing code before the introducing the comprehensions. its less readable and longer.\n",
        "squares23 = [] #making list, to store quares getting the values/digits from using the range\n",
        "x = range(2,10)\n",
        "for i in x:\n",
        "  squares23.append(i**2)\n",
        "print(squares23)"
      ],
      "metadata": {
        "colab": {
          "base_uri": "https://localhost:8080/"
        },
        "id": "Ii1_9gziLuTC",
        "outputId": "53a38235-2eab-44ec-d98c-61458019b999"
      },
      "execution_count": 121,
      "outputs": [
        {
          "output_type": "stream",
          "name": "stdout",
          "text": [
            "[4, 9, 16, 25, 36, 49, 64, 81]\n"
          ]
        }
      ]
    },
    {
      "cell_type": "code",
      "source": [
        "squares"
      ],
      "metadata": {
        "colab": {
          "base_uri": "https://localhost:8080/"
        },
        "id": "9jBHkF4bMg1p",
        "outputId": "057b09fa-f264-4e64-e0fb-479150715b81"
      },
      "execution_count": 122,
      "outputs": [
        {
          "output_type": "execute_result",
          "data": {
            "text/plain": [
              "[]"
            ]
          },
          "metadata": {},
          "execution_count": 122
        }
      ]
    },
    {
      "cell_type": "markdown",
      "source": [
        "###### even numbers examples without comprehensions and with comprehensions\n",
        "\n",
        "\n"
      ],
      "metadata": {
        "id": "VeOTNlMmQs8o"
      }
    },
    {
      "cell_type": "code",
      "source": [
        "# below is an example without comprehension. (longer/more code)\n",
        "even_numbers = [] # list\n",
        "for x in range(2,10):\n",
        "  if x % 2 == 0:\n",
        "    even_numbers.append(x)\n"
      ],
      "metadata": {
        "id": "as1T1ok0PbYW"
      },
      "execution_count": 123,
      "outputs": []
    },
    {
      "cell_type": "code",
      "source": [
        "even_numbers"
      ],
      "metadata": {
        "colab": {
          "base_uri": "https://localhost:8080/"
        },
        "id": "3dDh9oXyQY0D",
        "outputId": "55459eaa-c774-4c86-8077-9bf281b58fb2"
      },
      "execution_count": 124,
      "outputs": [
        {
          "output_type": "execute_result",
          "data": {
            "text/plain": [
              "[2, 4, 6, 8]"
            ]
          },
          "metadata": {},
          "execution_count": 124
        }
      ]
    },
    {
      "cell_type": "code",
      "source": [
        "## below is an example with 'list' comprehension. (shorter/less code)\n",
        "even_numbers_comp = [x**2 for x in range(2,33)if x % 2 == 0]\n",
        "even_numbers_comp"
      ],
      "metadata": {
        "colab": {
          "base_uri": "https://localhost:8080/"
        },
        "id": "Me4fJJDGQbF8",
        "outputId": "8d11b559-e158-4ee9-d97c-9be2a99fec29"
      },
      "execution_count": 125,
      "outputs": [
        {
          "output_type": "execute_result",
          "data": {
            "text/plain": [
              "[4, 16, 36, 64, 100, 144, 196, 256, 324, 400, 484, 576, 676, 784, 900, 1024]"
            ]
          },
          "metadata": {},
          "execution_count": 125
        }
      ]
    },
    {
      "cell_type": "code",
      "source": [
        "# Comprehesnions makes the code shorter and more readable,cleaner and easier to understand\n",
        "squares0921 = [x**2 for x in range(2,10)]"
      ],
      "metadata": {
        "id": "Or1nhD0_M6kv"
      },
      "execution_count": 126,
      "outputs": []
    },
    {
      "cell_type": "code",
      "source": [
        "squares0921"
      ],
      "metadata": {
        "colab": {
          "base_uri": "https://localhost:8080/"
        },
        "id": "KCdzD7ukPQNV",
        "outputId": "ca724b97-3cd4-44d2-99d8-7fdd78b764b8"
      },
      "execution_count": 127,
      "outputs": [
        {
          "output_type": "execute_result",
          "data": {
            "text/plain": [
              "[4, 9, 16, 25, 36, 49, 64, 81]"
            ]
          },
          "metadata": {},
          "execution_count": 127
        }
      ]
    },
    {
      "cell_type": "code",
      "source": [
        "# Comprehensions makes the filtering and mapping easy (same like above)\n",
        "names = [\"Ali\", \"Shahzaib\" ,  \"Asad\", \"Anas\"]\n",
        "Upper_Case_Names  = [name.upper() for name in names if len(name)>3]\n",
        "Upper_Case_Names"
      ],
      "metadata": {
        "colab": {
          "base_uri": "https://localhost:8080/"
        },
        "id": "XzZ-JBBDPTXr",
        "outputId": "8d35286d-fb82-491a-a547-7840928d4596"
      },
      "execution_count": 128,
      "outputs": [
        {
          "output_type": "execute_result",
          "data": {
            "text/plain": [
              "['SHAHZAIB', 'ASAD', 'ANAS']"
            ]
          },
          "metadata": {},
          "execution_count": 128
        }
      ]
    },
    {
      "cell_type": "markdown",
      "source": [
        "**1) LIST Comprehension**"
      ],
      "metadata": {
        "id": "iXVSk2x8XRQa"
      }
    },
    {
      "cell_type": "code",
      "source": [
        "numbers= [3,5,7,8,9]\n",
        "squares= [x**2 for x in numbers]\n",
        "squares"
      ],
      "metadata": {
        "colab": {
          "base_uri": "https://localhost:8080/"
        },
        "id": "a8VdViNfVHu8",
        "outputId": "39c2537e-cb65-4c09-99a4-81f349a2b301"
      },
      "execution_count": 129,
      "outputs": [
        {
          "output_type": "execute_result",
          "data": {
            "text/plain": [
              "[9, 25, 49, 64, 81]"
            ]
          },
          "metadata": {},
          "execution_count": 129
        }
      ]
    },
    {
      "cell_type": "markdown",
      "source": [
        "**2) SET Comprehension (we use this when we want smth'Sqaures'but without duplicates)**"
      ],
      "metadata": {
        "id": "I5sdIzp-XoK1"
      }
    },
    {
      "cell_type": "code",
      "source": [
        "#for set > {expression for item in iterable if condition}\n",
        "nums = [3,4,5,3,4,7,8,9,20]\n",
        "my_newSet = {x**2 for x in nums}\n",
        "my_newSet"
      ],
      "metadata": {
        "colab": {
          "base_uri": "https://localhost:8080/"
        },
        "id": "zcJ0vQj_XgbQ",
        "outputId": "14a59a5d-dbcb-4b8a-b886-29cdac5cd8ef"
      },
      "execution_count": 130,
      "outputs": [
        {
          "output_type": "execute_result",
          "data": {
            "text/plain": [
              "{9, 16, 25, 49, 64, 81, 400}"
            ]
          },
          "metadata": {},
          "execution_count": 130
        }
      ]
    },
    {
      "cell_type": "markdown",
      "source": [
        "**3) DICTIONARY Comprehensions**"
      ],
      "metadata": {
        "id": "OezbFtGUY5QH"
      }
    },
    {
      "cell_type": "code",
      "source": [
        "# exp-1 for dict > {key_expression: value_expression for item in iterable if condition}\n",
        "nums = [2,3,4,5,6]\n",
        "square_dict = {x:x**2 for x in nums if x%2 ==0}\n",
        "square_dict"
      ],
      "metadata": {
        "colab": {
          "base_uri": "https://localhost:8080/"
        },
        "id": "cNAV4ZHdYGK2",
        "outputId": "54a64f31-e3db-4fc0-9b36-b5118154d24b"
      },
      "execution_count": 131,
      "outputs": [
        {
          "output_type": "execute_result",
          "data": {
            "text/plain": [
              "{2: 4, 4: 16, 6: 36}"
            ]
          },
          "metadata": {},
          "execution_count": 131
        }
      ]
    },
    {
      "cell_type": "code",
      "source": [
        "#exp -2\n",
        "#Convert a list of names into a dictionary where keys are names, and values are lengths of those names:\n",
        "names_list = [\"Asad\",\"Ali\",\"Ahmad\",\"Anas\",\"Shahzaib\"]\n",
        "name_lengths= {name:len(name) for name in names_list }\n",
        "name_lengths"
      ],
      "metadata": {
        "colab": {
          "base_uri": "https://localhost:8080/"
        },
        "id": "KnTdDdGKYpeJ",
        "outputId": "58ec67e1-a7ab-4eb9-b5e8-07f7da50cd0a"
      },
      "execution_count": 132,
      "outputs": [
        {
          "output_type": "execute_result",
          "data": {
            "text/plain": [
              "{'Asad': 4, 'Ali': 3, 'Ahmad': 5, 'Anas': 4, 'Shahzaib': 8}"
            ]
          },
          "metadata": {},
          "execution_count": 132
        }
      ]
    },
    {
      "cell_type": "markdown",
      "source": [
        "**Tuple Comprehension - There is no dedicated tuple comprehension in Python.**"
      ],
      "metadata": {
        "id": "WBfKvJO_aKZV"
      }
    },
    {
      "cell_type": "code",
      "source": [
        "#If we try this:\n",
        "t = (x**2 for x in range(5))\n",
        "print(type(t))  # Output: <class 'generator'>\n",
        "#It actually creates a generator, not a tuple."
      ],
      "metadata": {
        "colab": {
          "base_uri": "https://localhost:8080/"
        },
        "id": "a-SwMCZPZ1LB",
        "outputId": "437e6805-e3d1-42dd-b771-0b43027d2a43"
      },
      "execution_count": 133,
      "outputs": [
        {
          "output_type": "stream",
          "name": "stdout",
          "text": [
            "<class 'generator'>\n"
          ]
        }
      ]
    },
    {
      "cell_type": "code",
      "source": [
        "#✅ So how to get a tuple?\n",
        "#We can still build a tuple using list comprehension + tuple() constructor:\n",
        "squares = tuple(x**2 for x in range(5))\n",
        "print(squares)  # Output: (0, 1, 4, 9, 16)"
      ],
      "metadata": {
        "id": "z4JuyABoabFr",
        "colab": {
          "base_uri": "https://localhost:8080/"
        },
        "outputId": "6a874591-8673-4b6d-fb04-e584547b1fd7"
      },
      "execution_count": 134,
      "outputs": [
        {
          "output_type": "stream",
          "name": "stdout",
          "text": [
            "(0, 1, 4, 9, 16)\n"
          ]
        }
      ]
    },
    {
      "cell_type": "markdown",
      "source": [
        "**Lambda Functions ; lambda arguments: expression** - and 'Normal functions'\n",
        "map(),filter(),sort() and reduce()"
      ],
      "metadata": {
        "id": "9XbycQh2ubaL"
      }
    },
    {
      "cell_type": "code",
      "source": [
        "# Normal Functions\n",
        "def square(x):\n",
        "  return x * x\n",
        "square(5)"
      ],
      "metadata": {
        "colab": {
          "base_uri": "https://localhost:8080/"
        },
        "id": "3bgkYcksugEo",
        "outputId": "016db637-cc59-465b-cfbd-fdd80cd961b6"
      },
      "execution_count": 135,
      "outputs": [
        {
          "output_type": "execute_result",
          "data": {
            "text/plain": [
              "25"
            ]
          },
          "metadata": {},
          "execution_count": 135
        }
      ]
    },
    {
      "cell_type": "code",
      "source": [
        "# Lambda Function\n",
        "square_lamba = lambda x: x*x\n",
        "square_lamba(7)"
      ],
      "metadata": {
        "colab": {
          "base_uri": "https://localhost:8080/"
        },
        "id": "sUr1OJwBw1oC",
        "outputId": "87c11f16-4757-4583-c250-4ea1ec57ca35"
      },
      "execution_count": 136,
      "outputs": [
        {
          "output_type": "execute_result",
          "data": {
            "text/plain": [
              "49"
            ]
          },
          "metadata": {},
          "execution_count": 136
        }
      ]
    },
    {
      "cell_type": "markdown",
      "source": [
        "**map() - to perform action on each item in the iterables. 'changes every item'**\n",
        "map() > \"applies a function to each item in a list, and returns a new list with results\""
      ],
      "metadata": {
        "id": "GOs-gcJkdnCH"
      }
    },
    {
      "cell_type": "code",
      "source": [
        "result  = map(lambda x: x*2, [2,3,4])\n",
        "result # it does not display the result/values - so we use the list() to open the box and see the result\n",
        "#list(map(....)) so it converts the map result into a list so we can see and use it."
      ],
      "metadata": {
        "id": "MKp-Bu0Xxeyw",
        "colab": {
          "base_uri": "https://localhost:8080/"
        },
        "outputId": "cd62f5e8-91e0-4c41-c3dd-41e898de44f0"
      },
      "execution_count": 137,
      "outputs": [
        {
          "output_type": "execute_result",
          "data": {
            "text/plain": [
              "<map at 0x7e0dd5cdba30>"
            ]
          },
          "metadata": {},
          "execution_count": 137
        }
      ]
    },
    {
      "cell_type": "code",
      "source": [
        "result"
      ],
      "metadata": {
        "colab": {
          "base_uri": "https://localhost:8080/"
        },
        "id": "bQwodswUeQAk",
        "outputId": "17ad3c13-af9e-473d-fe5d-8c4882798921"
      },
      "execution_count": 138,
      "outputs": [
        {
          "output_type": "execute_result",
          "data": {
            "text/plain": [
              "<map at 0x7e0dd5cdba30>"
            ]
          },
          "metadata": {},
          "execution_count": 138
        }
      ]
    },
    {
      "cell_type": "code",
      "source": [
        "list(result)"
      ],
      "metadata": {
        "colab": {
          "base_uri": "https://localhost:8080/"
        },
        "id": "51nOYpc0fCEJ",
        "outputId": "cc67765b-de34-4fdc-d33a-32e25dac4c77"
      },
      "execution_count": 139,
      "outputs": [
        {
          "output_type": "execute_result",
          "data": {
            "text/plain": [
              "[4, 6, 8]"
            ]
          },
          "metadata": {},
          "execution_count": 139
        }
      ]
    },
    {
      "cell_type": "code",
      "source": [
        "#shopping cart example - addnig the tax (10%tax on each/every item in the cart/list and then returning the new list using lits() func)\n",
        "prices_list = [200,300,400]\n",
        "new_prices= list(map(lambda x : x * 1.10, prices_list))#lambda x : x * 1.10 checks each item in list applies/multiply the 10% tax with each single itme\n",
        "new_prices"
      ],
      "metadata": {
        "colab": {
          "base_uri": "https://localhost:8080/"
        },
        "id": "2Bi0TQc5fEcM",
        "outputId": "01d2b80b-f682-456d-c9b6-45e7aa5b36fc"
      },
      "execution_count": 140,
      "outputs": [
        {
          "output_type": "execute_result",
          "data": {
            "text/plain": [
              "[220.00000000000003, 330.0, 440.00000000000006]"
            ]
          },
          "metadata": {},
          "execution_count": 140
        }
      ]
    },
    {
      "cell_type": "markdown",
      "source": [
        "**filter() - this function keeps/retunrs only values/records that matches the rule or satsify the condition. it simply filters the list and gives us the result.**"
      ],
      "metadata": {
        "id": "p8j6TK10g2VR"
      }
    },
    {
      "cell_type": "code",
      "source": [
        "# we wanted to print the people who are > 18 \"adults\".\n",
        "age_list = [10,2,20,30,40,13]\n",
        "adults = list(filter(lambda x: x > 18, age_list)) # lambda x: x > 18 checks each age like 10 -> false (removes), 2 -> false (removed) 13(removes-false)\n",
        "adults"
      ],
      "metadata": {
        "colab": {
          "base_uri": "https://localhost:8080/"
        },
        "id": "NqJ5EiF2f7r3",
        "outputId": "4baa6f4d-a308-41c7-dd81-b750c8f7a840"
      },
      "execution_count": 141,
      "outputs": [
        {
          "output_type": "execute_result",
          "data": {
            "text/plain": [
              "[20, 30, 40]"
            ]
          },
          "metadata": {},
          "execution_count": 141
        }
      ]
    },
    {
      "cell_type": "markdown",
      "source": [
        "**sort() = this function sorts the items in the list based on given situation**\n",
        "we use this when we want to sort the itme in our own way. like when we wanted to sort a list, but in a special way, like by sorting based on the 'length of word' or based on the 2nd value in a tuple."
      ],
      "metadata": {
        "id": "ZeWxg0LxiKB1"
      }
    },
    {
      "cell_type": "code",
      "source": [
        "# sort list by length of the word\n",
        "# names = [\"ali\", \"asad\", \"shahzaib\",\"anas\"]\n",
        "# sorted_1019 = sorted(names, key= lambda name: len(name))\n",
        "# sorted_1019\n",
        "\n",
        "\n",
        "words = ['banana', 'kiwi', 'apple','Ikram Hussain','a b']\n",
        "sorting_words12 = sorted(words, key = lambda x: len(x))\n",
        "sorting_words12"
      ],
      "metadata": {
        "colab": {
          "base_uri": "https://localhost:8080/"
        },
        "id": "svDGqE0ohhqb",
        "outputId": "002f5171-40f9-4283-8ab4-8e76ac057d7e"
      },
      "execution_count": 156,
      "outputs": [
        {
          "output_type": "execute_result",
          "data": {
            "text/plain": [
              "['a b', 'kiwi', 'apple', 'banana', 'Ikram Hussain']"
            ]
          },
          "metadata": {},
          "execution_count": 156
        }
      ]
    },
    {
      "cell_type": "code",
      "source": [
        "# sosrt list of (name , age) by age\n",
        "people = [('Ali',20),('Asad',40),('Ahmad',24),('Shahzaib',23)]\n",
        "print(people)\n",
        "sorted_people = sorted(people , key= lambda x: x[1])\n",
        "print(sorted_people)"
      ],
      "metadata": {
        "id": "oj3selnnisbT",
        "colab": {
          "base_uri": "https://localhost:8080/"
        },
        "outputId": "621d0cf6-2796-4ec8-9e89-4fbac2a0b9d2"
      },
      "execution_count": 160,
      "outputs": [
        {
          "output_type": "stream",
          "name": "stdout",
          "text": [
            "[('Ali', 20), ('Asad', 40), ('Ahmad', 24), ('Shahzaib', 23)]\n",
            "[('Ali', 20), ('Shahzaib', 23), ('Ahmad', 24), ('Asad', 40)]\n"
          ]
        }
      ]
    },
    {
      "cell_type": "markdown",
      "source": [
        "**reduce() - combine everything into one value. we use this when we wanted to add up or multiply everything in a list to get one single result.**"
      ],
      "metadata": {
        "id": "b971jdZxpKgk"
      }
    },
    {
      "cell_type": "code",
      "source": [
        "# adding all numbers\n",
        "from functools import reduce\n",
        "numbers_list = [10,20,30,4]\n",
        "add_up_all = reduce(lambda x,y : x+y, numbers_list)\n",
        "add_up_all"
      ],
      "metadata": {
        "colab": {
          "base_uri": "https://localhost:8080/"
        },
        "id": "RHVQmLlMogLB",
        "outputId": "9bc03f03-05b2-428d-ea98-5acf875d841e"
      },
      "execution_count": 163,
      "outputs": [
        {
          "output_type": "execute_result",
          "data": {
            "text/plain": [
              "64"
            ]
          },
          "metadata": {},
          "execution_count": 163
        }
      ]
    },
    {
      "cell_type": "code",
      "source": [
        "# adding all numbers - without lambda\n",
        "from functools import reduce\n",
        "def add(x,y):\n",
        "  return x+y\n",
        "total = reduce(add, [1,20,30,200])\n",
        "total"
      ],
      "metadata": {
        "colab": {
          "base_uri": "https://localhost:8080/"
        },
        "id": "0zwSPslTpq9i",
        "outputId": "357263b0-57a7-4dce-9c0f-c7722232901e"
      },
      "execution_count": 166,
      "outputs": [
        {
          "output_type": "execute_result",
          "data": {
            "text/plain": [
              "251"
            ]
          },
          "metadata": {},
          "execution_count": 166
        }
      ]
    },
    {
      "cell_type": "code",
      "source": [],
      "metadata": {
        "id": "q1tuG4Xbquab"
      },
      "execution_count": null,
      "outputs": []
    }
  ]
}